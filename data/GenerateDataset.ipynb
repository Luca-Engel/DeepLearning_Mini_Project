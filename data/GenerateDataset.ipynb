{
 "cells": [
  {
   "cell_type": "markdown",
   "id": "90f6e797-5570-4cd0-a8ad-78858e93ac8e",
   "metadata": {},
   "source": [
    "# Generating audio dataset from existing Huggingface dataset"
   ]
  },
  {
   "cell_type": "markdown",
   "id": "0bea1ecb-c524-4ce4-9756-0738690b12d9",
   "metadata": {},
   "source": [
    "## Download and import dependencies"
   ]
  },
  {
   "cell_type": "code",
   "execution_count": 2,
   "id": "d4806634-2b5f-471b-b43d-3aec0c8b4037",
   "metadata": {},
   "outputs": [],
   "source": [
    "%load_ext autoreload\n",
    "%autoreload 2"
   ]
  },
  {
   "cell_type": "code",
   "execution_count": 3,
   "id": "509d5836-7e1c-482b-bc79-c13e2de07159",
   "metadata": {},
   "outputs": [
    {
     "name": "stdout",
     "output_type": "stream",
     "text": [
      "Requirement already satisfied: torch in /Users/tijuana/miniconda3/envs/modern_nlp/lib/python3.10/site-packages (from -r requirements.txt (line 1)) (2.3.0)\n",
      "Collecting numpy~=1.26.4 (from -r requirements.txt (line 2))\n",
      "  Using cached numpy-1.26.4-cp310-cp310-macosx_11_0_arm64.whl.metadata (61 kB)\n",
      "Requirement already satisfied: datasets~=2.19.0 in /Users/tijuana/miniconda3/envs/modern_nlp/lib/python3.10/site-packages (from -r requirements.txt (line 3)) (2.19.0)\n",
      "Requirement already satisfied: gTTS~=2.5.1 in /Users/tijuana/miniconda3/envs/modern_nlp/lib/python3.10/site-packages (from -r requirements.txt (line 4)) (2.5.1)\n",
      "Requirement already satisfied: pandas in /Users/tijuana/miniconda3/envs/modern_nlp/lib/python3.10/site-packages (from -r requirements.txt (line 5)) (1.5.3)\n",
      "Requirement already satisfied: tqdm~=4.66.2 in /Users/tijuana/miniconda3/envs/modern_nlp/lib/python3.10/site-packages (from -r requirements.txt (line 6)) (4.66.2)\n",
      "Requirement already satisfied: scikit-learn~=1.4.2 in /Users/tijuana/miniconda3/envs/modern_nlp/lib/python3.10/site-packages (from -r requirements.txt (line 7)) (1.4.2)\n",
      "Requirement already satisfied: soundfile~=0.12.1 in /Users/tijuana/miniconda3/envs/modern_nlp/lib/python3.10/site-packages (from -r requirements.txt (line 8)) (0.12.1)\n",
      "Collecting librosa~=0.10.1 (from -r requirements.txt (line 9))\n",
      "  Using cached librosa-0.10.2-py3-none-any.whl.metadata (8.6 kB)\n",
      "Requirement already satisfied: ffmpeg~=1.4 in /Users/tijuana/miniconda3/envs/modern_nlp/lib/python3.10/site-packages (from -r requirements.txt (line 10)) (1.4)\n",
      "Requirement already satisfied: AudioSegment~=0.23.0 in /Users/tijuana/miniconda3/envs/modern_nlp/lib/python3.10/site-packages (from -r requirements.txt (line 11)) (0.23.0)\n",
      "Requirement already satisfied: pydub in /Users/tijuana/miniconda3/envs/modern_nlp/lib/python3.10/site-packages (from -r requirements.txt (line 12)) (0.25.1)\n",
      "Requirement already satisfied: filelock in /Users/tijuana/miniconda3/envs/modern_nlp/lib/python3.10/site-packages (from torch->-r requirements.txt (line 1)) (3.13.1)\n",
      "Requirement already satisfied: typing-extensions>=4.8.0 in /Users/tijuana/miniconda3/envs/modern_nlp/lib/python3.10/site-packages (from torch->-r requirements.txt (line 1)) (4.11.0)\n",
      "Requirement already satisfied: sympy in /Users/tijuana/miniconda3/envs/modern_nlp/lib/python3.10/site-packages (from torch->-r requirements.txt (line 1)) (1.12)\n",
      "Requirement already satisfied: networkx in /Users/tijuana/miniconda3/envs/modern_nlp/lib/python3.10/site-packages (from torch->-r requirements.txt (line 1)) (2.8.8)\n",
      "Requirement already satisfied: jinja2 in /Users/tijuana/miniconda3/envs/modern_nlp/lib/python3.10/site-packages (from torch->-r requirements.txt (line 1)) (3.1.3)\n",
      "Requirement already satisfied: fsspec in /Users/tijuana/miniconda3/envs/modern_nlp/lib/python3.10/site-packages (from torch->-r requirements.txt (line 1)) (2023.10.0)\n",
      "Requirement already satisfied: pyarrow>=12.0.0 in /Users/tijuana/miniconda3/envs/modern_nlp/lib/python3.10/site-packages (from datasets~=2.19.0->-r requirements.txt (line 3)) (14.0.2)\n",
      "Requirement already satisfied: pyarrow-hotfix in /Users/tijuana/miniconda3/envs/modern_nlp/lib/python3.10/site-packages (from datasets~=2.19.0->-r requirements.txt (line 3)) (0.6)\n",
      "Requirement already satisfied: dill<0.3.9,>=0.3.0 in /Users/tijuana/miniconda3/envs/modern_nlp/lib/python3.10/site-packages (from datasets~=2.19.0->-r requirements.txt (line 3)) (0.3.6)\n",
      "Requirement already satisfied: requests>=2.19.0 in /Users/tijuana/miniconda3/envs/modern_nlp/lib/python3.10/site-packages (from datasets~=2.19.0->-r requirements.txt (line 3)) (2.31.0)\n",
      "Requirement already satisfied: xxhash in /Users/tijuana/miniconda3/envs/modern_nlp/lib/python3.10/site-packages (from datasets~=2.19.0->-r requirements.txt (line 3)) (2.0.2)\n",
      "Requirement already satisfied: multiprocess in /Users/tijuana/miniconda3/envs/modern_nlp/lib/python3.10/site-packages (from datasets~=2.19.0->-r requirements.txt (line 3)) (0.70.14)\n",
      "Requirement already satisfied: aiohttp in /Users/tijuana/miniconda3/envs/modern_nlp/lib/python3.10/site-packages (from datasets~=2.19.0->-r requirements.txt (line 3)) (3.9.3)\n",
      "Requirement already satisfied: huggingface-hub>=0.21.2 in /Users/tijuana/miniconda3/envs/modern_nlp/lib/python3.10/site-packages (from datasets~=2.19.0->-r requirements.txt (line 3)) (0.22.2)\n",
      "Requirement already satisfied: packaging in /Users/tijuana/miniconda3/envs/modern_nlp/lib/python3.10/site-packages (from datasets~=2.19.0->-r requirements.txt (line 3)) (23.2)\n",
      "Requirement already satisfied: pyyaml>=5.1 in /Users/tijuana/miniconda3/envs/modern_nlp/lib/python3.10/site-packages (from datasets~=2.19.0->-r requirements.txt (line 3)) (6.0.1)\n",
      "Requirement already satisfied: click<8.2,>=7.1 in /Users/tijuana/miniconda3/envs/modern_nlp/lib/python3.10/site-packages (from gTTS~=2.5.1->-r requirements.txt (line 4)) (8.1.7)\n",
      "Requirement already satisfied: python-dateutil>=2.8.1 in /Users/tijuana/miniconda3/envs/modern_nlp/lib/python3.10/site-packages (from pandas->-r requirements.txt (line 5)) (2.8.2)\n",
      "Requirement already satisfied: pytz>=2020.1 in /Users/tijuana/miniconda3/envs/modern_nlp/lib/python3.10/site-packages (from pandas->-r requirements.txt (line 5)) (2023.3.post1)\n",
      "Requirement already satisfied: scipy>=1.6.0 in /Users/tijuana/miniconda3/envs/modern_nlp/lib/python3.10/site-packages (from scikit-learn~=1.4.2->-r requirements.txt (line 7)) (1.11.4)\n",
      "Requirement already satisfied: joblib>=1.2.0 in /Users/tijuana/miniconda3/envs/modern_nlp/lib/python3.10/site-packages (from scikit-learn~=1.4.2->-r requirements.txt (line 7)) (1.3.2)\n",
      "Requirement already satisfied: threadpoolctl>=2.0.0 in /Users/tijuana/miniconda3/envs/modern_nlp/lib/python3.10/site-packages (from scikit-learn~=1.4.2->-r requirements.txt (line 7)) (3.3.0)\n",
      "Requirement already satisfied: cffi>=1.0 in /Users/tijuana/miniconda3/envs/modern_nlp/lib/python3.10/site-packages (from soundfile~=0.12.1->-r requirements.txt (line 8)) (1.16.0)\n",
      "Requirement already satisfied: audioread>=2.1.9 in /Users/tijuana/miniconda3/envs/modern_nlp/lib/python3.10/site-packages (from librosa~=0.10.1->-r requirements.txt (line 9)) (3.0.1)\n",
      "Requirement already satisfied: decorator>=4.3.0 in /Users/tijuana/miniconda3/envs/modern_nlp/lib/python3.10/site-packages (from librosa~=0.10.1->-r requirements.txt (line 9)) (5.1.1)\n",
      "Requirement already satisfied: numba>=0.51.0 in /Users/tijuana/miniconda3/envs/modern_nlp/lib/python3.10/site-packages (from librosa~=0.10.1->-r requirements.txt (line 9)) (0.59.1)\n",
      "Requirement already satisfied: pooch>=1.1 in /Users/tijuana/miniconda3/envs/modern_nlp/lib/python3.10/site-packages (from librosa~=0.10.1->-r requirements.txt (line 9)) (1.8.1)\n",
      "Requirement already satisfied: soxr>=0.3.2 in /Users/tijuana/miniconda3/envs/modern_nlp/lib/python3.10/site-packages (from librosa~=0.10.1->-r requirements.txt (line 9)) (0.3.7)\n",
      "Requirement already satisfied: lazy-loader>=0.1 in /Users/tijuana/miniconda3/envs/modern_nlp/lib/python3.10/site-packages (from librosa~=0.10.1->-r requirements.txt (line 9)) (0.4)\n",
      "Requirement already satisfied: msgpack>=1.0 in /Users/tijuana/miniconda3/envs/modern_nlp/lib/python3.10/site-packages (from librosa~=0.10.1->-r requirements.txt (line 9)) (1.0.8)\n",
      "Requirement already satisfied: webrtcvad in /Users/tijuana/miniconda3/envs/modern_nlp/lib/python3.10/site-packages (from AudioSegment~=0.23.0->-r requirements.txt (line 11)) (2.0.10)\n",
      "Requirement already satisfied: pycparser in /Users/tijuana/miniconda3/envs/modern_nlp/lib/python3.10/site-packages (from cffi>=1.0->soundfile~=0.12.1->-r requirements.txt (line 8)) (2.21)\n",
      "Requirement already satisfied: aiosignal>=1.1.2 in /Users/tijuana/miniconda3/envs/modern_nlp/lib/python3.10/site-packages (from aiohttp->datasets~=2.19.0->-r requirements.txt (line 3)) (1.2.0)\n",
      "Requirement already satisfied: attrs>=17.3.0 in /Users/tijuana/miniconda3/envs/modern_nlp/lib/python3.10/site-packages (from aiohttp->datasets~=2.19.0->-r requirements.txt (line 3)) (23.1.0)\n",
      "Requirement already satisfied: frozenlist>=1.1.1 in /Users/tijuana/miniconda3/envs/modern_nlp/lib/python3.10/site-packages (from aiohttp->datasets~=2.19.0->-r requirements.txt (line 3)) (1.4.0)\n",
      "Requirement already satisfied: multidict<7.0,>=4.5 in /Users/tijuana/miniconda3/envs/modern_nlp/lib/python3.10/site-packages (from aiohttp->datasets~=2.19.0->-r requirements.txt (line 3)) (6.0.4)\n",
      "Requirement already satisfied: yarl<2.0,>=1.0 in /Users/tijuana/miniconda3/envs/modern_nlp/lib/python3.10/site-packages (from aiohttp->datasets~=2.19.0->-r requirements.txt (line 3)) (1.9.3)\n",
      "Requirement already satisfied: async-timeout<5.0,>=4.0 in /Users/tijuana/miniconda3/envs/modern_nlp/lib/python3.10/site-packages (from aiohttp->datasets~=2.19.0->-r requirements.txt (line 3)) (4.0.3)\n",
      "Requirement already satisfied: llvmlite<0.43,>=0.42.0dev0 in /Users/tijuana/miniconda3/envs/modern_nlp/lib/python3.10/site-packages (from numba>=0.51.0->librosa~=0.10.1->-r requirements.txt (line 9)) (0.42.0)\n",
      "Requirement already satisfied: platformdirs>=2.5.0 in /Users/tijuana/miniconda3/envs/modern_nlp/lib/python3.10/site-packages (from pooch>=1.1->librosa~=0.10.1->-r requirements.txt (line 9)) (4.2.0)\n",
      "Requirement already satisfied: six>=1.5 in /Users/tijuana/miniconda3/envs/modern_nlp/lib/python3.10/site-packages (from python-dateutil>=2.8.1->pandas->-r requirements.txt (line 5)) (1.16.0)\n",
      "Requirement already satisfied: charset-normalizer<4,>=2 in /Users/tijuana/miniconda3/envs/modern_nlp/lib/python3.10/site-packages (from requests>=2.19.0->datasets~=2.19.0->-r requirements.txt (line 3)) (2.0.4)\n",
      "Requirement already satisfied: idna<4,>=2.5 in /Users/tijuana/miniconda3/envs/modern_nlp/lib/python3.10/site-packages (from requests>=2.19.0->datasets~=2.19.0->-r requirements.txt (line 3)) (3.4)\n",
      "Requirement already satisfied: urllib3<3,>=1.21.1 in /Users/tijuana/miniconda3/envs/modern_nlp/lib/python3.10/site-packages (from requests>=2.19.0->datasets~=2.19.0->-r requirements.txt (line 3)) (2.0.7)\n",
      "Requirement already satisfied: certifi>=2017.4.17 in /Users/tijuana/miniconda3/envs/modern_nlp/lib/python3.10/site-packages (from requests>=2.19.0->datasets~=2.19.0->-r requirements.txt (line 3)) (2024.2.2)\n",
      "Requirement already satisfied: MarkupSafe>=2.0 in /Users/tijuana/miniconda3/envs/modern_nlp/lib/python3.10/site-packages (from jinja2->torch->-r requirements.txt (line 1)) (2.1.3)\n",
      "Requirement already satisfied: mpmath>=0.19 in /Users/tijuana/miniconda3/envs/modern_nlp/lib/python3.10/site-packages (from sympy->torch->-r requirements.txt (line 1)) (1.3.0)\n",
      "Using cached numpy-1.26.4-cp310-cp310-macosx_11_0_arm64.whl (14.0 MB)\n",
      "Using cached librosa-0.10.2-py3-none-any.whl (260 kB)\n",
      "Installing collected packages: numpy, librosa\n",
      "  Attempting uninstall: numpy\n",
      "    Found existing installation: numpy 1.22.0\n",
      "    Uninstalling numpy-1.22.0:\n",
      "      Successfully uninstalled numpy-1.22.0\n",
      "  Attempting uninstall: librosa\n",
      "    Found existing installation: librosa 0.10.0\n",
      "    Uninstalling librosa-0.10.0:\n",
      "      Successfully uninstalled librosa-0.10.0\n",
      "\u001b[31mERROR: pip's dependency resolver does not currently take into account all the packages that are installed. This behaviour is the source of the following dependency conflicts.\n",
      "tts 0.22.0 requires numpy==1.22.0; python_version <= \"3.10\", but you have numpy 1.26.4 which is incompatible.\u001b[0m\u001b[31m\n",
      "\u001b[0mSuccessfully installed librosa-0.10.2 numpy-1.26.4\n"
     ]
    }
   ],
   "source": [
    "!pip install -r requirements.txt"
   ]
  },
  {
   "cell_type": "code",
   "execution_count": 69,
   "id": "32257918",
   "metadata": {},
   "outputs": [],
   "source": [
    "#install Tts\n",
    "#!pip install data\n",
    "#!pip install tts\n"
   ]
  },
  {
   "cell_type": "code",
   "execution_count": 8,
   "id": "5042134e-c2d7-446f-b9d2-7be14f17810e",
   "metadata": {},
   "outputs": [],
   "source": [
    "#import dataset_prep\n",
    "import preprocessing.preprocess\n",
    "import pandas as pd"
   ]
  },
  {
   "cell_type": "markdown",
   "id": "d37157bb-2121-48a0-a117-fc222bbeb649",
   "metadata": {},
   "source": [
    "## Download and prepare text dataset"
   ]
  },
  {
   "cell_type": "code",
   "execution_count": 71,
   "id": "a62230e3-d12f-4c97-8737-6563e5e06963",
   "metadata": {},
   "outputs": [],
   "source": [
    "raw_text_dataset = preprocessing.preprocess.load_data_from_dataset(\"ucberkeley-dlab/measuring-hate-speech\")\n"
   ]
  },
  {
   "cell_type": "code",
   "execution_count": 72,
   "id": "392ffc99",
   "metadata": {},
   "outputs": [
    {
     "name": "stdout",
     "output_type": "stream",
     "text": [
      "{'comment_id': [47777, 39773, 47101, 43625, 12538], 'annotator_id': [10873, 2790, 3379, 7365, 488], 'platform': [3, 2, 3, 3, 0], 'sentiment': [0.0, 0.0, 4.0, 2.0, 4.0], 'respect': [0.0, 0.0, 4.0, 3.0, 4.0], 'insult': [0.0, 0.0, 4.0, 2.0, 4.0], 'humiliate': [0.0, 0.0, 4.0, 1.0, 4.0], 'status': [2.0, 2.0, 4.0, 2.0, 4.0], 'dehumanize': [0.0, 0.0, 4.0, 0.0, 4.0], 'violence': [0.0, 0.0, 0.0, 0.0, 4.0], 'genocide': [0.0, 0.0, 0.0, 0.0, 1.0], 'attack_defend': [0.0, 2.0, 4.0, 3.0, 3.0], 'hatespeech': [0.0, 0.0, 2.0, 0.0, 2.0], 'hate_speech_score': [-3.9, -6.52, 0.36, 0.26, 1.54], 'text': ['Yes indeed. She sort of reminds me of the elder lady that played the part in the movie \"Titanic\" who was telling her story!!! And I wouldn\\'t have wanted to cover who I really am!! I would be proud!!!! WE should be proud of our race no matter what it is!!', 'The trans women reading this tweet right now is beautiful', \"Question: These 4 broads who criticize America, what country did they flee to get here? And now they want to make OUR America like THEIR former HELL HOLE. I don't think so!!!!!!!!!!  Let them explain their GRATITUDE for letting them in OUR country.\", 'It is about time for all illegals to go back to their country of origin and keep our freeway open and prevent heavy traffic.', \"For starters bend over the one in pink and kick that ass and pussy to get a taste until she's begging for a dick inside her.\"], 'infitms': [0.81, 0.96, 0.9, 0.81, 0.76], 'outfitms': [1.88, 0.43, 0.74, 0.68, 0.63], 'annotator_severity': [0.36, -0.35, -0.48, 0.86, -0.54], 'std_err': [0.34, 1.0, 0.31, 0.29, 0.51], 'annotator_infitms': [1.35, 0.57, 1.16, 1.18, 0.95], 'annotator_outfitms': [1.23, 0.42, 0.67, 0.87, 1.0], 'hypothesis': [-1.1301777576839678, -1.14697343156313, -0.2073693303116617, -0.05553560451933918, 0.10422515693299486], 'target_race_asian': [True, False, False, False, False], 'target_race_black': [True, False, False, False, False], 'target_race_latinx': [True, False, False, False, False], 'target_race_middle_eastern': [True, False, False, False, False], 'target_race_native_american': [True, False, False, False, False], 'target_race_pacific_islander': [True, False, False, False, False], 'target_race_white': [True, False, False, False, False], 'target_race_other': [False, False, False, False, False], 'target_race': [True, False, False, False, False], 'target_religion_atheist': [False, False, False, False, False], 'target_religion_buddhist': [False, False, False, False, False], 'target_religion_christian': [False, False, False, False, False], 'target_religion_hindu': [False, False, False, False, False], 'target_religion_jewish': [False, False, False, False, False], 'target_religion_mormon': [False, False, False, False, False], 'target_religion_muslim': [False, False, False, False, False], 'target_religion_other': [False, False, False, False, False], 'target_religion': [False, False, False, False, False], 'target_origin_immigrant': [False, False, True, False, False], 'target_origin_migrant_worker': [False, False, False, False, False], 'target_origin_specific_country': [False, False, False, False, False], 'target_origin_undocumented': [False, False, False, True, False], 'target_origin_other': [False, False, False, False, False], 'target_origin': [False, False, True, True, False], 'target_gender_men': [False, False, False, False, False], 'target_gender_non_binary': [False, False, False, False, False], 'target_gender_transgender_men': [False, True, False, False, False], 'target_gender_transgender_unspecified': [False, False, False, False, False], 'target_gender_transgender_women': [False, False, False, False, False], 'target_gender_women': [False, False, False, False, True], 'target_gender_other': [False, False, False, False, False], 'target_gender': [False, True, False, False, True], 'target_sexuality_bisexual': [False, False, False, False, False], 'target_sexuality_gay': [False, False, False, False, False], 'target_sexuality_lesbian': [False, False, False, False, False], 'target_sexuality_straight': [False, False, False, False, False], 'target_sexuality_other': [False, False, False, False, False], 'target_sexuality': [False, False, False, False, False], 'target_age_children': [False, False, False, False, False], 'target_age_teenagers': [False, False, False, False, False], 'target_age_young_adults': [False, False, False, False, False], 'target_age_middle_aged': [False, False, False, False, False], 'target_age_seniors': [False, False, False, False, False], 'target_age_other': [False, False, False, False, False], 'target_age': [False, False, False, False, False], 'target_disability_physical': [False, False, False, False, False], 'target_disability_cognitive': [False, False, False, False, False], 'target_disability_neurological': [False, False, False, False, False], 'target_disability_visually_impaired': [False, False, False, False, False], 'target_disability_hearing_impaired': [False, False, False, False, False], 'target_disability_unspecific': [False, False, False, False, False], 'target_disability_other': [False, False, False, False, False], 'target_disability': [False, False, False, False, False], 'annotator_gender': ['male', 'female', 'male', 'male', 'female'], 'annotator_trans': ['no', 'no', 'no', 'no', 'no'], 'annotator_educ': ['college_grad_ba', 'some_college', 'some_college', 'high_school_grad', 'masters'], 'annotator_income': ['<10k', '<10k', '100k-200k', '10k-50k', '10k-50k'], 'annotator_ideology': ['neutral', 'neutral', 'slightly_conservative', 'neutral', 'neutral'], 'annotator_gender_men': [True, False, True, True, False], 'annotator_gender_women': [False, True, False, False, True], 'annotator_gender_non_binary': [False, False, False, False, False], 'annotator_gender_prefer_not_to_say': [False, False, False, False, False], 'annotator_gender_self_describe': [False, False, False, False, False], 'annotator_transgender': [False, False, False, False, False], 'annotator_cisgender': [True, True, True, True, True], 'annotator_transgender_prefer_not_to_say': [False, False, False, False, False], 'annotator_education_some_high_school': [False, False, False, False, False], 'annotator_education_high_school_grad': [False, False, False, True, False], 'annotator_education_some_college': [False, True, True, False, False], 'annotator_education_college_grad_aa': [False, False, False, False, False], 'annotator_education_college_grad_ba': [True, False, False, False, False], 'annotator_education_professional_degree': [False, False, False, False, False], 'annotator_education_masters': [False, False, False, False, True], 'annotator_education_phd': [False, False, False, False, False], 'annotator_income_<10k': [True, True, False, False, False], 'annotator_income_10k-50k': [False, False, False, True, True], 'annotator_income_50k-100k': [False, False, False, False, False], 'annotator_income_100k-200k': [False, False, True, False, False], 'annotator_income_>200k': [False, False, False, False, False], 'annotator_ideology_extremeley_conservative': [False, False, False, False, False], 'annotator_ideology_conservative': [False, False, False, False, False], 'annotator_ideology_slightly_conservative': [False, False, True, False, False], 'annotator_ideology_neutral': [True, True, False, True, True], 'annotator_ideology_slightly_liberal': [False, False, False, False, False], 'annotator_ideology_liberal': [False, False, False, False, False], 'annotator_ideology_extremeley_liberal': [False, False, False, False, False], 'annotator_ideology_no_opinion': [False, False, False, False, False], 'annotator_race_asian': [False, False, False, False, False], 'annotator_race_black': [False, False, False, False, False], 'annotator_race_latinx': [False, False, False, False, False], 'annotator_race_middle_eastern': [False, False, False, False, False], 'annotator_race_native_american': [False, False, False, False, False], 'annotator_race_pacific_islander': [False, False, False, False, False], 'annotator_race_white': [True, True, True, True, True], 'annotator_race_other': [False, False, False, False, False], 'annotator_age': [25.0, 30.0, 41.0, 42.0, 27.0], 'annotator_religion_atheist': [False, False, False, True, False], 'annotator_religion_buddhist': [False, False, False, False, False], 'annotator_religion_christian': [True, True, False, False, True], 'annotator_religion_hindu': [False, False, False, False, False], 'annotator_religion_jewish': [False, False, False, False, False], 'annotator_religion_mormon': [False, False, False, False, False], 'annotator_religion_muslim': [False, False, False, False, False], 'annotator_religion_nothing': [False, False, True, False, False], 'annotator_religion_other': [False, False, False, False, False], 'annotator_sexuality_bisexual': [False, False, False, False, False], 'annotator_sexuality_gay': [False, False, False, False, False], 'annotator_sexuality_straight': [True, True, True, True, True], 'annotator_sexuality_other': [False, False, False, False, False]}\n"
     ]
    }
   ],
   "source": [
    "print(raw_text_dataset['train'][0:5])"
   ]
  },
  {
   "cell_type": "markdown",
   "id": "f36ba6b6-9989-4d70-b067-d295f21c1b72",
   "metadata": {},
   "source": [
    "A sample's most important keys are 'text' and 'hatespeech'.\n",
    "Here, one sample is shown:"
   ]
  },
  {
   "cell_type": "code",
   "execution_count": 73,
   "id": "f53a8cb6-ec0f-4b88-a60a-98937211ff24",
   "metadata": {},
   "outputs": [
    {
     "name": "stdout",
     "output_type": "stream",
     "text": [
      "        comment_id  annotator_id  platform  sentiment  respect  insult  \\\n",
      "0            47777         10873         3        0.0      0.0     0.0   \n",
      "1            39773          2790         2        0.0      0.0     0.0   \n",
      "2            47101          3379         3        4.0      4.0     4.0   \n",
      "3            43625          7365         3        2.0      3.0     2.0   \n",
      "4            12538           488         0        4.0      4.0     4.0   \n",
      "...            ...           ...       ...        ...      ...     ...   \n",
      "135551       37080          8590         2        1.0      1.0     0.0   \n",
      "135552       22986          8303         2        2.0      0.0     0.0   \n",
      "135553       21008          6207         2        1.0      1.0     1.0   \n",
      "135554       22986          7886         2        2.0      0.0     0.0   \n",
      "135555       14785          6897         0        4.0      4.0     4.0   \n",
      "\n",
      "        humiliate  status  dehumanize  violence  ...  \\\n",
      "0             0.0     2.0         0.0       0.0  ...   \n",
      "1             0.0     2.0         0.0       0.0  ...   \n",
      "2             4.0     4.0         4.0       0.0  ...   \n",
      "3             1.0     2.0         0.0       0.0  ...   \n",
      "4             4.0     4.0         4.0       4.0  ...   \n",
      "...           ...     ...         ...       ...  ...   \n",
      "135551        0.0     2.0         0.0       0.0  ...   \n",
      "135552        0.0     2.0         0.0       0.0  ...   \n",
      "135553        1.0     1.0         0.0       0.0  ...   \n",
      "135554        0.0     2.0         0.0       0.0  ...   \n",
      "135555        2.0     2.0         2.0       3.0  ...   \n",
      "\n",
      "        annotator_religion_hindu  annotator_religion_jewish  \\\n",
      "0                          False                      False   \n",
      "1                          False                      False   \n",
      "2                          False                      False   \n",
      "3                          False                      False   \n",
      "4                          False                      False   \n",
      "...                          ...                        ...   \n",
      "135551                     False                      False   \n",
      "135552                     False                      False   \n",
      "135553                     False                      False   \n",
      "135554                     False                      False   \n",
      "135555                     False                      False   \n",
      "\n",
      "        annotator_religion_mormon  annotator_religion_muslim  \\\n",
      "0                           False                      False   \n",
      "1                           False                      False   \n",
      "2                           False                      False   \n",
      "3                           False                      False   \n",
      "4                           False                      False   \n",
      "...                           ...                        ...   \n",
      "135551                      False                      False   \n",
      "135552                      False                      False   \n",
      "135553                      False                      False   \n",
      "135554                      False                      False   \n",
      "135555                      False                      False   \n",
      "\n",
      "       annotator_religion_nothing  annotator_religion_other  \\\n",
      "0                           False                     False   \n",
      "1                           False                     False   \n",
      "2                            True                     False   \n",
      "3                           False                     False   \n",
      "4                           False                     False   \n",
      "...                           ...                       ...   \n",
      "135551                      False                     False   \n",
      "135552                      False                      True   \n",
      "135553                      False                     False   \n",
      "135554                       True                     False   \n",
      "135555                      False                     False   \n",
      "\n",
      "        annotator_sexuality_bisexual  annotator_sexuality_gay  \\\n",
      "0                              False                    False   \n",
      "1                              False                    False   \n",
      "2                              False                    False   \n",
      "3                              False                    False   \n",
      "4                              False                    False   \n",
      "...                              ...                      ...   \n",
      "135551                         False                    False   \n",
      "135552                          True                    False   \n",
      "135553                         False                    False   \n",
      "135554                         False                    False   \n",
      "135555                         False                    False   \n",
      "\n",
      "        annotator_sexuality_straight  annotator_sexuality_other  \n",
      "0                               True                      False  \n",
      "1                               True                      False  \n",
      "2                               True                      False  \n",
      "3                               True                      False  \n",
      "4                               True                      False  \n",
      "...                              ...                        ...  \n",
      "135551                          True                      False  \n",
      "135552                         False                      False  \n",
      "135553                          True                      False  \n",
      "135554                          True                      False  \n",
      "135555                          True                      False  \n",
      "\n",
      "[135556 rows x 131 columns]\n"
     ]
    }
   ],
   "source": [
    "df = pd.DataFrame.from_dict(raw_text_dataset['train'])\n",
    "\n",
    "print(df)"
   ]
  },
  {
   "cell_type": "code",
   "execution_count": 74,
   "id": "8f0b2c68",
   "metadata": {},
   "outputs": [],
   "source": [
    "#save the raw text dataset to a csv file\n",
    "df.to_csv(\"data/text/data_raw.csv\", index=False)"
   ]
  },
  {
   "cell_type": "code",
   "execution_count": 9,
   "id": "7daaf37d",
   "metadata": {},
   "outputs": [],
   "source": [
    "#load the csv file\n",
    "df = pd.read_csv(\"data/text/data_raw.csv\")"
   ]
  },
  {
   "cell_type": "code",
   "execution_count": 10,
   "id": "608913c9",
   "metadata": {},
   "outputs": [
    {
     "name": "stdout",
     "output_type": "stream",
     "text": [
      "The dataset has 39565 rows.\n"
     ]
    }
   ],
   "source": [
    "#display stats of raw text dataset\n",
    "num_rows = df.shape[0]\n",
    "print(f\"The dataset has {num_rows} rows.\")\n"
   ]
  },
  {
   "cell_type": "code",
   "execution_count": 76,
   "id": "6826b7a0",
   "metadata": {},
   "outputs": [
    {
     "name": "stdout",
     "output_type": "stream",
     "text": [
      "count    135556.000000\n",
      "mean         -0.567428\n",
      "std           2.380003\n",
      "min          -8.340000\n",
      "25%          -2.330000\n",
      "50%          -0.340000\n",
      "75%           1.410000\n",
      "max           6.300000\n",
      "Name: hate_speech_score, dtype: float64\n",
      "Yes indeed. She sort of reminds me of the elder lady that played the part in the movie \"Titanic\" who was telling her story!!! And I wouldn't have wanted to cover who I really am!! I would be proud!!!! WE should be proud of our race no matter what it is!!\n",
      "The trans women reading this tweet right now is beautiful\n",
      "Question: These 4 broads who criticize America, what country did they flee to get here? And now they want to make OUR America like THEIR former HELL HOLE. I don't think so!!!!!!!!!!  Let them explain their GRATITUDE for letting them in OUR country.\n"
     ]
    }
   ],
   "source": [
    "print(df['hate_speech_score'].describe())\n",
    "\n",
    "#print first three texts with the highest hate speech score\n",
    "print(df['text'][0])\n",
    "print(df['text'][1])\n",
    "print(df['text'][2])\n",
    "\n"
   ]
  },
  {
   "cell_type": "code",
   "execution_count": 77,
   "id": "48ad7ad2-2297-4884-b6ea-796f9cb63b3b",
   "metadata": {},
   "outputs": [
    {
     "name": "stdout",
     "output_type": "stream",
     "text": [
      "The dataset has 39565 unique comments.\n"
     ]
    },
    {
     "data": {
      "text/html": [
       "<div>\n",
       "<style scoped>\n",
       "    .dataframe tbody tr th:only-of-type {\n",
       "        vertical-align: middle;\n",
       "    }\n",
       "\n",
       "    .dataframe tbody tr th {\n",
       "        vertical-align: top;\n",
       "    }\n",
       "\n",
       "    .dataframe thead th {\n",
       "        text-align: right;\n",
       "    }\n",
       "</style>\n",
       "<table border=\"1\" class=\"dataframe\">\n",
       "  <thead>\n",
       "    <tr style=\"text-align: right;\">\n",
       "      <th></th>\n",
       "      <th>id</th>\n",
       "      <th>hate_speech_score</th>\n",
       "    </tr>\n",
       "  </thead>\n",
       "  <tbody>\n",
       "    <tr>\n",
       "      <th>count</th>\n",
       "      <td>135556.000000</td>\n",
       "      <td>135556.000000</td>\n",
       "    </tr>\n",
       "    <tr>\n",
       "      <th>mean</th>\n",
       "      <td>23530.416138</td>\n",
       "      <td>-0.567428</td>\n",
       "    </tr>\n",
       "    <tr>\n",
       "      <th>std</th>\n",
       "      <td>12387.194125</td>\n",
       "      <td>2.380003</td>\n",
       "    </tr>\n",
       "    <tr>\n",
       "      <th>min</th>\n",
       "      <td>1.000000</td>\n",
       "      <td>-8.340000</td>\n",
       "    </tr>\n",
       "    <tr>\n",
       "      <th>25%</th>\n",
       "      <td>18148.000000</td>\n",
       "      <td>-2.330000</td>\n",
       "    </tr>\n",
       "    <tr>\n",
       "      <th>50%</th>\n",
       "      <td>20052.000000</td>\n",
       "      <td>-0.340000</td>\n",
       "    </tr>\n",
       "    <tr>\n",
       "      <th>75%</th>\n",
       "      <td>32038.250000</td>\n",
       "      <td>1.410000</td>\n",
       "    </tr>\n",
       "    <tr>\n",
       "      <th>max</th>\n",
       "      <td>50070.000000</td>\n",
       "      <td>6.300000</td>\n",
       "    </tr>\n",
       "  </tbody>\n",
       "</table>\n",
       "</div>"
      ],
      "text/plain": [
       "                  id  hate_speech_score\n",
       "count  135556.000000      135556.000000\n",
       "mean    23530.416138          -0.567428\n",
       "std     12387.194125           2.380003\n",
       "min         1.000000          -8.340000\n",
       "25%     18148.000000          -2.330000\n",
       "50%     20052.000000          -0.340000\n",
       "75%     32038.250000           1.410000\n",
       "max     50070.000000           6.300000"
      ]
     },
     "execution_count": 77,
     "metadata": {},
     "output_type": "execute_result"
    }
   ],
   "source": [
    "\n",
    "# Assuming raw_text_dataset is a dictionary-like object with columns like 'text' and 'hate_speech_score'\n",
    "data = {\n",
    "    'id': df['comment_id'],\n",
    "    'text': df['text'],\n",
    "    'hate_speech_score': df['hate_speech_score']\n",
    "}\n",
    "\n",
    "# count how many tuples exist with different text \n",
    "comment_ids = data['id']\n",
    "comment_ids = set(comment_ids)\n",
    "num_comments = len(comment_ids)\n",
    "print(f\"The dataset has {num_comments} unique comments.\")\n",
    "\n",
    "data_original = pd.DataFrame(data)\n",
    "data_original.describe()"
   ]
  },
  {
   "cell_type": "markdown",
   "id": "ab1b6420",
   "metadata": {},
   "source": [
    "***The structure original of the dataset is the following:***\n",
    "\n",
    "\n",
    "\n",
    "hate_speech_score - continuous hate speech measure, where higher = more hateful and lower = less hateful. > 0.5 is approximately hate speech, < -1 is counter or supportive speech, and -1 to +0.5 is neutral or ambiguous.\n",
    "\n",
    "The hatespeech score is the calculated as the follwing and is unique to the id of the annotation but not the the annotator the annotation was made by.\n",
    "IRT adjustment by estimating variation in annotator interpretation of the labeling guidelines."
   ]
  },
  {
   "cell_type": "code",
   "execution_count": 78,
   "id": "87d61bb6",
   "metadata": {},
   "outputs": [
    {
     "data": {
      "text/html": [
       "<div>\n",
       "<style scoped>\n",
       "    .dataframe tbody tr th:only-of-type {\n",
       "        vertical-align: middle;\n",
       "    }\n",
       "\n",
       "    .dataframe tbody tr th {\n",
       "        vertical-align: top;\n",
       "    }\n",
       "\n",
       "    .dataframe thead th {\n",
       "        text-align: right;\n",
       "    }\n",
       "</style>\n",
       "<table border=\"1\" class=\"dataframe\">\n",
       "  <thead>\n",
       "    <tr style=\"text-align: right;\">\n",
       "      <th></th>\n",
       "      <th>id</th>\n",
       "      <th>hate_speech_score</th>\n",
       "    </tr>\n",
       "  </thead>\n",
       "  <tbody>\n",
       "    <tr>\n",
       "      <th>count</th>\n",
       "      <td>39565.000000</td>\n",
       "      <td>39565.000000</td>\n",
       "    </tr>\n",
       "    <tr>\n",
       "      <th>mean</th>\n",
       "      <td>25064.175028</td>\n",
       "      <td>-0.943911</td>\n",
       "    </tr>\n",
       "    <tr>\n",
       "      <th>std</th>\n",
       "      <td>14573.790336</td>\n",
       "      <td>2.073087</td>\n",
       "    </tr>\n",
       "    <tr>\n",
       "      <th>min</th>\n",
       "      <td>1.000000</td>\n",
       "      <td>-8.340000</td>\n",
       "    </tr>\n",
       "    <tr>\n",
       "      <th>25%</th>\n",
       "      <td>12336.000000</td>\n",
       "      <td>-2.330000</td>\n",
       "    </tr>\n",
       "    <tr>\n",
       "      <th>50%</th>\n",
       "      <td>24986.000000</td>\n",
       "      <td>-0.700000</td>\n",
       "    </tr>\n",
       "    <tr>\n",
       "      <th>75%</th>\n",
       "      <td>37837.000000</td>\n",
       "      <td>0.570000</td>\n",
       "    </tr>\n",
       "    <tr>\n",
       "      <th>max</th>\n",
       "      <td>50070.000000</td>\n",
       "      <td>6.300000</td>\n",
       "    </tr>\n",
       "  </tbody>\n",
       "</table>\n",
       "</div>"
      ],
      "text/plain": [
       "                 id  hate_speech_score\n",
       "count  39565.000000       39565.000000\n",
       "mean   25064.175028          -0.943911\n",
       "std    14573.790336           2.073087\n",
       "min        1.000000          -8.340000\n",
       "25%    12336.000000          -2.330000\n",
       "50%    24986.000000          -0.700000\n",
       "75%    37837.000000           0.570000\n",
       "max    50070.000000           6.300000"
      ]
     },
     "execution_count": 78,
     "metadata": {},
     "output_type": "execute_result"
    }
   ],
   "source": [
    "# Drop duplicates based on the 'comment_id' column\n",
    "data_unique_comment_id = df.drop_duplicates(subset=['comment_id'])\n",
    "\n",
    "# Reset the index of the DataFrame\n",
    "data_unique_comment_id.reset_index(drop=True, inplace=True)\n",
    "\n",
    "# Assuming raw_text_dataset is a dictionary-like object with columns like 'text' and 'hate_speech_score'\n",
    "data = {\n",
    "    'id': data_unique_comment_id['comment_id'],\n",
    "    'text': data_unique_comment_id['text'],\n",
    "    'hate_speech_score': data_unique_comment_id['hate_speech_score']\n",
    "}\n",
    "\n",
    "# count how many tuples exist with different text \n",
    "data_df = pd.DataFrame(data)\n",
    "data_df.describe()"
   ]
  },
  {
   "cell_type": "code",
   "execution_count": 20,
   "id": "dd9837c7",
   "metadata": {},
   "outputs": [],
   "source": [
    "#load the csv file  \n",
    "data_df = pd.read_csv(\"data/text/data.csv\")\n",
    "\n",
    "#remove id and make the first row as id\n",
    "data_df = data_df.drop(columns=['id'])\n",
    "\n",
    "\n",
    " "
   ]
  },
  {
   "cell_type": "code",
   "execution_count": 21,
   "id": "91403b61",
   "metadata": {},
   "outputs": [
    {
     "data": {
      "text/html": [
       "<div>\n",
       "<style scoped>\n",
       "    .dataframe tbody tr th:only-of-type {\n",
       "        vertical-align: middle;\n",
       "    }\n",
       "\n",
       "    .dataframe tbody tr th {\n",
       "        vertical-align: top;\n",
       "    }\n",
       "\n",
       "    .dataframe thead th {\n",
       "        text-align: right;\n",
       "    }\n",
       "</style>\n",
       "<table border=\"1\" class=\"dataframe\">\n",
       "  <thead>\n",
       "    <tr style=\"text-align: right;\">\n",
       "      <th></th>\n",
       "      <th>text</th>\n",
       "      <th>hate_speech_score</th>\n",
       "      <th>hate_speech_label</th>\n",
       "    </tr>\n",
       "  </thead>\n",
       "  <tbody>\n",
       "    <tr>\n",
       "      <th>0</th>\n",
       "      <td>Yes indeed. She sort of reminds me of the elde...</td>\n",
       "      <td>-3.90</td>\n",
       "      <td>supportive</td>\n",
       "    </tr>\n",
       "    <tr>\n",
       "      <th>1</th>\n",
       "      <td>The trans women reading this tweet right now i...</td>\n",
       "      <td>-6.52</td>\n",
       "      <td>supportive</td>\n",
       "    </tr>\n",
       "    <tr>\n",
       "      <th>2</th>\n",
       "      <td>Question: These 4 broads who criticize America...</td>\n",
       "      <td>0.36</td>\n",
       "      <td>neutral</td>\n",
       "    </tr>\n",
       "    <tr>\n",
       "      <th>3</th>\n",
       "      <td>It is about time for all illegals to go back t...</td>\n",
       "      <td>0.26</td>\n",
       "      <td>neutral</td>\n",
       "    </tr>\n",
       "    <tr>\n",
       "      <th>4</th>\n",
       "      <td>For starters bend over the one in pink and kic...</td>\n",
       "      <td>1.54</td>\n",
       "      <td>hate</td>\n",
       "    </tr>\n",
       "  </tbody>\n",
       "</table>\n",
       "</div>"
      ],
      "text/plain": [
       "                                                text  hate_speech_score  \\\n",
       "0  Yes indeed. She sort of reminds me of the elde...              -3.90   \n",
       "1  The trans women reading this tweet right now i...              -6.52   \n",
       "2  Question: These 4 broads who criticize America...               0.36   \n",
       "3  It is about time for all illegals to go back t...               0.26   \n",
       "4  For starters bend over the one in pink and kic...               1.54   \n",
       "\n",
       "  hate_speech_label  \n",
       "0        supportive  \n",
       "1        supportive  \n",
       "2           neutral  \n",
       "3           neutral  \n",
       "4              hate  "
      ]
     },
     "execution_count": 21,
     "metadata": {},
     "output_type": "execute_result"
    }
   ],
   "source": [
    "data_df.head()"
   ]
  },
  {
   "cell_type": "code",
   "execution_count": 22,
   "id": "2decf253",
   "metadata": {},
   "outputs": [
    {
     "data": {
      "text/html": [
       "<div>\n",
       "<style scoped>\n",
       "    .dataframe tbody tr th:only-of-type {\n",
       "        vertical-align: middle;\n",
       "    }\n",
       "\n",
       "    .dataframe tbody tr th {\n",
       "        vertical-align: top;\n",
       "    }\n",
       "\n",
       "    .dataframe thead th {\n",
       "        text-align: right;\n",
       "    }\n",
       "</style>\n",
       "<table border=\"1\" class=\"dataframe\">\n",
       "  <thead>\n",
       "    <tr style=\"text-align: right;\">\n",
       "      <th></th>\n",
       "      <th>text</th>\n",
       "      <th>hate_speech_score</th>\n",
       "      <th>hate_speech_label</th>\n",
       "    </tr>\n",
       "    <tr>\n",
       "      <th>id</th>\n",
       "      <th></th>\n",
       "      <th></th>\n",
       "      <th></th>\n",
       "    </tr>\n",
       "  </thead>\n",
       "  <tbody>\n",
       "    <tr>\n",
       "      <th>0</th>\n",
       "      <td>Yes indeed. She sort of reminds me of the elde...</td>\n",
       "      <td>-3.90</td>\n",
       "      <td>supportive</td>\n",
       "    </tr>\n",
       "    <tr>\n",
       "      <th>1</th>\n",
       "      <td>The trans women reading this tweet right now i...</td>\n",
       "      <td>-6.52</td>\n",
       "      <td>supportive</td>\n",
       "    </tr>\n",
       "    <tr>\n",
       "      <th>2</th>\n",
       "      <td>Question: These 4 broads who criticize America...</td>\n",
       "      <td>0.36</td>\n",
       "      <td>neutral</td>\n",
       "    </tr>\n",
       "    <tr>\n",
       "      <th>3</th>\n",
       "      <td>It is about time for all illegals to go back t...</td>\n",
       "      <td>0.26</td>\n",
       "      <td>neutral</td>\n",
       "    </tr>\n",
       "    <tr>\n",
       "      <th>4</th>\n",
       "      <td>For starters bend over the one in pink and kic...</td>\n",
       "      <td>1.54</td>\n",
       "      <td>hate</td>\n",
       "    </tr>\n",
       "    <tr>\n",
       "      <th>5</th>\n",
       "      <td>Sounds like the kinda wholsesome life I'd die ...</td>\n",
       "      <td>-4.93</td>\n",
       "      <td>supportive</td>\n",
       "    </tr>\n",
       "    <tr>\n",
       "      <th>6</th>\n",
       "      <td>Who the fuck is this insignificant simple mind...</td>\n",
       "      <td>0.17</td>\n",
       "      <td>neutral</td>\n",
       "    </tr>\n",
       "    <tr>\n",
       "      <th>7</th>\n",
       "      <td>Fuck off you insufferable retarded faggot.</td>\n",
       "      <td>2.08</td>\n",
       "      <td>hate</td>\n",
       "    </tr>\n",
       "    <tr>\n",
       "      <th>8</th>\n",
       "      <td>OMG! The EGO's of these young, young, inexperi...</td>\n",
       "      <td>-0.66</td>\n",
       "      <td>supportive</td>\n",
       "    </tr>\n",
       "    <tr>\n",
       "      <th>9</th>\n",
       "      <td>Worthless whore, these tits with look nice wit...</td>\n",
       "      <td>-0.38</td>\n",
       "      <td>supportive</td>\n",
       "    </tr>\n",
       "    <tr>\n",
       "      <th>10</th>\n",
       "      <td>9) uhhhh i like being lgbt a lot. i feel proud...</td>\n",
       "      <td>-3.60</td>\n",
       "      <td>supportive</td>\n",
       "    </tr>\n",
       "    <tr>\n",
       "      <th>11</th>\n",
       "      <td>Instagram refugees lmao, let's build a wall in...</td>\n",
       "      <td>-0.50</td>\n",
       "      <td>supportive</td>\n",
       "    </tr>\n",
       "    <tr>\n",
       "      <th>12</th>\n",
       "      <td>@terryelaineh1 @UKLabour Why do 3.8 million #5...</td>\n",
       "      <td>-2.43</td>\n",
       "      <td>supportive</td>\n",
       "    </tr>\n",
       "    <tr>\n",
       "      <th>13</th>\n",
       "      <td>I said it yesterday, I knew this is about to g...</td>\n",
       "      <td>-1.80</td>\n",
       "      <td>supportive</td>\n",
       "    </tr>\n",
       "    <tr>\n",
       "      <th>14</th>\n",
       "      <td>White Small Little Invisible Clits Are A Disgr...</td>\n",
       "      <td>0.99</td>\n",
       "      <td>hate</td>\n",
       "    </tr>\n",
       "    <tr>\n",
       "      <th>15</th>\n",
       "      <td>Ladies buy a gun learn how to use it effective...</td>\n",
       "      <td>-3.09</td>\n",
       "      <td>supportive</td>\n",
       "    </tr>\n",
       "    <tr>\n",
       "      <th>16</th>\n",
       "      <td>@ghostofthor same energy as the \"YOU DONT LOOK...</td>\n",
       "      <td>-1.85</td>\n",
       "      <td>supportive</td>\n",
       "    </tr>\n",
       "    <tr>\n",
       "      <th>17</th>\n",
       "      <td>@suddenlywestan Because you are a country of m...</td>\n",
       "      <td>1.62</td>\n",
       "      <td>hate</td>\n",
       "    </tr>\n",
       "    <tr>\n",
       "      <th>18</th>\n",
       "      <td>This sub is full of grade A faggots  Comedy fu...</td>\n",
       "      <td>1.00</td>\n",
       "      <td>hate</td>\n",
       "    </tr>\n",
       "    <tr>\n",
       "      <th>19</th>\n",
       "      <td>Progress 👍 LGBT rights in Europe: Some countri...</td>\n",
       "      <td>-2.88</td>\n",
       "      <td>supportive</td>\n",
       "    </tr>\n",
       "    <tr>\n",
       "      <th>20</th>\n",
       "      <td>Joshua Lelo so you have seen all actors from e...</td>\n",
       "      <td>-0.76</td>\n",
       "      <td>supportive</td>\n",
       "    </tr>\n",
       "    <tr>\n",
       "      <th>21</th>\n",
       "      <td>He is a racist just like his Father who tried ...</td>\n",
       "      <td>-0.66</td>\n",
       "      <td>supportive</td>\n",
       "    </tr>\n",
       "    <tr>\n",
       "      <th>22</th>\n",
       "      <td>No, they only do that to black people</td>\n",
       "      <td>-2.05</td>\n",
       "      <td>supportive</td>\n",
       "    </tr>\n",
       "    <tr>\n",
       "      <th>23</th>\n",
       "      <td>Many of the families who are being separated a...</td>\n",
       "      <td>-4.09</td>\n",
       "      <td>supportive</td>\n",
       "    </tr>\n",
       "    <tr>\n",
       "      <th>24</th>\n",
       "      <td>Get rid of them and their anchor babies and gr...</td>\n",
       "      <td>1.77</td>\n",
       "      <td>hate</td>\n",
       "    </tr>\n",
       "    <tr>\n",
       "      <th>25</th>\n",
       "      <td>So hot!!! Wish she squirted in my mouth 💦</td>\n",
       "      <td>-0.85</td>\n",
       "      <td>supportive</td>\n",
       "    </tr>\n",
       "    <tr>\n",
       "      <th>26</th>\n",
       "      <td>Thank you for posting this! Gives us other \"no...</td>\n",
       "      <td>-5.42</td>\n",
       "      <td>supportive</td>\n",
       "    </tr>\n",
       "    <tr>\n",
       "      <th>27</th>\n",
       "      <td>Y'all always slip up and say how y'all see wom...</td>\n",
       "      <td>-0.88</td>\n",
       "      <td>supportive</td>\n",
       "    </tr>\n",
       "    <tr>\n",
       "      <th>28</th>\n",
       "      <td>okay but am i the only one who keep thinking t...</td>\n",
       "      <td>-1.76</td>\n",
       "      <td>supportive</td>\n",
       "    </tr>\n",
       "    <tr>\n",
       "      <th>29</th>\n",
       "      <td>Them - DON'T YOU DARE OBJECTIFY US!! ​ Also th...</td>\n",
       "      <td>-0.83</td>\n",
       "      <td>supportive</td>\n",
       "    </tr>\n",
       "    <tr>\n",
       "      <th>30</th>\n",
       "      <td>@KeGutta These niggas straight bitches</td>\n",
       "      <td>1.28</td>\n",
       "      <td>hate</td>\n",
       "    </tr>\n",
       "    <tr>\n",
       "      <th>31</th>\n",
       "      <td>Cold hoe that's a must, bitch body A plus, bit...</td>\n",
       "      <td>0.14</td>\n",
       "      <td>neutral</td>\n",
       "    </tr>\n",
       "    <tr>\n",
       "      <th>32</th>\n",
       "      <td>Da real white thug</td>\n",
       "      <td>-2.36</td>\n",
       "      <td>supportive</td>\n",
       "    </tr>\n",
       "    <tr>\n",
       "      <th>33</th>\n",
       "      <td>Deport AOC and friends to mexico! Tell them if...</td>\n",
       "      <td>-0.11</td>\n",
       "      <td>supportive</td>\n",
       "    </tr>\n",
       "    <tr>\n",
       "      <th>34</th>\n",
       "      <td>You are an amazing dad! Don't forget that girl...</td>\n",
       "      <td>-5.59</td>\n",
       "      <td>supportive</td>\n",
       "    </tr>\n",
       "    <tr>\n",
       "      <th>35</th>\n",
       "      <td>I'd suck that cock dry and then fill all your ...</td>\n",
       "      <td>-2.78</td>\n",
       "      <td>supportive</td>\n",
       "    </tr>\n",
       "    <tr>\n",
       "      <th>36</th>\n",
       "      <td>@LT Wilson I think you are a joke for assuming...</td>\n",
       "      <td>-1.99</td>\n",
       "      <td>supportive</td>\n",
       "    </tr>\n",
       "    <tr>\n",
       "      <th>37</th>\n",
       "      <td>Dwight Howard is a undercover Faggot, this guy...</td>\n",
       "      <td>1.02</td>\n",
       "      <td>hate</td>\n",
       "    </tr>\n",
       "    <tr>\n",
       "      <th>38</th>\n",
       "      <td>At this point joe is a retard that cares about...</td>\n",
       "      <td>-0.16</td>\n",
       "      <td>supportive</td>\n",
       "    </tr>\n",
       "    <tr>\n",
       "      <th>39</th>\n",
       "      <td>Hero Rohit Sharma love From Pakistan😍😍</td>\n",
       "      <td>-4.00</td>\n",
       "      <td>supportive</td>\n",
       "    </tr>\n",
       "  </tbody>\n",
       "</table>\n",
       "</div>"
      ],
      "text/plain": [
       "                                                 text  hate_speech_score  \\\n",
       "id                                                                         \n",
       "0   Yes indeed. She sort of reminds me of the elde...              -3.90   \n",
       "1   The trans women reading this tweet right now i...              -6.52   \n",
       "2   Question: These 4 broads who criticize America...               0.36   \n",
       "3   It is about time for all illegals to go back t...               0.26   \n",
       "4   For starters bend over the one in pink and kic...               1.54   \n",
       "5   Sounds like the kinda wholsesome life I'd die ...              -4.93   \n",
       "6   Who the fuck is this insignificant simple mind...               0.17   \n",
       "7          Fuck off you insufferable retarded faggot.               2.08   \n",
       "8   OMG! The EGO's of these young, young, inexperi...              -0.66   \n",
       "9   Worthless whore, these tits with look nice wit...              -0.38   \n",
       "10  9) uhhhh i like being lgbt a lot. i feel proud...              -3.60   \n",
       "11  Instagram refugees lmao, let's build a wall in...              -0.50   \n",
       "12  @terryelaineh1 @UKLabour Why do 3.8 million #5...              -2.43   \n",
       "13  I said it yesterday, I knew this is about to g...              -1.80   \n",
       "14  White Small Little Invisible Clits Are A Disgr...               0.99   \n",
       "15  Ladies buy a gun learn how to use it effective...              -3.09   \n",
       "16  @ghostofthor same energy as the \"YOU DONT LOOK...              -1.85   \n",
       "17  @suddenlywestan Because you are a country of m...               1.62   \n",
       "18  This sub is full of grade A faggots  Comedy fu...               1.00   \n",
       "19  Progress 👍 LGBT rights in Europe: Some countri...              -2.88   \n",
       "20  Joshua Lelo so you have seen all actors from e...              -0.76   \n",
       "21  He is a racist just like his Father who tried ...              -0.66   \n",
       "22              No, they only do that to black people              -2.05   \n",
       "23  Many of the families who are being separated a...              -4.09   \n",
       "24  Get rid of them and their anchor babies and gr...               1.77   \n",
       "25          So hot!!! Wish she squirted in my mouth 💦              -0.85   \n",
       "26  Thank you for posting this! Gives us other \"no...              -5.42   \n",
       "27  Y'all always slip up and say how y'all see wom...              -0.88   \n",
       "28  okay but am i the only one who keep thinking t...              -1.76   \n",
       "29  Them - DON'T YOU DARE OBJECTIFY US!! ​ Also th...              -0.83   \n",
       "30             @KeGutta These niggas straight bitches               1.28   \n",
       "31  Cold hoe that's a must, bitch body A plus, bit...               0.14   \n",
       "32                                 Da real white thug              -2.36   \n",
       "33  Deport AOC and friends to mexico! Tell them if...              -0.11   \n",
       "34  You are an amazing dad! Don't forget that girl...              -5.59   \n",
       "35  I'd suck that cock dry and then fill all your ...              -2.78   \n",
       "36  @LT Wilson I think you are a joke for assuming...              -1.99   \n",
       "37  Dwight Howard is a undercover Faggot, this guy...               1.02   \n",
       "38  At this point joe is a retard that cares about...              -0.16   \n",
       "39             Hero Rohit Sharma love From Pakistan😍😍              -4.00   \n",
       "\n",
       "   hate_speech_label  \n",
       "id                    \n",
       "0         supportive  \n",
       "1         supportive  \n",
       "2            neutral  \n",
       "3            neutral  \n",
       "4               hate  \n",
       "5         supportive  \n",
       "6            neutral  \n",
       "7               hate  \n",
       "8         supportive  \n",
       "9         supportive  \n",
       "10        supportive  \n",
       "11        supportive  \n",
       "12        supportive  \n",
       "13        supportive  \n",
       "14              hate  \n",
       "15        supportive  \n",
       "16        supportive  \n",
       "17              hate  \n",
       "18              hate  \n",
       "19        supportive  \n",
       "20        supportive  \n",
       "21        supportive  \n",
       "22        supportive  \n",
       "23        supportive  \n",
       "24              hate  \n",
       "25        supportive  \n",
       "26        supportive  \n",
       "27        supportive  \n",
       "28        supportive  \n",
       "29        supportive  \n",
       "30              hate  \n",
       "31           neutral  \n",
       "32        supportive  \n",
       "33        supportive  \n",
       "34        supportive  \n",
       "35        supportive  \n",
       "36        supportive  \n",
       "37              hate  \n",
       "38        supportive  \n",
       "39        supportive  "
      ]
     },
     "execution_count": 22,
     "metadata": {},
     "output_type": "execute_result"
    }
   ],
   "source": [
    "# enumerate the id from zero to n and make it the index\n",
    "data_df['id'] = range(0, len(data_df))\n",
    "data_df.set_index('id', inplace=True)\n",
    "\n",
    "# convert the hate speech score to hate speech label\n",
    "hate_speech_labels = ['supportive', 'neutral', 'hate']\n",
    "\n",
    "# change hate speech score to hate speech label\n",
    "data_df['hate_speech_label'] = pd.cut(data_df['hate_speech_score'], bins=[-10, -0.01, 0.49, 10], labels=hate_speech_labels)\n",
    "# Save the preprocessed data to a CSV file\n",
    "data_df.to_csv('data/text/data.csv')\n",
    "\n",
    "#print first 40 rows of the data\n",
    "data_df.head(40)\n",
    "\n"
   ]
  },
  {
   "cell_type": "markdown",
   "id": "c2c9b1f7",
   "metadata": {},
   "source": [
    "## Analyzing the extracted data"
   ]
  },
  {
   "cell_type": "code",
   "execution_count": 23,
   "id": "4773c087",
   "metadata": {},
   "outputs": [
    {
     "data": {
      "image/png": "[encoded data removed]",
      "text/plain": [
       "<Figure size 640x480 with 1 Axes>"
      ]
     },
     "metadata": {},
     "output_type": "display_data"
    }
   ],
   "source": [
    "# plot the distribution of the hate speech labels\n",
    "import matplotlib.pyplot as plt\n",
    "\n",
    "data_df['hate_speech_label'].value_counts().plot(kind='bar')\n",
    "plt.xlabel('Hate Speech Label')\n",
    "plt.ylabel('Count')\n",
    "plt.title('Distribution of Hate Speech Labels')\n",
    "plt.show()"
   ]
  },
  {
   "cell_type": "code",
   "execution_count": 24,
   "id": "f877fcd9",
   "metadata": {},
   "outputs": [
    {
     "name": "stdout",
     "output_type": "stream",
     "text": [
      "Number of supportive comments: 25255\n",
      "Number of neutral comments: 3873\n",
      "Number of hate comments: 10437\n"
     ]
    }
   ],
   "source": [
    "count_hate = data_df['hate_speech_label'].value_counts()['hate']\n",
    "count_neutral = data_df['hate_speech_label'].value_counts()['neutral']\n",
    "count_supportive = data_df['hate_speech_label'].value_counts()['supportive']\n",
    "\n",
    "print(f\"Number of supportive comments: {count_supportive}\")\n",
    "print(f\"Number of neutral comments: {count_neutral}\")\n",
    "print(f\"Number of hate comments: {count_hate}\")"
   ]
  },
  {
   "cell_type": "code",
   "execution_count": 25,
   "id": "2b604cf3",
   "metadata": {},
   "outputs": [
    {
     "data": {
      "image/png": "[encoded data removed]",
      "text/plain": [
       "<Figure size 640x480 with 1 Axes>"
      ]
     },
     "metadata": {},
     "output_type": "display_data"
    },
    {
     "data": {
      "image/png": "[encoded data removed]",
      "text/plain": [
       "<Figure size 640x480 with 1 Axes>"
      ]
     },
     "metadata": {},
     "output_type": "display_data"
    }
   ],
   "source": [
    "# Calculate the minimum count among neutral and supportive labels\n",
    "min_count = min(count_neutral, count_supportive)\n",
    "\n",
    "# Group the data by 'hate_speech_label' and sample 'min_count' samples for each group\n",
    "balanced_neutral = data_df[data_df['hate_speech_label'] == 'neutral'].sample(n=int(min_count*0.3), random_state=42)\n",
    "balanced_supportive = data_df[data_df['hate_speech_label'] == 'supportive'].sample(n=int(min_count*1.7), random_state=42)\n",
    "balanced_hate = data_df[data_df['hate_speech_label'] == 'hate'].sample(n=min_count*2, random_state=42)\n",
    "\n",
    "# Concatenate the balanced samples to create the balanced dataset\n",
    "data_balanced = pd.concat([balanced_neutral, balanced_supportive, balanced_hate], ignore_index=True)\n",
    "\n",
    "# Shuffle the dataset\n",
    "data_balanced = data_balanced.sample(frac=1, random_state=42).reset_index(drop=True)\n",
    "\n",
    "# print distribution of hate speech labels\n",
    "data_balanced['hate_speech_label'].value_counts().plot(kind='bar')\n",
    "plt.xlabel('Hate Speech Label')\n",
    "plt.ylabel('Count')\n",
    "plt.title('Distribution of Hate Speech Labels')\n",
    "plt.show()\n",
    "\n",
    "# Change label of neutral and supportive to non-hate\n",
    "data_balanced['hate_speech_label'] = data_balanced['hate_speech_label'].replace(['neutral', 'supportive'], 'non-hate')\n",
    "\n",
    "# plot new distribution of hate speech labels\n",
    "data_balanced['hate_speech_label'].value_counts().plot(kind='bar')\n",
    "plt.xlabel('Hate Speech Label')\n",
    "plt.ylabel('Count')\n",
    "plt.title('Distribution of Hate Speech Labels')\n",
    "plt.show()\n",
    "\n",
    "# Save the balanced data to a CSV file\n",
    "data_balanced.to_csv('data/text/data_balanced.csv')\n",
    "\n"
   ]
  },
  {
   "cell_type": "markdown",
   "id": "d64e4e48",
   "metadata": {},
   "source": [
    "### Plot the distribution of the hate speech score"
   ]
  },
  {
   "cell_type": "code",
   "execution_count": 26,
   "id": "1046cac7",
   "metadata": {},
   "outputs": [
    {
     "data": {
      "image/png": "[encoded data removed]",
      "text/plain": [
       "<Figure size 640x480 with 1 Axes>"
      ]
     },
     "metadata": {},
     "output_type": "display_data"
    }
   ],
   "source": [
    "# plot the distribution of the hate speech score in the balanced dataset\n",
    "data_balanced['hate_speech_score'].plot(kind='hist', bins=20)\n",
    "plt.xlabel('Hate Speech Score')\n",
    "plt.ylabel('Count')\n",
    "plt.title('Distribution of Hate Speech Scores')\n",
    "plt.show()\n"
   ]
  },
  {
   "cell_type": "code",
   "execution_count": 85,
   "id": "ce3bbf6a",
   "metadata": {},
   "outputs": [],
   "source": [
    "# save the balanced data to a csv file\n",
    "data_balanced.to_csv('data/text/data_balanced.csv')"
   ]
  },
  {
   "cell_type": "markdown",
   "id": "bce19da8",
   "metadata": {},
   "source": [
    "# Preprocess the text data\n",
    "**remove the special characters and convert the text to lowercase**\n",
    "\n",
    "Ideas how to pre-process the text data and generate the audio data:\n",
    "\n",
    "### filtering task \n",
    "- filter phrases with parathesis from the text\n",
    "- filter text with emojis, special characters, emails, urls, aphosotrophes, but keep stopwords for the synthetisizer to sound more natural\n",
    "- filter out phrases with more than 40 words\n",
    "\n",
    "### Cleaning task \n",
    "- remove word after an @ in the text or # in the text\n",
    "- convert the abbreviations to full words\n",
    "- Spell checking needed and remove the spelling mistakes\n",
    "- remove all not english words from the text\n",
    "- remove the - and the\n",
    "\n",
    "\n",
    "\n",
    "\n",
    "\n"
   ]
  },
  {
   "cell_type": "code",
   "execution_count": 86,
   "id": "13ccb6fe",
   "metadata": {},
   "outputs": [],
   "source": [
    "# load data from csv file \n",
    "#data_balanced = pd.read_csv('data/text/data_balanced.csv')\n"
   ]
  },
  {
   "cell_type": "code",
   "execution_count": 87,
   "id": "f6e48d35",
   "metadata": {},
   "outputs": [],
   "source": [
    "preprocessed = preprocessing.preprocess.remove_special_tokens(data_balanced)\n",
    "\n",
    "preprocessed = preprocessing.preprocess.replace_abbreviations_and_slang(preprocessed)\n",
    "\n",
    "preprocessed = preprocessing.preprocess.remove_non_english(preprocessed)"
   ]
  },
  {
   "cell_type": "code",
   "execution_count": 88,
   "id": "25b380ad",
   "metadata": {},
   "outputs": [
    {
     "data": {
      "text/html": [
       "<div>\n",
       "<style scoped>\n",
       "    .dataframe tbody tr th:only-of-type {\n",
       "        vertical-align: middle;\n",
       "    }\n",
       "\n",
       "    .dataframe tbody tr th {\n",
       "        vertical-align: top;\n",
       "    }\n",
       "\n",
       "    .dataframe thead th {\n",
       "        text-align: right;\n",
       "    }\n",
       "</style>\n",
       "<table border=\"1\" class=\"dataframe\">\n",
       "  <thead>\n",
       "    <tr style=\"text-align: right;\">\n",
       "      <th></th>\n",
       "      <th>text</th>\n",
       "      <th>hate_speech_score</th>\n",
       "      <th>hate_speech_label</th>\n",
       "    </tr>\n",
       "  </thead>\n",
       "  <tbody>\n",
       "    <tr>\n",
       "      <th>0</th>\n",
       "      <td>democrats using african americans again</td>\n",
       "      <td>-1.18</td>\n",
       "      <td>non-hate</td>\n",
       "    </tr>\n",
       "    <tr>\n",
       "      <th>1</th>\n",
       "      <td>i lived in johannesburg when i was a kid and s...</td>\n",
       "      <td>-5.35</td>\n",
       "      <td>non-hate</td>\n",
       "    </tr>\n",
       "    <tr>\n",
       "      <th>2</th>\n",
       "      <td>fuck your so hot</td>\n",
       "      <td>-5.62</td>\n",
       "      <td>non-hate</td>\n",
       "    </tr>\n",
       "    <tr>\n",
       "      <th>3</th>\n",
       "      <td>that's enough sour grapes projection and white...</td>\n",
       "      <td>-1.61</td>\n",
       "      <td>non-hate</td>\n",
       "    </tr>\n",
       "    <tr>\n",
       "      <th>4</th>\n",
       "      <td>they made aladdin black  .. leftist racist cucks</td>\n",
       "      <td>0.58</td>\n",
       "      <td>hate</td>\n",
       "    </tr>\n",
       "  </tbody>\n",
       "</table>\n",
       "</div>"
      ],
      "text/plain": [
       "                                                text  hate_speech_score  \\\n",
       "0            democrats using african americans again              -1.18   \n",
       "1  i lived in johannesburg when i was a kid and s...              -5.35   \n",
       "2                                   fuck your so hot              -5.62   \n",
       "3  that's enough sour grapes projection and white...              -1.61   \n",
       "4   they made aladdin black  .. leftist racist cucks               0.58   \n",
       "\n",
       "  hate_speech_label  \n",
       "0          non-hate  \n",
       "1          non-hate  \n",
       "2          non-hate  \n",
       "3          non-hate  \n",
       "4              hate  "
      ]
     },
     "execution_count": 88,
     "metadata": {},
     "output_type": "execute_result"
    }
   ],
   "source": [
    "preprocessed.head()"
   ]
  },
  {
   "cell_type": "code",
   "execution_count": 89,
   "id": "6535dc58",
   "metadata": {},
   "outputs": [],
   "source": [
    "# Save the balanced data to a json file \n",
    "with open('data/text/preprocessed.json', 'w') as f:\n",
    "    f.write(preprocessed.to_json(orient='records', lines=True))\n",
    "\n",
    "# Save the balanced data to a csv file\n",
    "preprocessed.to_csv('data/text/preprocessed.csv')"
   ]
  },
  {
   "cell_type": "code",
   "execution_count": 90,
   "id": "b9e8fa62",
   "metadata": {},
   "outputs": [
    {
     "data": {
      "text/html": [
       "<div>\n",
       "<style scoped>\n",
       "    .dataframe tbody tr th:only-of-type {\n",
       "        vertical-align: middle;\n",
       "    }\n",
       "\n",
       "    .dataframe tbody tr th {\n",
       "        vertical-align: top;\n",
       "    }\n",
       "\n",
       "    .dataframe thead th {\n",
       "        text-align: right;\n",
       "    }\n",
       "</style>\n",
       "<table border=\"1\" class=\"dataframe\">\n",
       "  <thead>\n",
       "    <tr style=\"text-align: right;\">\n",
       "      <th></th>\n",
       "      <th>text</th>\n",
       "      <th>hate_speech_score</th>\n",
       "      <th>hate_speech_label</th>\n",
       "    </tr>\n",
       "  </thead>\n",
       "  <tbody>\n",
       "    <tr>\n",
       "      <th>0</th>\n",
       "      <td>democrats using african americans again</td>\n",
       "      <td>-1.18</td>\n",
       "      <td>non-hate</td>\n",
       "    </tr>\n",
       "    <tr>\n",
       "      <th>1</th>\n",
       "      <td>i lived in johannesburg when i was a kid and s...</td>\n",
       "      <td>-5.35</td>\n",
       "      <td>non-hate</td>\n",
       "    </tr>\n",
       "    <tr>\n",
       "      <th>2</th>\n",
       "      <td>fuck your so hot</td>\n",
       "      <td>-5.62</td>\n",
       "      <td>non-hate</td>\n",
       "    </tr>\n",
       "    <tr>\n",
       "      <th>3</th>\n",
       "      <td>that's enough sour grapes projection and white...</td>\n",
       "      <td>-1.61</td>\n",
       "      <td>non-hate</td>\n",
       "    </tr>\n",
       "    <tr>\n",
       "      <th>4</th>\n",
       "      <td>they made aladdin black  .. leftist racist cucks</td>\n",
       "      <td>0.58</td>\n",
       "      <td>hate</td>\n",
       "    </tr>\n",
       "    <tr>\n",
       "      <th>...</th>\n",
       "      <td>...</td>\n",
       "      <td>...</td>\n",
       "      <td>...</td>\n",
       "    </tr>\n",
       "    <tr>\n",
       "      <th>95</th>\n",
       "      <td>mika hart know any white bois named dewayne?!</td>\n",
       "      <td>-2.70</td>\n",
       "      <td>non-hate</td>\n",
       "    </tr>\n",
       "    <tr>\n",
       "      <th>96</th>\n",
       "      <td>i'll get my revenge when i fuck on your nigga ...</td>\n",
       "      <td>1.35</td>\n",
       "      <td>hate</td>\n",
       "    </tr>\n",
       "    <tr>\n",
       "      <th>97</th>\n",
       "      <td>i'd be in jail for murder. the nigga spitting ...</td>\n",
       "      <td>2.56</td>\n",
       "      <td>hate</td>\n",
       "    </tr>\n",
       "    <tr>\n",
       "      <th>98</th>\n",
       "      <td>africa don't even want the blacks back</td>\n",
       "      <td>1.08</td>\n",
       "      <td>hate</td>\n",
       "    </tr>\n",
       "    <tr>\n",
       "      <th>99</th>\n",
       "      <td>love to fondle your tits as i fuck you honestly</td>\n",
       "      <td>-2.65</td>\n",
       "      <td>non-hate</td>\n",
       "    </tr>\n",
       "  </tbody>\n",
       "</table>\n",
       "<p>100 rows × 3 columns</p>\n",
       "</div>"
      ],
      "text/plain": [
       "                                                 text  hate_speech_score  \\\n",
       "0             democrats using african americans again              -1.18   \n",
       "1   i lived in johannesburg when i was a kid and s...              -5.35   \n",
       "2                                    fuck your so hot              -5.62   \n",
       "3   that's enough sour grapes projection and white...              -1.61   \n",
       "4    they made aladdin black  .. leftist racist cucks               0.58   \n",
       "..                                                ...                ...   \n",
       "95      mika hart know any white bois named dewayne?!              -2.70   \n",
       "96  i'll get my revenge when i fuck on your nigga ...               1.35   \n",
       "97  i'd be in jail for murder. the nigga spitting ...               2.56   \n",
       "98             africa don't even want the blacks back               1.08   \n",
       "99    love to fondle your tits as i fuck you honestly              -2.65   \n",
       "\n",
       "   hate_speech_label  \n",
       "0           non-hate  \n",
       "1           non-hate  \n",
       "2           non-hate  \n",
       "3           non-hate  \n",
       "4               hate  \n",
       "..               ...  \n",
       "95          non-hate  \n",
       "96              hate  \n",
       "97              hate  \n",
       "98              hate  \n",
       "99          non-hate  \n",
       "\n",
       "[100 rows x 3 columns]"
      ]
     },
     "execution_count": 90,
     "metadata": {},
     "output_type": "execute_result"
    }
   ],
   "source": [
    "preprocessed.head(100)"
   ]
  },
  {
   "cell_type": "markdown",
   "id": "1f1a2fe9",
   "metadata": {},
   "source": [
    "### Padding "
   ]
  },
  {
   "cell_type": "markdown",
   "id": "d9444e14",
   "metadata": {},
   "source": [
    "# Upload the datasets to the Hugginface"
   ]
  },
  {
   "cell_type": "code",
   "execution_count": 95,
   "id": "78da7814",
   "metadata": {},
   "outputs": [
    {
     "data": {
      "application/vnd.jupyter.widget-view+json": {
       "model_id": "09da4857492f4109823a0d603bed4490",
       "version_major": 2,
       "version_minor": 0
      },
      "text/plain": [
       "VBox(children=(HTML(value='<center> <img\\nsrc=https://huggingface.co/front/assets/huggingface_logo-noborder.sv…"
      ]
     },
     "metadata": {},
     "output_type": "display_data"
    }
   ],
   "source": [
    "#login to huggingface\n",
    "\n",
    "from huggingface_hub import notebook_login\n",
    "\n",
    "notebook_login()"
   ]
  },
  {
   "cell_type": "code",
   "execution_count": null,
   "id": "7f9d09b7",
   "metadata": {},
   "outputs": [
    {
     "data": {
      "application/vnd.jupyter.widget-view+json": {
       "model_id": "85ec3e1715194bca959aed95cf07bd7f",
       "version_major": 2,
       "version_minor": 0
      },
      "text/plain": [
       "Casting to class labels:   0%|          | 0/1240 [00:00<?, ? examples/s]"
      ]
     },
     "metadata": {},
     "output_type": "display_data"
    },
    {
     "data": {
      "application/vnd.jupyter.widget-view+json": {
       "model_id": "7f94137891e04d91b3ed445704c125a1",
       "version_major": 2,
       "version_minor": 0
      },
      "text/plain": [
       "Uploading the dataset shards:   0%|          | 0/1 [00:00<?, ?it/s]"
      ]
     },
     "metadata": {},
     "output_type": "display_data"
    },
    {
     "data": {
      "application/vnd.jupyter.widget-view+json": {
       "model_id": "d709dccfc87045d9a6e634fb44bd54ae",
       "version_major": 2,
       "version_minor": 0
      },
      "text/plain": [
       "Map:   0%|          | 0/992 [00:00<?, ? examples/s]"
      ]
     },
     "metadata": {},
     "output_type": "display_data"
    },
    {
     "data": {
      "application/vnd.jupyter.widget-view+json": {
       "model_id": "88577e2dbcbb47f78abd3bca7324a38a",
       "version_major": 2,
       "version_minor": 0
      },
      "text/plain": [
       "Creating parquet from Arrow format:   0%|          | 0/10 [00:00<?, ?ba/s]"
      ]
     },
     "metadata": {},
     "output_type": "display_data"
    },
    {
     "data": {
      "application/vnd.jupyter.widget-view+json": {
       "model_id": "d14fd4f896d64ef4956b69156ff3ab56",
       "version_major": 2,
       "version_minor": 0
      },
      "text/plain": [
       "Uploading the dataset shards:   0%|          | 0/1 [00:00<?, ?it/s]"
      ]
     },
     "metadata": {},
     "output_type": "display_data"
    },
    {
     "data": {
      "application/vnd.jupyter.widget-view+json": {
       "model_id": "2bd62659d19a486399daa82450eeb0a6",
       "version_major": 2,
       "version_minor": 0
      },
      "text/plain": [
       "Map:   0%|          | 0/248 [00:00<?, ? examples/s]"
      ]
     },
     "metadata": {},
     "output_type": "display_data"
    },
    {
     "data": {
      "application/vnd.jupyter.widget-view+json": {
       "model_id": "2ca8b6209bed41c79083fa5110846038",
       "version_major": 2,
       "version_minor": 0
      },
      "text/plain": [
       "Creating parquet from Arrow format:   0%|          | 0/3 [00:00<?, ?ba/s]"
      ]
     },
     "metadata": {},
     "output_type": "display_data"
    },
    {
     "data": {
      "application/vnd.jupyter.widget-view+json": {
       "model_id": "7d70ef522e384a2caf52177fbcc05aab",
       "version_major": 2,
       "version_minor": 0
      },
      "text/plain": [
       "README.md:   0%|          | 0.00/673 [00:00<?, ?B/s]"
      ]
     },
     "metadata": {},
     "output_type": "display_data"
    }
   ],
   "source": [
    "import data.upload_dataset_to_hf\n",
    "\n",
    "#push dataset to hugginface \n",
    "data.upload_dataset_to_hf.upload_dataset_to_huggingface()"
   ]
  }
 ],
 "metadata": {
  "kernelspec": {
   "display_name": "Python 3 (ipykernel)",
   "language": "python",
   "name": "python3"
  },
  "language_info": {
   "codemirror_mode": {
    "name": "ipython",
    "version": 3
   },
   "file_extension": ".py",
   "mimetype": "text/x-python",
   "name": "python",
   "nbconvert_exporter": "python",
   "pygments_lexer": "ipython3",
   "version": "3.10.13"
  }
 },
 "nbformat": 4,
 "nbformat_minor": 5
}
