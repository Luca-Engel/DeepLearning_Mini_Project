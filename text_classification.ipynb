{
  "cells": [
    {
      "cell_type": "code",
      "execution_count": 35,
      "id": "8796248e",
      "metadata": {
        "id": "8796248e",
        "colab": {
          "base_uri": "https://localhost:8080/"
        },
        "outputId": "15bcc35e-b606-47c8-b1b0-5c85647c004f"
      },
      "outputs": [
        {
          "output_type": "stream",
          "name": "stdout",
          "text": [
            "The autoreload extension is already loaded. To reload it, use:\n",
            "  %reload_ext autoreload\n"
          ]
        }
      ],
      "source": [
        "%load_ext autoreload\n",
        "%autoreload 2"
      ]
    },
    {
      "cell_type": "markdown",
      "id": "7c90440e",
      "metadata": {
        "id": "7c90440e"
      },
      "source": [
        "# Colab Setup"
      ]
    },
    {
      "cell_type": "code",
      "execution_count": 2,
      "id": "9e7a2ccc",
      "metadata": {
        "colab": {
          "base_uri": "https://localhost:8080/"
        },
        "id": "9e7a2ccc",
        "outputId": "16d3d450-06aa-4f19-f87e-ca7286c1eadc"
      },
      "outputs": [
        {
          "output_type": "stream",
          "name": "stdout",
          "text": [
            "Mounted at /content/drive\n"
          ]
        }
      ],
      "source": [
        "from google.colab import drive\n",
        "drive.mount(\"/content/drive\")"
      ]
    },
    {
      "cell_type": "code",
      "execution_count": 3,
      "id": "95660c55",
      "metadata": {
        "colab": {
          "base_uri": "https://localhost:8080/"
        },
        "id": "95660c55",
        "outputId": "d2b83c0e-473a-49a1-ded2-c432d3bc5118"
      },
      "outputs": [
        {
          "output_type": "stream",
          "name": "stdout",
          "text": [
            "['client_oauth.json', 'image.png', 'README.md', '.gitattributes', 'ast_run_finetuning.sh', '.gitignore', 'requirements.txt', 'base_model.md', 'preprocessing.md', 'logistic_regression.py', 'logistic_regression_weights.pkl', 'representation_learner.py', 'dataset_prep.py', 'GenerateDataset.ipynb', 'text_classification.py', 'text_classification.ipynb', 'data', 'models', '__pycache__']\n",
            "['client_oauth.json', 'image.png', 'README.md', '.gitattributes', 'ast_run_finetuning.sh', '.gitignore', 'requirements.txt', 'base_model.md', 'preprocessing.md', 'logistic_regression.py', 'logistic_regression_weights.pkl', 'representation_learner.py', 'dataset_prep.py', 'GenerateDataset.ipynb', 'text_classification.py', 'text_classification.ipynb', 'data', 'models', '__pycache__']\n"
          ]
        }
      ],
      "source": [
        "import os\n",
        "\n",
        "ROOT_PATH = \"/content/drive/MyDrive/Deep_Learning/text_classification/\"\n",
        "print(os.listdir(ROOT_PATH)) # Check the content of the path\n",
        "os.chdir(ROOT_PATH) # cd into directory\n",
        "print(os.listdir(\".\")) # Check the content of current folder"
      ]
    },
    {
      "cell_type": "code",
      "execution_count": 36,
      "id": "0759b84f",
      "metadata": {
        "colab": {
          "base_uri": "https://localhost:8080/"
        },
        "id": "0759b84f",
        "outputId": "e753886a-f7fb-4ae5-ebb7-78b668f73195"
      },
      "outputs": [
        {
          "output_type": "stream",
          "name": "stdout",
          "text": [
            "Requirement already satisfied: torch in /usr/local/lib/python3.10/dist-packages (from -r /content/drive/MyDrive/Deep_Learning/text_classification//requirements.txt (line 1)) (2.2.1+cu121)\n",
            "Collecting numpy~=1.26.4 (from -r /content/drive/MyDrive/Deep_Learning/text_classification//requirements.txt (line 2))\n",
            "  Using cached numpy-1.26.4-cp310-cp310-manylinux_2_17_x86_64.manylinux2014_x86_64.whl (18.2 MB)\n",
            "Collecting datasets==2.3.2 (from -r /content/drive/MyDrive/Deep_Learning/text_classification//requirements.txt (line 3))\n",
            "  Using cached datasets-2.3.2-py3-none-any.whl (362 kB)\n",
            "Collecting gTTS~=2.5.1 (from -r /content/drive/MyDrive/Deep_Learning/text_classification//requirements.txt (line 4))\n",
            "  Using cached gTTS-2.5.1-py3-none-any.whl (29 kB)\n",
            "Collecting pandas~=2.2.2 (from -r /content/drive/MyDrive/Deep_Learning/text_classification//requirements.txt (line 5))\n",
            "  Using cached pandas-2.2.2-cp310-cp310-manylinux_2_17_x86_64.manylinux2014_x86_64.whl (13.0 MB)\n",
            "Requirement already satisfied: tqdm~=4.66.2 in /usr/local/lib/python3.10/dist-packages (from -r /content/drive/MyDrive/Deep_Learning/text_classification//requirements.txt (line 6)) (4.66.4)\n",
            "Collecting scikit-learn~=1.4.2 (from -r /content/drive/MyDrive/Deep_Learning/text_classification//requirements.txt (line 7))\n",
            "  Using cached scikit_learn-1.4.2-cp310-cp310-manylinux_2_17_x86_64.manylinux2014_x86_64.whl (12.1 MB)\n",
            "Requirement already satisfied: soundfile in /usr/local/lib/python3.10/dist-packages (from -r /content/drive/MyDrive/Deep_Learning/text_classification//requirements.txt (line 8)) (0.12.1)\n",
            "Collecting sounddevice (from -r /content/drive/MyDrive/Deep_Learning/text_classification//requirements.txt (line 9))\n",
            "  Using cached sounddevice-0.4.6-py3-none-any.whl (31 kB)\n",
            "Requirement already satisfied: librosa in /usr/local/lib/python3.10/dist-packages (from -r /content/drive/MyDrive/Deep_Learning/text_classification//requirements.txt (line 10)) (0.10.2)\n",
            "Collecting evaluate==0.1.2 (from -r /content/drive/MyDrive/Deep_Learning/text_classification//requirements.txt (line 11))\n",
            "  Using cached evaluate-0.1.2-py3-none-any.whl (53 kB)\n",
            "Collecting huggingface-hub==0.8.1 (from -r /content/drive/MyDrive/Deep_Learning/text_classification//requirements.txt (line 12))\n",
            "  Using cached huggingface_hub-0.8.1-py3-none-any.whl (101 kB)\n",
            "Collecting response==0.5.0 (from -r /content/drive/MyDrive/Deep_Learning/text_classification//requirements.txt (line 13))\n",
            "  Using cached response-0.5.0-py3-none-any.whl (14 kB)\n",
            "Collecting transformers==4.12.5 (from -r /content/drive/MyDrive/Deep_Learning/text_classification//requirements.txt (line 14))\n",
            "  Using cached transformers-4.12.5-py3-none-any.whl (3.1 MB)\n",
            "Collecting seqeval==1.2.2 (from -r /content/drive/MyDrive/Deep_Learning/text_classification//requirements.txt (line 15))\n",
            "  Using cached seqeval-1.2.2-py3-none-any.whl\n",
            "Collecting deepspeed==0.5.7 (from -r /content/drive/MyDrive/Deep_Learning/text_classification//requirements.txt (line 16))\n",
            "  Using cached deepspeed-0.5.7-py3-none-any.whl\n",
            "Collecting tensorboard==2.7.0 (from -r /content/drive/MyDrive/Deep_Learning/text_classification//requirements.txt (line 17))\n",
            "  Using cached tensorboard-2.7.0-py3-none-any.whl (5.8 MB)\n",
            "Requirement already satisfied: sentencepiece in /usr/local/lib/python3.10/dist-packages (from -r /content/drive/MyDrive/Deep_Learning/text_classification//requirements.txt (line 19)) (0.1.99)\n",
            "Collecting timm==0.4.12 (from -r /content/drive/MyDrive/Deep_Learning/text_classification//requirements.txt (line 20))\n",
            "  Using cached timm-0.4.12-py3-none-any.whl (376 kB)\n",
            "Requirement already satisfied: Pillow in /usr/local/lib/python3.10/dist-packages (from -r /content/drive/MyDrive/Deep_Learning/text_classification//requirements.txt (line 21)) (9.4.0)\n",
            "Collecting einops (from -r /content/drive/MyDrive/Deep_Learning/text_classification//requirements.txt (line 22))\n",
            "  Using cached einops-0.8.0-py3-none-any.whl (43 kB)\n",
            "Collecting textdistance (from -r /content/drive/MyDrive/Deep_Learning/text_classification//requirements.txt (line 23))\n",
            "  Using cached textdistance-4.6.2-py3-none-any.whl (31 kB)\n",
            "Requirement already satisfied: shapely in /usr/local/lib/python3.10/dist-packages (from -r /content/drive/MyDrive/Deep_Learning/text_classification//requirements.txt (line 24)) (2.0.4)\n",
            "Collecting tokenizers==0.10.1 (from -r /content/drive/MyDrive/Deep_Learning/text_classification//requirements.txt (line 25))\n",
            "  Using cached tokenizers-0.10.1.tar.gz (210 kB)\n",
            "  Installing build dependencies ... \u001b[?25l\u001b[?25hdone\n",
            "  Getting requirements to build wheel ... \u001b[?25l\u001b[?25hdone\n",
            "  Preparing metadata (pyproject.toml) ... \u001b[?25l\u001b[?25hdone\n",
            "Requirement already satisfied: torchaudio in /usr/local/lib/python3.10/dist-packages (from -r /content/drive/MyDrive/Deep_Learning/text_classification//requirements.txt (line 26)) (2.2.1+cu121)\n",
            "Requirement already satisfied: pyarrow>=6.0.0 in /usr/local/lib/python3.10/dist-packages (from datasets==2.3.2->-r /content/drive/MyDrive/Deep_Learning/text_classification//requirements.txt (line 3)) (14.0.2)\n",
            "Collecting dill<0.3.6 (from datasets==2.3.2->-r /content/drive/MyDrive/Deep_Learning/text_classification//requirements.txt (line 3))\n",
            "  Using cached dill-0.3.5.1-py2.py3-none-any.whl (95 kB)\n",
            "Requirement already satisfied: requests>=2.19.0 in /usr/local/lib/python3.10/dist-packages (from datasets==2.3.2->-r /content/drive/MyDrive/Deep_Learning/text_classification//requirements.txt (line 3)) (2.31.0)\n",
            "Requirement already satisfied: xxhash in /usr/local/lib/python3.10/dist-packages (from datasets==2.3.2->-r /content/drive/MyDrive/Deep_Learning/text_classification//requirements.txt (line 3)) (3.4.1)\n",
            "Requirement already satisfied: multiprocess in /usr/local/lib/python3.10/dist-packages (from datasets==2.3.2->-r /content/drive/MyDrive/Deep_Learning/text_classification//requirements.txt (line 3)) (0.70.16)\n",
            "Requirement already satisfied: fsspec[http]>=2021.05.0 in /usr/local/lib/python3.10/dist-packages (from datasets==2.3.2->-r /content/drive/MyDrive/Deep_Learning/text_classification//requirements.txt (line 3)) (2023.6.0)\n",
            "Requirement already satisfied: aiohttp in /usr/local/lib/python3.10/dist-packages (from datasets==2.3.2->-r /content/drive/MyDrive/Deep_Learning/text_classification//requirements.txt (line 3)) (3.9.5)\n",
            "Requirement already satisfied: packaging in /usr/local/lib/python3.10/dist-packages (from datasets==2.3.2->-r /content/drive/MyDrive/Deep_Learning/text_classification//requirements.txt (line 3)) (24.0)\n",
            "Collecting responses<0.19 (from datasets==2.3.2->-r /content/drive/MyDrive/Deep_Learning/text_classification//requirements.txt (line 3))\n",
            "  Using cached responses-0.18.0-py3-none-any.whl (38 kB)\n",
            "Requirement already satisfied: filelock in /usr/local/lib/python3.10/dist-packages (from huggingface-hub==0.8.1->-r /content/drive/MyDrive/Deep_Learning/text_classification//requirements.txt (line 12)) (3.14.0)\n",
            "Requirement already satisfied: pyyaml>=5.1 in /usr/local/lib/python3.10/dist-packages (from huggingface-hub==0.8.1->-r /content/drive/MyDrive/Deep_Learning/text_classification//requirements.txt (line 12)) (6.0.1)\n",
            "Requirement already satisfied: typing-extensions>=3.7.4.3 in /usr/local/lib/python3.10/dist-packages (from huggingface-hub==0.8.1->-r /content/drive/MyDrive/Deep_Learning/text_classification//requirements.txt (line 12)) (4.11.0)\n",
            "Requirement already satisfied: scipy in /usr/local/lib/python3.10/dist-packages (from response==0.5.0->-r /content/drive/MyDrive/Deep_Learning/text_classification//requirements.txt (line 13)) (1.11.4)\n",
            "Requirement already satisfied: matplotlib>=2.2.0 in /usr/local/lib/python3.10/dist-packages (from response==0.5.0->-r /content/drive/MyDrive/Deep_Learning/text_classification//requirements.txt (line 13)) (3.7.1)\n",
            "Requirement already satisfied: regex!=2019.12.17 in /usr/local/lib/python3.10/dist-packages (from transformers==4.12.5->-r /content/drive/MyDrive/Deep_Learning/text_classification//requirements.txt (line 14)) (2023.12.25)\n",
            "Collecting sacremoses (from transformers==4.12.5->-r /content/drive/MyDrive/Deep_Learning/text_classification//requirements.txt (line 14))\n",
            "  Using cached sacremoses-0.1.1-py3-none-any.whl (897 kB)\n",
            "Collecting ninja (from deepspeed==0.5.7->-r /content/drive/MyDrive/Deep_Learning/text_classification//requirements.txt (line 16))\n",
            "  Using cached ninja-1.11.1.1-py2.py3-none-manylinux1_x86_64.manylinux_2_5_x86_64.whl (307 kB)\n",
            "Requirement already satisfied: psutil in /usr/local/lib/python3.10/dist-packages (from deepspeed==0.5.7->-r /content/drive/MyDrive/Deep_Learning/text_classification//requirements.txt (line 16)) (5.9.5)\n",
            "Collecting hjson (from deepspeed==0.5.7->-r /content/drive/MyDrive/Deep_Learning/text_classification//requirements.txt (line 16))\n",
            "  Using cached hjson-3.1.0-py3-none-any.whl (54 kB)\n",
            "Requirement already satisfied: absl-py>=0.4 in /usr/local/lib/python3.10/dist-packages (from tensorboard==2.7.0->-r /content/drive/MyDrive/Deep_Learning/text_classification//requirements.txt (line 17)) (1.4.0)\n",
            "Requirement already satisfied: grpcio>=1.24.3 in /usr/local/lib/python3.10/dist-packages (from tensorboard==2.7.0->-r /content/drive/MyDrive/Deep_Learning/text_classification//requirements.txt (line 17)) (1.63.0)\n",
            "Requirement already satisfied: google-auth<3,>=1.6.3 in /usr/local/lib/python3.10/dist-packages (from tensorboard==2.7.0->-r /content/drive/MyDrive/Deep_Learning/text_classification//requirements.txt (line 17)) (2.27.0)\n",
            "Collecting google-auth-oauthlib<0.5,>=0.4.1 (from tensorboard==2.7.0->-r /content/drive/MyDrive/Deep_Learning/text_classification//requirements.txt (line 17))\n",
            "  Using cached google_auth_oauthlib-0.4.6-py2.py3-none-any.whl (18 kB)\n",
            "Requirement already satisfied: markdown>=2.6.8 in /usr/local/lib/python3.10/dist-packages (from tensorboard==2.7.0->-r /content/drive/MyDrive/Deep_Learning/text_classification//requirements.txt (line 17)) (3.6)\n",
            "Requirement already satisfied: protobuf>=3.6.0 in /usr/local/lib/python3.10/dist-packages (from tensorboard==2.7.0->-r /content/drive/MyDrive/Deep_Learning/text_classification//requirements.txt (line 17)) (3.20.3)\n",
            "Requirement already satisfied: setuptools>=41.0.0 in /usr/local/lib/python3.10/dist-packages (from tensorboard==2.7.0->-r /content/drive/MyDrive/Deep_Learning/text_classification//requirements.txt (line 17)) (67.7.2)\n",
            "Collecting tensorboard-data-server<0.7.0,>=0.6.0 (from tensorboard==2.7.0->-r /content/drive/MyDrive/Deep_Learning/text_classification//requirements.txt (line 17))\n",
            "  Using cached tensorboard_data_server-0.6.1-py3-none-manylinux2010_x86_64.whl (4.9 MB)\n",
            "Collecting tensorboard-plugin-wit>=1.6.0 (from tensorboard==2.7.0->-r /content/drive/MyDrive/Deep_Learning/text_classification//requirements.txt (line 17))\n",
            "  Using cached tensorboard_plugin_wit-1.8.1-py3-none-any.whl (781 kB)\n",
            "Requirement already satisfied: werkzeug>=0.11.15 in /usr/local/lib/python3.10/dist-packages (from tensorboard==2.7.0->-r /content/drive/MyDrive/Deep_Learning/text_classification//requirements.txt (line 17)) (3.0.3)\n",
            "Requirement already satisfied: wheel>=0.26 in /usr/local/lib/python3.10/dist-packages (from tensorboard==2.7.0->-r /content/drive/MyDrive/Deep_Learning/text_classification//requirements.txt (line 17)) (0.43.0)\n",
            "Requirement already satisfied: torchvision in /usr/local/lib/python3.10/dist-packages (from timm==0.4.12->-r /content/drive/MyDrive/Deep_Learning/text_classification//requirements.txt (line 20)) (0.17.1+cu121)\n",
            "Requirement already satisfied: sympy in /usr/local/lib/python3.10/dist-packages (from torch->-r /content/drive/MyDrive/Deep_Learning/text_classification//requirements.txt (line 1)) (1.12)\n",
            "Requirement already satisfied: networkx in /usr/local/lib/python3.10/dist-packages (from torch->-r /content/drive/MyDrive/Deep_Learning/text_classification//requirements.txt (line 1)) (3.3)\n",
            "Requirement already satisfied: jinja2 in /usr/local/lib/python3.10/dist-packages (from torch->-r /content/drive/MyDrive/Deep_Learning/text_classification//requirements.txt (line 1)) (3.1.4)\n",
            "Requirement already satisfied: nvidia-cuda-nvrtc-cu12==12.1.105 in /usr/local/lib/python3.10/dist-packages (from torch->-r /content/drive/MyDrive/Deep_Learning/text_classification//requirements.txt (line 1)) (12.1.105)\n",
            "Requirement already satisfied: nvidia-cuda-runtime-cu12==12.1.105 in /usr/local/lib/python3.10/dist-packages (from torch->-r /content/drive/MyDrive/Deep_Learning/text_classification//requirements.txt (line 1)) (12.1.105)\n",
            "Requirement already satisfied: nvidia-cuda-cupti-cu12==12.1.105 in /usr/local/lib/python3.10/dist-packages (from torch->-r /content/drive/MyDrive/Deep_Learning/text_classification//requirements.txt (line 1)) (12.1.105)\n",
            "Requirement already satisfied: nvidia-cudnn-cu12==8.9.2.26 in /usr/local/lib/python3.10/dist-packages (from torch->-r /content/drive/MyDrive/Deep_Learning/text_classification//requirements.txt (line 1)) (8.9.2.26)\n",
            "Requirement already satisfied: nvidia-cublas-cu12==12.1.3.1 in /usr/local/lib/python3.10/dist-packages (from torch->-r /content/drive/MyDrive/Deep_Learning/text_classification//requirements.txt (line 1)) (12.1.3.1)\n",
            "Requirement already satisfied: nvidia-cufft-cu12==11.0.2.54 in /usr/local/lib/python3.10/dist-packages (from torch->-r /content/drive/MyDrive/Deep_Learning/text_classification//requirements.txt (line 1)) (11.0.2.54)\n",
            "Requirement already satisfied: nvidia-curand-cu12==10.3.2.106 in /usr/local/lib/python3.10/dist-packages (from torch->-r /content/drive/MyDrive/Deep_Learning/text_classification//requirements.txt (line 1)) (10.3.2.106)\n",
            "Requirement already satisfied: nvidia-cusolver-cu12==11.4.5.107 in /usr/local/lib/python3.10/dist-packages (from torch->-r /content/drive/MyDrive/Deep_Learning/text_classification//requirements.txt (line 1)) (11.4.5.107)\n",
            "Requirement already satisfied: nvidia-cusparse-cu12==12.1.0.106 in /usr/local/lib/python3.10/dist-packages (from torch->-r /content/drive/MyDrive/Deep_Learning/text_classification//requirements.txt (line 1)) (12.1.0.106)\n",
            "Requirement already satisfied: nvidia-nccl-cu12==2.19.3 in /usr/local/lib/python3.10/dist-packages (from torch->-r /content/drive/MyDrive/Deep_Learning/text_classification//requirements.txt (line 1)) (2.19.3)\n",
            "Requirement already satisfied: nvidia-nvtx-cu12==12.1.105 in /usr/local/lib/python3.10/dist-packages (from torch->-r /content/drive/MyDrive/Deep_Learning/text_classification//requirements.txt (line 1)) (12.1.105)\n",
            "Requirement already satisfied: triton==2.2.0 in /usr/local/lib/python3.10/dist-packages (from torch->-r /content/drive/MyDrive/Deep_Learning/text_classification//requirements.txt (line 1)) (2.2.0)\n",
            "Requirement already satisfied: nvidia-nvjitlink-cu12 in /usr/local/lib/python3.10/dist-packages (from nvidia-cusolver-cu12==11.4.5.107->torch->-r /content/drive/MyDrive/Deep_Learning/text_classification//requirements.txt (line 1)) (12.4.127)\n",
            "Requirement already satisfied: click<8.2,>=7.1 in /usr/local/lib/python3.10/dist-packages (from gTTS~=2.5.1->-r /content/drive/MyDrive/Deep_Learning/text_classification//requirements.txt (line 4)) (8.1.7)\n",
            "Requirement already satisfied: python-dateutil>=2.8.2 in /usr/local/lib/python3.10/dist-packages (from pandas~=2.2.2->-r /content/drive/MyDrive/Deep_Learning/text_classification//requirements.txt (line 5)) (2.8.2)\n",
            "Requirement already satisfied: pytz>=2020.1 in /usr/local/lib/python3.10/dist-packages (from pandas~=2.2.2->-r /content/drive/MyDrive/Deep_Learning/text_classification//requirements.txt (line 5)) (2023.4)\n",
            "Requirement already satisfied: tzdata>=2022.7 in /usr/local/lib/python3.10/dist-packages (from pandas~=2.2.2->-r /content/drive/MyDrive/Deep_Learning/text_classification//requirements.txt (line 5)) (2024.1)\n",
            "Requirement already satisfied: joblib>=1.2.0 in /usr/local/lib/python3.10/dist-packages (from scikit-learn~=1.4.2->-r /content/drive/MyDrive/Deep_Learning/text_classification//requirements.txt (line 7)) (1.4.2)\n",
            "Requirement already satisfied: threadpoolctl>=2.0.0 in /usr/local/lib/python3.10/dist-packages (from scikit-learn~=1.4.2->-r /content/drive/MyDrive/Deep_Learning/text_classification//requirements.txt (line 7)) (3.5.0)\n",
            "Requirement already satisfied: cffi>=1.0 in /usr/local/lib/python3.10/dist-packages (from soundfile->-r /content/drive/MyDrive/Deep_Learning/text_classification//requirements.txt (line 8)) (1.16.0)\n",
            "Requirement already satisfied: audioread>=2.1.9 in /usr/local/lib/python3.10/dist-packages (from librosa->-r /content/drive/MyDrive/Deep_Learning/text_classification//requirements.txt (line 10)) (3.0.1)\n",
            "Requirement already satisfied: decorator>=4.3.0 in /usr/local/lib/python3.10/dist-packages (from librosa->-r /content/drive/MyDrive/Deep_Learning/text_classification//requirements.txt (line 10)) (4.4.2)\n",
            "Requirement already satisfied: numba>=0.51.0 in /usr/local/lib/python3.10/dist-packages (from librosa->-r /content/drive/MyDrive/Deep_Learning/text_classification//requirements.txt (line 10)) (0.58.1)\n",
            "Requirement already satisfied: pooch>=1.1 in /usr/local/lib/python3.10/dist-packages (from librosa->-r /content/drive/MyDrive/Deep_Learning/text_classification//requirements.txt (line 10)) (1.8.1)\n",
            "Requirement already satisfied: soxr>=0.3.2 in /usr/local/lib/python3.10/dist-packages (from librosa->-r /content/drive/MyDrive/Deep_Learning/text_classification//requirements.txt (line 10)) (0.3.7)\n",
            "Requirement already satisfied: lazy-loader>=0.1 in /usr/local/lib/python3.10/dist-packages (from librosa->-r /content/drive/MyDrive/Deep_Learning/text_classification//requirements.txt (line 10)) (0.4)\n",
            "Requirement already satisfied: msgpack>=1.0 in /usr/local/lib/python3.10/dist-packages (from librosa->-r /content/drive/MyDrive/Deep_Learning/text_classification//requirements.txt (line 10)) (1.0.8)\n",
            "Requirement already satisfied: pycparser in /usr/local/lib/python3.10/dist-packages (from cffi>=1.0->soundfile->-r /content/drive/MyDrive/Deep_Learning/text_classification//requirements.txt (line 8)) (2.22)\n",
            "Requirement already satisfied: aiosignal>=1.1.2 in /usr/local/lib/python3.10/dist-packages (from aiohttp->datasets==2.3.2->-r /content/drive/MyDrive/Deep_Learning/text_classification//requirements.txt (line 3)) (1.3.1)\n",
            "Requirement already satisfied: attrs>=17.3.0 in /usr/local/lib/python3.10/dist-packages (from aiohttp->datasets==2.3.2->-r /content/drive/MyDrive/Deep_Learning/text_classification//requirements.txt (line 3)) (23.2.0)\n",
            "Requirement already satisfied: frozenlist>=1.1.1 in /usr/local/lib/python3.10/dist-packages (from aiohttp->datasets==2.3.2->-r /content/drive/MyDrive/Deep_Learning/text_classification//requirements.txt (line 3)) (1.4.1)\n",
            "Requirement already satisfied: multidict<7.0,>=4.5 in /usr/local/lib/python3.10/dist-packages (from aiohttp->datasets==2.3.2->-r /content/drive/MyDrive/Deep_Learning/text_classification//requirements.txt (line 3)) (6.0.5)\n",
            "Requirement already satisfied: yarl<2.0,>=1.0 in /usr/local/lib/python3.10/dist-packages (from aiohttp->datasets==2.3.2->-r /content/drive/MyDrive/Deep_Learning/text_classification//requirements.txt (line 3)) (1.9.4)\n",
            "Requirement already satisfied: async-timeout<5.0,>=4.0 in /usr/local/lib/python3.10/dist-packages (from aiohttp->datasets==2.3.2->-r /content/drive/MyDrive/Deep_Learning/text_classification//requirements.txt (line 3)) (4.0.3)\n",
            "Requirement already satisfied: cachetools<6.0,>=2.0.0 in /usr/local/lib/python3.10/dist-packages (from google-auth<3,>=1.6.3->tensorboard==2.7.0->-r /content/drive/MyDrive/Deep_Learning/text_classification//requirements.txt (line 17)) (5.3.3)\n",
            "Requirement already satisfied: pyasn1-modules>=0.2.1 in /usr/local/lib/python3.10/dist-packages (from google-auth<3,>=1.6.3->tensorboard==2.7.0->-r /content/drive/MyDrive/Deep_Learning/text_classification//requirements.txt (line 17)) (0.4.0)\n",
            "Requirement already satisfied: rsa<5,>=3.1.4 in /usr/local/lib/python3.10/dist-packages (from google-auth<3,>=1.6.3->tensorboard==2.7.0->-r /content/drive/MyDrive/Deep_Learning/text_classification//requirements.txt (line 17)) (4.9)\n",
            "Requirement already satisfied: requests-oauthlib>=0.7.0 in /usr/local/lib/python3.10/dist-packages (from google-auth-oauthlib<0.5,>=0.4.1->tensorboard==2.7.0->-r /content/drive/MyDrive/Deep_Learning/text_classification//requirements.txt (line 17)) (1.3.1)\n",
            "Requirement already satisfied: contourpy>=1.0.1 in /usr/local/lib/python3.10/dist-packages (from matplotlib>=2.2.0->response==0.5.0->-r /content/drive/MyDrive/Deep_Learning/text_classification//requirements.txt (line 13)) (1.2.1)\n",
            "Requirement already satisfied: cycler>=0.10 in /usr/local/lib/python3.10/dist-packages (from matplotlib>=2.2.0->response==0.5.0->-r /content/drive/MyDrive/Deep_Learning/text_classification//requirements.txt (line 13)) (0.12.1)\n",
            "Requirement already satisfied: fonttools>=4.22.0 in /usr/local/lib/python3.10/dist-packages (from matplotlib>=2.2.0->response==0.5.0->-r /content/drive/MyDrive/Deep_Learning/text_classification//requirements.txt (line 13)) (4.51.0)\n",
            "Requirement already satisfied: kiwisolver>=1.0.1 in /usr/local/lib/python3.10/dist-packages (from matplotlib>=2.2.0->response==0.5.0->-r /content/drive/MyDrive/Deep_Learning/text_classification//requirements.txt (line 13)) (1.4.5)\n",
            "Requirement already satisfied: pyparsing>=2.3.1 in /usr/local/lib/python3.10/dist-packages (from matplotlib>=2.2.0->response==0.5.0->-r /content/drive/MyDrive/Deep_Learning/text_classification//requirements.txt (line 13)) (3.1.2)\n",
            "Requirement already satisfied: llvmlite<0.42,>=0.41.0dev0 in /usr/local/lib/python3.10/dist-packages (from numba>=0.51.0->librosa->-r /content/drive/MyDrive/Deep_Learning/text_classification//requirements.txt (line 10)) (0.41.1)\n",
            "Requirement already satisfied: platformdirs>=2.5.0 in /usr/local/lib/python3.10/dist-packages (from pooch>=1.1->librosa->-r /content/drive/MyDrive/Deep_Learning/text_classification//requirements.txt (line 10)) (4.2.1)\n",
            "Requirement already satisfied: six>=1.5 in /usr/local/lib/python3.10/dist-packages (from python-dateutil>=2.8.2->pandas~=2.2.2->-r /content/drive/MyDrive/Deep_Learning/text_classification//requirements.txt (line 5)) (1.16.0)\n",
            "Requirement already satisfied: charset-normalizer<4,>=2 in /usr/local/lib/python3.10/dist-packages (from requests>=2.19.0->datasets==2.3.2->-r /content/drive/MyDrive/Deep_Learning/text_classification//requirements.txt (line 3)) (3.3.2)\n",
            "Requirement already satisfied: idna<4,>=2.5 in /usr/local/lib/python3.10/dist-packages (from requests>=2.19.0->datasets==2.3.2->-r /content/drive/MyDrive/Deep_Learning/text_classification//requirements.txt (line 3)) (3.7)\n",
            "Requirement already satisfied: urllib3<3,>=1.21.1 in /usr/local/lib/python3.10/dist-packages (from requests>=2.19.0->datasets==2.3.2->-r /content/drive/MyDrive/Deep_Learning/text_classification//requirements.txt (line 3)) (2.0.7)\n",
            "Requirement already satisfied: certifi>=2017.4.17 in /usr/local/lib/python3.10/dist-packages (from requests>=2.19.0->datasets==2.3.2->-r /content/drive/MyDrive/Deep_Learning/text_classification//requirements.txt (line 3)) (2024.2.2)\n",
            "Requirement already satisfied: MarkupSafe>=2.1.1 in /usr/local/lib/python3.10/dist-packages (from werkzeug>=0.11.15->tensorboard==2.7.0->-r /content/drive/MyDrive/Deep_Learning/text_classification//requirements.txt (line 17)) (2.1.5)\n",
            "INFO: pip is looking at multiple versions of multiprocess to determine which version is compatible with other requirements. This could take a while.\n",
            "Collecting multiprocess (from datasets==2.3.2->-r /content/drive/MyDrive/Deep_Learning/text_classification//requirements.txt (line 3))\n",
            "  Using cached multiprocess-0.70.15-py310-none-any.whl (134 kB)\n",
            "  Using cached multiprocess-0.70.14-py310-none-any.whl (134 kB)\n",
            "  Using cached multiprocess-0.70.13-py310-none-any.whl (133 kB)\n",
            "Requirement already satisfied: mpmath>=0.19 in /usr/local/lib/python3.10/dist-packages (from sympy->torch->-r /content/drive/MyDrive/Deep_Learning/text_classification//requirements.txt (line 1)) (1.3.0)\n",
            "Requirement already satisfied: pyasn1<0.7.0,>=0.4.6 in /usr/local/lib/python3.10/dist-packages (from pyasn1-modules>=0.2.1->google-auth<3,>=1.6.3->tensorboard==2.7.0->-r /content/drive/MyDrive/Deep_Learning/text_classification//requirements.txt (line 17)) (0.6.0)\n",
            "Requirement already satisfied: oauthlib>=3.0.0 in /usr/local/lib/python3.10/dist-packages (from requests-oauthlib>=0.7.0->google-auth-oauthlib<0.5,>=0.4.1->tensorboard==2.7.0->-r /content/drive/MyDrive/Deep_Learning/text_classification//requirements.txt (line 17)) (3.2.2)\n",
            "Building wheels for collected packages: tokenizers\n",
            "  \u001b[1;31merror\u001b[0m: \u001b[1msubprocess-exited-with-error\u001b[0m\n",
            "  \n",
            "  \u001b[31m×\u001b[0m \u001b[32mBuilding wheel for tokenizers \u001b[0m\u001b[1;32m(\u001b[0m\u001b[32mpyproject.toml\u001b[0m\u001b[1;32m)\u001b[0m did not run successfully.\n",
            "  \u001b[31m│\u001b[0m exit code: \u001b[1;36m1\u001b[0m\n",
            "  \u001b[31m╰─>\u001b[0m See above for output.\n",
            "  \n",
            "  \u001b[1;35mnote\u001b[0m: This error originates from a subprocess, and is likely not a problem with pip.\n",
            "  Building wheel for tokenizers (pyproject.toml) ... \u001b[?25l\u001b[?25herror\n",
            "\u001b[31m  ERROR: Failed building wheel for tokenizers\u001b[0m\u001b[31m\n",
            "\u001b[0mFailed to build tokenizers\n",
            "\u001b[31mERROR: Could not build wheels for tokenizers, which is required to install pyproject.toml-based projects\u001b[0m\u001b[31m\n",
            "\u001b[0m"
          ]
        }
      ],
      "source": [
        "requirements = ROOT_PATH + \"/requirements.txt\"\n",
        "%pip install -r {requirements}"
      ]
    },
    {
      "cell_type": "code",
      "execution_count": 37,
      "id": "21fb1cbe",
      "metadata": {
        "colab": {
          "base_uri": "https://localhost:8080/"
        },
        "id": "21fb1cbe",
        "outputId": "f33729f2-b765-4116-9044-e1e3f14316ca"
      },
      "outputs": [
        {
          "output_type": "stream",
          "name": "stdout",
          "text": [
            "Requirement already satisfied: evaluate in /usr/local/lib/python3.10/dist-packages (0.4.2)\n",
            "Requirement already satisfied: datasets>=2.0.0 in /usr/local/lib/python3.10/dist-packages (from evaluate) (2.19.1)\n",
            "Requirement already satisfied: numpy>=1.17 in /usr/local/lib/python3.10/dist-packages (from evaluate) (1.25.2)\n",
            "Requirement already satisfied: dill in /usr/local/lib/python3.10/dist-packages (from evaluate) (0.3.8)\n",
            "Requirement already satisfied: pandas in /usr/local/lib/python3.10/dist-packages (from evaluate) (2.0.3)\n",
            "Requirement already satisfied: requests>=2.19.0 in /usr/local/lib/python3.10/dist-packages (from evaluate) (2.31.0)\n",
            "Requirement already satisfied: tqdm>=4.62.1 in /usr/local/lib/python3.10/dist-packages (from evaluate) (4.66.4)\n",
            "Requirement already satisfied: xxhash in /usr/local/lib/python3.10/dist-packages (from evaluate) (3.4.1)\n",
            "Requirement already satisfied: multiprocess in /usr/local/lib/python3.10/dist-packages (from evaluate) (0.70.16)\n",
            "Requirement already satisfied: fsspec[http]>=2021.05.0 in /usr/local/lib/python3.10/dist-packages (from evaluate) (2023.6.0)\n",
            "Requirement already satisfied: huggingface-hub>=0.7.0 in /usr/local/lib/python3.10/dist-packages (from evaluate) (0.23.0)\n",
            "Requirement already satisfied: packaging in /usr/local/lib/python3.10/dist-packages (from evaluate) (24.0)\n",
            "Requirement already satisfied: filelock in /usr/local/lib/python3.10/dist-packages (from datasets>=2.0.0->evaluate) (3.14.0)\n",
            "Requirement already satisfied: pyarrow>=12.0.0 in /usr/local/lib/python3.10/dist-packages (from datasets>=2.0.0->evaluate) (14.0.2)\n",
            "Requirement already satisfied: pyarrow-hotfix in /usr/local/lib/python3.10/dist-packages (from datasets>=2.0.0->evaluate) (0.6)\n",
            "Requirement already satisfied: aiohttp in /usr/local/lib/python3.10/dist-packages (from datasets>=2.0.0->evaluate) (3.9.5)\n",
            "Requirement already satisfied: pyyaml>=5.1 in /usr/local/lib/python3.10/dist-packages (from datasets>=2.0.0->evaluate) (6.0.1)\n",
            "Requirement already satisfied: typing-extensions>=3.7.4.3 in /usr/local/lib/python3.10/dist-packages (from huggingface-hub>=0.7.0->evaluate) (4.11.0)\n",
            "Requirement already satisfied: charset-normalizer<4,>=2 in /usr/local/lib/python3.10/dist-packages (from requests>=2.19.0->evaluate) (3.3.2)\n",
            "Requirement already satisfied: idna<4,>=2.5 in /usr/local/lib/python3.10/dist-packages (from requests>=2.19.0->evaluate) (3.7)\n",
            "Requirement already satisfied: urllib3<3,>=1.21.1 in /usr/local/lib/python3.10/dist-packages (from requests>=2.19.0->evaluate) (2.0.7)\n",
            "Requirement already satisfied: certifi>=2017.4.17 in /usr/local/lib/python3.10/dist-packages (from requests>=2.19.0->evaluate) (2024.2.2)\n",
            "Requirement already satisfied: python-dateutil>=2.8.2 in /usr/local/lib/python3.10/dist-packages (from pandas->evaluate) (2.8.2)\n",
            "Requirement already satisfied: pytz>=2020.1 in /usr/local/lib/python3.10/dist-packages (from pandas->evaluate) (2023.4)\n",
            "Requirement already satisfied: tzdata>=2022.1 in /usr/local/lib/python3.10/dist-packages (from pandas->evaluate) (2024.1)\n",
            "Requirement already satisfied: aiosignal>=1.1.2 in /usr/local/lib/python3.10/dist-packages (from aiohttp->datasets>=2.0.0->evaluate) (1.3.1)\n",
            "Requirement already satisfied: attrs>=17.3.0 in /usr/local/lib/python3.10/dist-packages (from aiohttp->datasets>=2.0.0->evaluate) (23.2.0)\n",
            "Requirement already satisfied: frozenlist>=1.1.1 in /usr/local/lib/python3.10/dist-packages (from aiohttp->datasets>=2.0.0->evaluate) (1.4.1)\n",
            "Requirement already satisfied: multidict<7.0,>=4.5 in /usr/local/lib/python3.10/dist-packages (from aiohttp->datasets>=2.0.0->evaluate) (6.0.5)\n",
            "Requirement already satisfied: yarl<2.0,>=1.0 in /usr/local/lib/python3.10/dist-packages (from aiohttp->datasets>=2.0.0->evaluate) (1.9.4)\n",
            "Requirement already satisfied: async-timeout<5.0,>=4.0 in /usr/local/lib/python3.10/dist-packages (from aiohttp->datasets>=2.0.0->evaluate) (4.0.3)\n",
            "Requirement already satisfied: six>=1.5 in /usr/local/lib/python3.10/dist-packages (from python-dateutil>=2.8.2->pandas->evaluate) (1.16.0)\n",
            "Requirement already satisfied: datasets in /usr/local/lib/python3.10/dist-packages (2.19.1)\n",
            "Requirement already satisfied: filelock in /usr/local/lib/python3.10/dist-packages (from datasets) (3.14.0)\n",
            "Requirement already satisfied: numpy>=1.17 in /usr/local/lib/python3.10/dist-packages (from datasets) (1.25.2)\n",
            "Requirement already satisfied: pyarrow>=12.0.0 in /usr/local/lib/python3.10/dist-packages (from datasets) (14.0.2)\n",
            "Requirement already satisfied: pyarrow-hotfix in /usr/local/lib/python3.10/dist-packages (from datasets) (0.6)\n",
            "Requirement already satisfied: dill<0.3.9,>=0.3.0 in /usr/local/lib/python3.10/dist-packages (from datasets) (0.3.8)\n",
            "Requirement already satisfied: pandas in /usr/local/lib/python3.10/dist-packages (from datasets) (2.0.3)\n",
            "Requirement already satisfied: requests>=2.19.0 in /usr/local/lib/python3.10/dist-packages (from datasets) (2.31.0)\n",
            "Requirement already satisfied: tqdm>=4.62.1 in /usr/local/lib/python3.10/dist-packages (from datasets) (4.66.4)\n",
            "Requirement already satisfied: xxhash in /usr/local/lib/python3.10/dist-packages (from datasets) (3.4.1)\n",
            "Requirement already satisfied: multiprocess in /usr/local/lib/python3.10/dist-packages (from datasets) (0.70.16)\n",
            "Requirement already satisfied: fsspec[http]<=2024.3.1,>=2023.1.0 in /usr/local/lib/python3.10/dist-packages (from datasets) (2023.6.0)\n",
            "Requirement already satisfied: aiohttp in /usr/local/lib/python3.10/dist-packages (from datasets) (3.9.5)\n",
            "Requirement already satisfied: huggingface-hub>=0.21.2 in /usr/local/lib/python3.10/dist-packages (from datasets) (0.23.0)\n",
            "Requirement already satisfied: packaging in /usr/local/lib/python3.10/dist-packages (from datasets) (24.0)\n",
            "Requirement already satisfied: pyyaml>=5.1 in /usr/local/lib/python3.10/dist-packages (from datasets) (6.0.1)\n",
            "Requirement already satisfied: aiosignal>=1.1.2 in /usr/local/lib/python3.10/dist-packages (from aiohttp->datasets) (1.3.1)\n",
            "Requirement already satisfied: attrs>=17.3.0 in /usr/local/lib/python3.10/dist-packages (from aiohttp->datasets) (23.2.0)\n",
            "Requirement already satisfied: frozenlist>=1.1.1 in /usr/local/lib/python3.10/dist-packages (from aiohttp->datasets) (1.4.1)\n",
            "Requirement already satisfied: multidict<7.0,>=4.5 in /usr/local/lib/python3.10/dist-packages (from aiohttp->datasets) (6.0.5)\n",
            "Requirement already satisfied: yarl<2.0,>=1.0 in /usr/local/lib/python3.10/dist-packages (from aiohttp->datasets) (1.9.4)\n",
            "Requirement already satisfied: async-timeout<5.0,>=4.0 in /usr/local/lib/python3.10/dist-packages (from aiohttp->datasets) (4.0.3)\n",
            "Requirement already satisfied: typing-extensions>=3.7.4.3 in /usr/local/lib/python3.10/dist-packages (from huggingface-hub>=0.21.2->datasets) (4.11.0)\n",
            "Requirement already satisfied: charset-normalizer<4,>=2 in /usr/local/lib/python3.10/dist-packages (from requests>=2.19.0->datasets) (3.3.2)\n",
            "Requirement already satisfied: idna<4,>=2.5 in /usr/local/lib/python3.10/dist-packages (from requests>=2.19.0->datasets) (3.7)\n",
            "Requirement already satisfied: urllib3<3,>=1.21.1 in /usr/local/lib/python3.10/dist-packages (from requests>=2.19.0->datasets) (2.0.7)\n",
            "Requirement already satisfied: certifi>=2017.4.17 in /usr/local/lib/python3.10/dist-packages (from requests>=2.19.0->datasets) (2024.2.2)\n",
            "Requirement already satisfied: python-dateutil>=2.8.2 in /usr/local/lib/python3.10/dist-packages (from pandas->datasets) (2.8.2)\n",
            "Requirement already satisfied: pytz>=2020.1 in /usr/local/lib/python3.10/dist-packages (from pandas->datasets) (2023.4)\n",
            "Requirement already satisfied: tzdata>=2022.1 in /usr/local/lib/python3.10/dist-packages (from pandas->datasets) (2024.1)\n",
            "Requirement already satisfied: six>=1.5 in /usr/local/lib/python3.10/dist-packages (from python-dateutil>=2.8.2->pandas->datasets) (1.16.0)\n",
            "Requirement already satisfied: accelerate in /usr/local/lib/python3.10/dist-packages (0.30.1)\n",
            "Requirement already satisfied: numpy>=1.17 in /usr/local/lib/python3.10/dist-packages (from accelerate) (1.25.2)\n",
            "Requirement already satisfied: packaging>=20.0 in /usr/local/lib/python3.10/dist-packages (from accelerate) (24.0)\n",
            "Requirement already satisfied: psutil in /usr/local/lib/python3.10/dist-packages (from accelerate) (5.9.5)\n",
            "Requirement already satisfied: pyyaml in /usr/local/lib/python3.10/dist-packages (from accelerate) (6.0.1)\n",
            "Requirement already satisfied: torch>=1.10.0 in /usr/local/lib/python3.10/dist-packages (from accelerate) (2.2.1+cu121)\n",
            "Requirement already satisfied: huggingface-hub in /usr/local/lib/python3.10/dist-packages (from accelerate) (0.23.0)\n",
            "Requirement already satisfied: safetensors>=0.3.1 in /usr/local/lib/python3.10/dist-packages (from accelerate) (0.4.3)\n",
            "Requirement already satisfied: filelock in /usr/local/lib/python3.10/dist-packages (from torch>=1.10.0->accelerate) (3.14.0)\n",
            "Requirement already satisfied: typing-extensions>=4.8.0 in /usr/local/lib/python3.10/dist-packages (from torch>=1.10.0->accelerate) (4.11.0)\n",
            "Requirement already satisfied: sympy in /usr/local/lib/python3.10/dist-packages (from torch>=1.10.0->accelerate) (1.12)\n",
            "Requirement already satisfied: networkx in /usr/local/lib/python3.10/dist-packages (from torch>=1.10.0->accelerate) (3.3)\n",
            "Requirement already satisfied: jinja2 in /usr/local/lib/python3.10/dist-packages (from torch>=1.10.0->accelerate) (3.1.4)\n",
            "Requirement already satisfied: fsspec in /usr/local/lib/python3.10/dist-packages (from torch>=1.10.0->accelerate) (2023.6.0)\n",
            "Requirement already satisfied: nvidia-cuda-nvrtc-cu12==12.1.105 in /usr/local/lib/python3.10/dist-packages (from torch>=1.10.0->accelerate) (12.1.105)\n",
            "Requirement already satisfied: nvidia-cuda-runtime-cu12==12.1.105 in /usr/local/lib/python3.10/dist-packages (from torch>=1.10.0->accelerate) (12.1.105)\n",
            "Requirement already satisfied: nvidia-cuda-cupti-cu12==12.1.105 in /usr/local/lib/python3.10/dist-packages (from torch>=1.10.0->accelerate) (12.1.105)\n",
            "Requirement already satisfied: nvidia-cudnn-cu12==8.9.2.26 in /usr/local/lib/python3.10/dist-packages (from torch>=1.10.0->accelerate) (8.9.2.26)\n",
            "Requirement already satisfied: nvidia-cublas-cu12==12.1.3.1 in /usr/local/lib/python3.10/dist-packages (from torch>=1.10.0->accelerate) (12.1.3.1)\n",
            "Requirement already satisfied: nvidia-cufft-cu12==11.0.2.54 in /usr/local/lib/python3.10/dist-packages (from torch>=1.10.0->accelerate) (11.0.2.54)\n",
            "Requirement already satisfied: nvidia-curand-cu12==10.3.2.106 in /usr/local/lib/python3.10/dist-packages (from torch>=1.10.0->accelerate) (10.3.2.106)\n",
            "Requirement already satisfied: nvidia-cusolver-cu12==11.4.5.107 in /usr/local/lib/python3.10/dist-packages (from torch>=1.10.0->accelerate) (11.4.5.107)\n",
            "Requirement already satisfied: nvidia-cusparse-cu12==12.1.0.106 in /usr/local/lib/python3.10/dist-packages (from torch>=1.10.0->accelerate) (12.1.0.106)\n",
            "Requirement already satisfied: nvidia-nccl-cu12==2.19.3 in /usr/local/lib/python3.10/dist-packages (from torch>=1.10.0->accelerate) (2.19.3)\n",
            "Requirement already satisfied: nvidia-nvtx-cu12==12.1.105 in /usr/local/lib/python3.10/dist-packages (from torch>=1.10.0->accelerate) (12.1.105)\n",
            "Requirement already satisfied: triton==2.2.0 in /usr/local/lib/python3.10/dist-packages (from torch>=1.10.0->accelerate) (2.2.0)\n",
            "Requirement already satisfied: nvidia-nvjitlink-cu12 in /usr/local/lib/python3.10/dist-packages (from nvidia-cusolver-cu12==11.4.5.107->torch>=1.10.0->accelerate) (12.4.127)\n",
            "Requirement already satisfied: requests in /usr/local/lib/python3.10/dist-packages (from huggingface-hub->accelerate) (2.31.0)\n",
            "Requirement already satisfied: tqdm>=4.42.1 in /usr/local/lib/python3.10/dist-packages (from huggingface-hub->accelerate) (4.66.4)\n",
            "Requirement already satisfied: MarkupSafe>=2.0 in /usr/local/lib/python3.10/dist-packages (from jinja2->torch>=1.10.0->accelerate) (2.1.5)\n",
            "Requirement already satisfied: charset-normalizer<4,>=2 in /usr/local/lib/python3.10/dist-packages (from requests->huggingface-hub->accelerate) (3.3.2)\n",
            "Requirement already satisfied: idna<4,>=2.5 in /usr/local/lib/python3.10/dist-packages (from requests->huggingface-hub->accelerate) (3.7)\n",
            "Requirement already satisfied: urllib3<3,>=1.21.1 in /usr/local/lib/python3.10/dist-packages (from requests->huggingface-hub->accelerate) (2.0.7)\n",
            "Requirement already satisfied: certifi>=2017.4.17 in /usr/local/lib/python3.10/dist-packages (from requests->huggingface-hub->accelerate) (2024.2.2)\n",
            "Requirement already satisfied: mpmath>=0.19 in /usr/local/lib/python3.10/dist-packages (from sympy->torch>=1.10.0->accelerate) (1.3.0)\n"
          ]
        }
      ],
      "source": [
        "!pip install evaluate\n",
        "!pip install datasets\n",
        "!pip install accelerate -U"
      ]
    },
    {
      "cell_type": "markdown",
      "id": "7da32274",
      "metadata": {
        "id": "7da32274"
      },
      "source": [
        "**Here, restart the kernel and don't execute the above cells that contain `pip ...` anymore after restart.**"
      ]
    },
    {
      "cell_type": "markdown",
      "id": "159e8305",
      "metadata": {
        "id": "159e8305"
      },
      "source": [
        "# Import dependencies"
      ]
    },
    {
      "cell_type": "code",
      "execution_count": 38,
      "id": "a8100542",
      "metadata": {
        "id": "a8100542"
      },
      "outputs": [],
      "source": [
        "import torch\n",
        "from sklearn.model_selection import KFold\n",
        "from data.fetch_dataset_from_hf import fetch_dataset_from_huggingface\n",
        "from huggingface_hub import login\n",
        "from representation_learner import create_label_id_dicts, preprocess_function, compute_metrics\n",
        "from transformers import AutoTokenizer, AutoModelForSequenceClassification, TrainingArguments, Trainer"
      ]
    },
    {
      "cell_type": "markdown",
      "id": "2e852a21",
      "metadata": {
        "id": "2e852a21"
      },
      "source": [
        "# Load dataset"
      ]
    },
    {
      "cell_type": "code",
      "execution_count": 7,
      "id": "5IR_waPyJ6Tc",
      "metadata": {
        "colab": {
          "base_uri": "https://localhost:8080/",
          "height": 162,
          "referenced_widgets": [
            "bce01b3f50d04719bd180cae6f90b6c2",
            "af4a880e43d7455c993b2ce3b82b641e",
            "c8c523b2a16c48ea8962bc0bcaab14a3",
            "41d7aaef35e044e2bafe4531a134c0f8",
            "ad05d7a71cfb4e26a1e7925d45da5b08",
            "0f563e0f54fe42059938dad514bef35c",
            "3d49df324b1d47f09aa0f71876dee6d0",
            "5ef426d6b3d548cface7555dafdb7e10",
            "0840477e2651416b970862dcb8f6356a",
            "71680a5d43a64c2cb674c47bb51ffd7f",
            "0b3b0cd890a141d8b993ea0631263d26",
            "eb48891c58f248d79d78d11008e4b5cb",
            "88ae835d874a4844927c67aeec4cd37b",
            "4f80b6343e4b4dca8cb1689d3b2467ee",
            "0cccc0fd026441ebad5b178aa503ab5d",
            "4f8ddb1e01fc4a5181b09675ccf076b3",
            "ffa957598e084104a5d282d633ec6412",
            "fa441c5d242a47f0ba3d89a5baae96f4",
            "11fa5bd97d9b48f589fb117110a5edf8",
            "a287ffeb218a49eabbb78234c6ff6e59",
            "6f0e4e3ff4c04e01b01e1a7fb0e3f153",
            "4001dc99d0ab4cd984fceeb9ef5cbada",
            "57d062b0694f4820a8a3fc9df60c0d04",
            "007c8ecf00824115bcc64f07c8189b8c",
            "4aa3c93cf48c4329ad2255bba7541a39",
            "c162fa1e66974d218e7dc86c02ae927a",
            "a07326c6be01475b9992109f1498aa21",
            "286a3e6106424cd2bf49197990b104f8",
            "883a2693ae6b411f9295e59d35a070e3",
            "17ca6ec87cc141c295018224b9e74d02",
            "08b771d33a364870a072a86ed66c4e7b",
            "25f3d7de43424a8eaa233d14ba6be028"
          ]
        },
        "id": "5IR_waPyJ6Tc",
        "outputId": "3839180e-98f4-48a2-afe6-d07ca3984965"
      },
      "outputs": [
        {
          "output_type": "display_data",
          "data": {
            "text/plain": [
              "VBox(children=(HTML(value='<center> <img\\nsrc=https://huggingface.co/front/assets/huggingface_logo-noborder.sv…"
            ],
            "application/vnd.jupyter.widget-view+json": {
              "version_major": 2,
              "version_minor": 0,
              "model_id": "bce01b3f50d04719bd180cae6f90b6c2"
            }
          },
          "metadata": {}
        }
      ],
      "source": [
        "login()"
      ]
    },
    {
      "cell_type": "code",
      "execution_count": 39,
      "id": "f2d35c7d",
      "metadata": {
        "colab": {
          "base_uri": "https://localhost:8080/"
        },
        "id": "f2d35c7d",
        "outputId": "b6347beb-7abb-4dff-b518-0a36c66e4b8b",
        "scrolled": false
      },
      "outputs": [
        {
          "output_type": "stream",
          "name": "stderr",
          "text": [
            "/usr/local/lib/python3.10/dist-packages/datasets/load.py:2547: FutureWarning: 'use_auth_token' was deprecated in favor of 'token' in version 2.14.0 and will be removed in 3.0.0.\n",
            "You can remove this warning by passing 'token=<use_auth_token>' instead.\n",
            "  warnings.warn(\n"
          ]
        },
        {
          "output_type": "stream",
          "name": "stdout",
          "text": [
            "DatasetDict({\n",
            "    train: Dataset({\n",
            "        features: ['audio_waveform', 'hate_speech_score', 'label', 'text'],\n",
            "        num_rows: 12392\n",
            "    })\n",
            "    test: Dataset({\n",
            "        features: ['audio_waveform', 'hate_speech_score', 'label', 'text'],\n",
            "        num_rows: 3099\n",
            "    })\n",
            "})\n"
          ]
        }
      ],
      "source": [
        "dataset = fetch_dataset_from_huggingface()\n",
        "print(dataset)"
      ]
    },
    {
      "cell_type": "markdown",
      "id": "d010eba9",
      "metadata": {
        "id": "d010eba9"
      },
      "source": [
        "# Display data format"
      ]
    },
    {
      "cell_type": "code",
      "execution_count": 40,
      "id": "eef9493a",
      "metadata": {
        "colab": {
          "base_uri": "https://localhost:8080/"
        },
        "id": "eef9493a",
        "outputId": "bc43e25c-2d65-47a0-cff2-3470adffe75c"
      },
      "outputs": [
        {
          "output_type": "stream",
          "name": "stdout",
          "text": [
            "{'audio_waveform': {'path': 'padded_1521.mp3', 'array': array([-1.96048524e-04, -1.23826787e-04, -2.09705904e-05, ...,\n",
            "        0.00000000e+00,  0.00000000e+00,  0.00000000e+00]), 'sampling_rate': 16000}, 'hate_speech_score': 0.5, 'label': 0, 'text': 'i would, then fucking wreck that chick.'}\n",
            "{'audio_waveform': {'path': 'padded_13496.mp3', 'array': array([-1.55226910e-04,  2.93002813e-06,  2.67900177e-05, ...,\n",
            "        0.00000000e+00,  0.00000000e+00,  0.00000000e+00]), 'sampling_rate': 16000}, 'hate_speech_score': -0.4, 'label': 1, 'text': 'please send us a video of you fucking a dildo or your daddy... but i also love to see a pussy drooling bad'}\n"
          ]
        },
        {
          "output_type": "execute_result",
          "data": {
            "text/plain": [
              "{'path': 'padded_1521.mp3',\n",
              " 'array': array([-1.96048524e-04, -1.23826787e-04, -2.09705904e-05, ...,\n",
              "         0.00000000e+00,  0.00000000e+00,  0.00000000e+00]),\n",
              " 'sampling_rate': 16000}"
            ]
          },
          "metadata": {},
          "execution_count": 40
        }
      ],
      "source": [
        "print(dataset[\"train\"][0])\n",
        "print(dataset[\"train\"][2])\n",
        "waveform_0 = dataset[\"train\"][0][\"audio_waveform\"]\n",
        "waveform_0"
      ]
    },
    {
      "cell_type": "code",
      "execution_count": 41,
      "id": "f47e7e74",
      "metadata": {
        "colab": {
          "base_uri": "https://localhost:8080/"
        },
        "id": "f47e7e74",
        "outputId": "8c609aae-2a27-42d2-c134-7dc8122d340f"
      },
      "outputs": [
        {
          "output_type": "execute_result",
          "data": {
            "text/plain": [
              "{'audio_waveform': Audio(sampling_rate=16000, mono=True, decode=True, id=None),\n",
              " 'hate_speech_score': Value(dtype='float64', id=None),\n",
              " 'label': ClassLabel(names=['hate', 'non-hate'], id=None),\n",
              " 'text': Value(dtype='string', id=None)}"
            ]
          },
          "metadata": {},
          "execution_count": 41
        }
      ],
      "source": [
        "dataset[\"train\"].features"
      ]
    },
    {
      "cell_type": "code",
      "execution_count": 42,
      "id": "0010c22a",
      "metadata": {
        "colab": {
          "base_uri": "https://localhost:8080/"
        },
        "id": "0010c22a",
        "outputId": "f799793d-76e7-4565-ac1e-375c45f4c3e4"
      },
      "outputs": [
        {
          "output_type": "execute_result",
          "data": {
            "text/plain": [
              "['hate', 'non-hate']"
            ]
          },
          "metadata": {},
          "execution_count": 42
        }
      ],
      "source": [
        "dataset[\"train\"].features[\"label\"].names"
      ]
    },
    {
      "cell_type": "code",
      "execution_count": 43,
      "id": "0e1ccd27",
      "metadata": {
        "scrolled": false,
        "colab": {
          "base_uri": "https://localhost:8080/"
        },
        "id": "0e1ccd27",
        "outputId": "1b534fe5-3b43-4542-f0da-328c88feb314"
      },
      "outputs": [
        {
          "output_type": "stream",
          "name": "stdout",
          "text": [
            "{'audio_waveform': {'path': 'padded_1521.mp3', 'array': array([-1.96048524e-04, -1.23826787e-04, -2.09705904e-05, ...,\n",
            "        0.00000000e+00,  0.00000000e+00,  0.00000000e+00]), 'sampling_rate': 16000}, 'hate_speech_score': 0.5, 'label': 0, 'text': 'i would, then fucking wreck that chick.'}\n",
            "{'audio_waveform': {'path': 'padded_13972.mp3', 'array': array([-0.00026199, -0.00019382, -0.00023434, ...,  0.        ,\n",
            "        0.        ,  0.        ]), 'sampling_rate': 16000}, 'hate_speech_score': 1.13, 'label': 0, 'text': \"it's called defending yourself you fucking dumbass. don't you mean this bitch dumbass. yea fuck you\"}\n",
            "{'audio_waveform': {'path': 'padded_13496.mp3', 'array': array([-1.55226910e-04,  2.93002813e-06,  2.67900177e-05, ...,\n",
            "        0.00000000e+00,  0.00000000e+00,  0.00000000e+00]), 'sampling_rate': 16000}, 'hate_speech_score': -0.4, 'label': 1, 'text': 'please send us a video of you fucking a dildo or your daddy... but i also love to see a pussy drooling bad'}\n",
            "{'audio_waveform': {'path': 'padded_3614.mp3', 'array': array([-5.66037488e-05, -1.20162440e-04, -2.52527941e-04, ...,\n",
            "        0.00000000e+00,  0.00000000e+00,  0.00000000e+00]), 'sampling_rate': 16000}, 'hate_speech_score': -2.05, 'label': 1, 'text': \"i live in baja california mexico and always go to san diego and yes i'm asked that all the time and it seems that almost everything is about race in that country. don't get me wrong i love the you.s. but that part of it is very annoying. anyways...\"}\n",
            "{'audio_waveform': {'path': 'padded_14077.mp3', 'array': array([-1.84640405e-04, -8.91345553e-05,  9.09798546e-05, ...,\n",
            "        0.00000000e+00,  0.00000000e+00,  0.00000000e+00]), 'sampling_rate': 16000}, 'hate_speech_score': -6.66, 'label': 1, 'text': 'eid mubarak to everyone celebrating eid tomorrow or on wednesday best wishes '}\n",
            "{'audio_waveform': {'path': 'padded_7616.mp3', 'array': array([9.79713514e-05, 1.60600714e-04, 3.19883111e-04, ...,\n",
            "       0.00000000e+00, 0.00000000e+00, 0.00000000e+00]), 'sampling_rate': 16000}, 'hate_speech_score': 1.08, 'label': 0, 'text': 'ugly skanks! i hope their plane crashes.'}\n"
          ]
        }
      ],
      "source": [
        "print(dataset[\"train\"][0])\n",
        "print(dataset[\"train\"][1])\n",
        "print(dataset[\"train\"][2])\n",
        "print(dataset[\"train\"][3])\n",
        "print(dataset[\"train\"][4])\n",
        "print(dataset[\"train\"][5])"
      ]
    },
    {
      "cell_type": "markdown",
      "id": "080558ca",
      "metadata": {
        "id": "080558ca"
      },
      "source": [
        "# Generate meaningful representations"
      ]
    },
    {
      "cell_type": "code",
      "execution_count": 44,
      "id": "d1cfe307",
      "metadata": {
        "id": "d1cfe307"
      },
      "outputs": [],
      "source": [
        "dataset = dataset.remove_columns([\"hate_speech_score\", \"audio_waveform\"]) #removes unused columns"
      ]
    },
    {
      "cell_type": "code",
      "execution_count": 45,
      "id": "21ecb715",
      "metadata": {
        "colab": {
          "base_uri": "https://localhost:8080/"
        },
        "id": "21ecb715",
        "outputId": "a593f692-18bf-42f9-ff05-fd1f649410fa"
      },
      "outputs": [
        {
          "output_type": "stream",
          "name": "stdout",
          "text": [
            "{'hate': '0', 'non-hate': '1'}\n",
            "{'0': 'hate', '1': 'non-hate'}\n"
          ]
        }
      ],
      "source": [
        "label2id, id2label = create_label_id_dicts(dataset)\n",
        "print(label2id)\n",
        "print(id2label)"
      ]
    },
    {
      "cell_type": "code",
      "execution_count": 46,
      "id": "37cc968f",
      "metadata": {
        "colab": {
          "base_uri": "https://localhost:8080/"
        },
        "id": "37cc968f",
        "outputId": "8c503983-a1a6-498d-c9ff-fda94830341a"
      },
      "outputs": [
        {
          "output_type": "stream",
          "name": "stdout",
          "text": [
            "{'label': 1, 'text': 'iran should learn white man speaks with forked tongue. whites have never afforded nonwhites their rights to their resources or their own land. typical is palestine they internationalise everything so as to obfuscate and eventually rob natives of whats rightfully theirs. all countries should have the right to arm themselves with nukes. if it good for the us and its criminal allies then its good for them too. fuck..okay us and its gangster eu allies'}\n",
            "{'label': 1, 'text': \"ma'am i don't mean to come on too strong but i would let you wrap those fat pussy lips around my head and strangle me to death\"}\n",
            "{'label': 1, 'text': 'spend in the path of allah in times of ease and times of difficulty, as what you spend and leave with allah is what truly remains...'}\n",
            "{'label': 1, 'text': 'what a joke. no one has given a thought to a syrian who needs the grace 1 oil cargo to maybe take his sick child to hospital, after a devastating war that these murderous western shitbags conducted on behalf of israel in his country.'}\n",
            "{'label': 0, 'text': \"mormonism is a cult with excommunication.. don't know how you can say the average american is just as a brainwashed.\"}\n",
            "{'label': 0, 'text': 'go back to your third world shithole bitch'}\n"
          ]
        }
      ],
      "source": [
        "print(dataset[\"test\"][0])\n",
        "print(dataset[\"test\"][1])\n",
        "print(dataset[\"test\"][2])\n",
        "print(dataset[\"test\"][3])\n",
        "print(dataset[\"test\"][4])\n",
        "print(dataset[\"test\"][5])"
      ]
    },
    {
      "cell_type": "code",
      "execution_count": 47,
      "id": "3cdd4a70",
      "metadata": {
        "colab": {
          "base_uri": "https://localhost:8080/",
          "height": 121,
          "referenced_widgets": [
            "200fac749e0b47d68d1a521147c07963",
            "30c696d73ad94025b7253378525342e0",
            "2938f2fd55b6484aab13284962c0498e",
            "3aadc4e3e42b48219b97ee0e4ff6cf69",
            "908a7c9a25bb4a59bf9f580280cc4a39",
            "58ac070a7d6c4ce398773bdb306acb3a",
            "2ca26e125e7545c4bfdd08f0f73eca79",
            "d8581cac848f493d97e51cb4765c0297",
            "a607859cc59c40ecb377331c13d7b7ea",
            "b8d7d296723d4bd4b4253e20f76e9684",
            "b09adac3d6904fa8a75a628f52e6dccc"
          ]
        },
        "id": "3cdd4a70",
        "outputId": "70f46ed2-3fdd-4dda-b760-2bfab1f4d857"
      },
      "outputs": [
        {
          "output_type": "stream",
          "name": "stderr",
          "text": [
            "/usr/local/lib/python3.10/dist-packages/huggingface_hub/file_download.py:1132: FutureWarning: `resume_download` is deprecated and will be removed in version 1.0.0. Downloads always resume when possible. If you want to force a new download, use `force_download=True`.\n",
            "  warnings.warn(\n"
          ]
        },
        {
          "output_type": "stream",
          "name": "stdout",
          "text": [
            "feature_extractor downloaded...\n"
          ]
        },
        {
          "output_type": "display_data",
          "data": {
            "text/plain": [
              "Map:   0%|          | 0/3099 [00:00<?, ? examples/s]"
            ],
            "application/vnd.jupyter.widget-view+json": {
              "version_major": 2,
              "version_minor": 0,
              "model_id": "200fac749e0b47d68d1a521147c07963"
            }
          },
          "metadata": {}
        }
      ],
      "source": [
        "feature_extractor = AutoTokenizer.from_pretrained(\"distilbert-base-uncased\")\n",
        "print(\"feature_extractor downloaded...\")\n",
        "encoded_dataset = dataset.map(lambda batch: preprocess_function(batch, feature_extractor), batched=True)"
      ]
    },
    {
      "cell_type": "code",
      "execution_count": 48,
      "id": "d7c788fe",
      "metadata": {
        "id": "d7c788fe"
      },
      "outputs": [],
      "source": [
        "from transformers import DataCollatorWithPadding\n",
        "\n",
        "data_collator = DataCollatorWithPadding(tokenizer=feature_extractor)"
      ]
    },
    {
      "cell_type": "markdown",
      "id": "b900925f",
      "metadata": {
        "id": "b900925f"
      },
      "source": [
        "# Finetune model"
      ]
    },
    {
      "cell_type": "markdown",
      "id": "ca130bf9",
      "metadata": {
        "id": "ca130bf9"
      },
      "source": [
        "The Wav2Vec2ForSequenceClassification is essentially `context representation extractor + classifier` whereas the basic Wav2Vec2 does not have any classifier on top. So, the idea for now is to use the former model and finetune it on our hatespeech dataset. The finetuning uses the text too."
      ]
    },
    {
      "cell_type": "code",
      "execution_count": 49,
      "id": "d448b02a",
      "metadata": {
        "colab": {
          "base_uri": "https://localhost:8080/"
        },
        "id": "d448b02a",
        "outputId": "05b28a94-e67b-414f-cd47-2498a6dbfa2f"
      },
      "outputs": [
        {
          "output_type": "stream",
          "name": "stderr",
          "text": [
            "Some weights of DistilBertForSequenceClassification were not initialized from the model checkpoint at distilbert-base-uncased and are newly initialized: ['classifier.bias', 'classifier.weight', 'pre_classifier.bias', 'pre_classifier.weight']\n",
            "You should probably TRAIN this model on a down-stream task to be able to use it for predictions and inference.\n"
          ]
        }
      ],
      "source": [
        "num_labels = len(label2id)\n",
        "model = AutoModelForSequenceClassification.from_pretrained(\n",
        "    \"distilbert-base-uncased\", num_labels=num_labels, label2id=label2id, id2label=id2label,\n",
        "    #ignore_mismatched_sizes=True\n",
        ")\n"
      ]
    },
    {
      "cell_type": "code",
      "source": [
        "print(encoded_dataset)\n",
        "train_dataset = encoded_dataset[\"train\"].train_test_split(test_size=0.2)\n",
        "print(train_dataset)"
      ],
      "metadata": {
        "colab": {
          "base_uri": "https://localhost:8080/"
        },
        "id": "wzLUKPqTHkPP",
        "outputId": "b35107d1-b62a-48b8-e803-5845278d8fef"
      },
      "id": "wzLUKPqTHkPP",
      "execution_count": 50,
      "outputs": [
        {
          "output_type": "stream",
          "name": "stdout",
          "text": [
            "DatasetDict({\n",
            "    train: Dataset({\n",
            "        features: ['label', 'text', 'input_ids', 'attention_mask'],\n",
            "        num_rows: 12392\n",
            "    })\n",
            "    test: Dataset({\n",
            "        features: ['label', 'text', 'input_ids', 'attention_mask'],\n",
            "        num_rows: 3099\n",
            "    })\n",
            "})\n",
            "DatasetDict({\n",
            "    train: Dataset({\n",
            "        features: ['label', 'text', 'input_ids', 'attention_mask'],\n",
            "        num_rows: 9913\n",
            "    })\n",
            "    test: Dataset({\n",
            "        features: ['label', 'text', 'input_ids', 'attention_mask'],\n",
            "        num_rows: 2479\n",
            "    })\n",
            "})\n"
          ]
        }
      ]
    },
    {
      "cell_type": "code",
      "execution_count": 51,
      "id": "56231096",
      "metadata": {
        "id": "56231096"
      },
      "outputs": [],
      "source": [
        "#model.train()\n",
        "\n",
        "training_args = TrainingArguments(\n",
        "    #use_cpu=True,\n",
        "    do_train=True,\n",
        "    output_dir=\"models/finetuned_text_class\",\n",
        "    overwrite_output_dir=True,\n",
        "    evaluation_strategy=\"epoch\",\n",
        "    save_strategy=\"epoch\",\n",
        "    save_only_model=True,  # only saves model to checkpoints\n",
        "    learning_rate=8e-5, #3e-5\n",
        "    weight_decay=0.005,\n",
        "    per_device_train_batch_size=32,\n",
        "    gradient_accumulation_steps=4,\n",
        "    per_device_eval_batch_size=32,\n",
        "    num_train_epochs=10,\n",
        "    warmup_ratio=0.1,\n",
        "    logging_dir=\"tensorboard\",\n",
        "    logging_steps=10,\n",
        "    load_best_model_at_end=True,\n",
        "    metric_for_best_model=\"f1\",\n",
        "    push_to_hub=False,\n",
        "    seed=42,\n",
        "\n",
        "    hub_private_repo=True,\n",
        "    hub_model_id=\"DL-Project/DL_Audio_Hatespeech_text_classification_trainer_push\",\n",
        ")\n",
        "\n",
        "trainer = Trainer(\n",
        "    model=model,\n",
        "    args=training_args,\n",
        "    train_dataset=train_dataset[\"train\"],\n",
        "    eval_dataset=train_dataset[\"test\"],\n",
        "    tokenizer=feature_extractor,\n",
        "    compute_metrics=compute_metrics,\n",
        "    data_collator=data_collator,\n",
        ")"
      ]
    },
    {
      "cell_type": "code",
      "execution_count": 52,
      "id": "a4395078",
      "metadata": {
        "colab": {
          "base_uri": "https://localhost:8080/",
          "height": 315
        },
        "id": "a4395078",
        "outputId": "242bd27d-53db-4277-ef5c-c5c3d52841ea"
      },
      "outputs": [
        {
          "output_type": "display_data",
          "data": {
            "text/plain": [
              "<IPython.core.display.HTML object>"
            ],
            "text/html": [
              "\n",
              "    <div>\n",
              "      \n",
              "      <progress value='770' max='770' style='width:300px; height:20px; vertical-align: middle;'></progress>\n",
              "      [770/770 15:16, Epoch 9/10]\n",
              "    </div>\n",
              "    <table border=\"1\" class=\"dataframe\">\n",
              "  <thead>\n",
              " <tr style=\"text-align: left;\">\n",
              "      <th>Epoch</th>\n",
              "      <th>Training Loss</th>\n",
              "      <th>Validation Loss</th>\n",
              "      <th>Accuracy</th>\n",
              "      <th>Recall</th>\n",
              "      <th>Precision</th>\n",
              "      <th>F1</th>\n",
              "    </tr>\n",
              "  </thead>\n",
              "  <tbody>\n",
              "    <tr>\n",
              "      <td>0</td>\n",
              "      <td>0.486300</td>\n",
              "      <td>0.467829</td>\n",
              "      <td>0.770069</td>\n",
              "      <td>0.742092</td>\n",
              "      <td>0.784062</td>\n",
              "      <td>0.762500</td>\n",
              "    </tr>\n",
              "    <tr>\n",
              "      <td>2</td>\n",
              "      <td>0.279200</td>\n",
              "      <td>0.528512</td>\n",
              "      <td>0.784994</td>\n",
              "      <td>0.729116</td>\n",
              "      <td>0.818761</td>\n",
              "      <td>0.771343</td>\n",
              "    </tr>\n",
              "    <tr>\n",
              "      <td>4</td>\n",
              "      <td>0.094500</td>\n",
              "      <td>0.822989</td>\n",
              "      <td>0.780557</td>\n",
              "      <td>0.755069</td>\n",
              "      <td>0.793691</td>\n",
              "      <td>0.773899</td>\n",
              "    </tr>\n",
              "    <tr>\n",
              "      <td>6</td>\n",
              "      <td>0.033100</td>\n",
              "      <td>1.110664</td>\n",
              "      <td>0.775313</td>\n",
              "      <td>0.785888</td>\n",
              "      <td>0.767829</td>\n",
              "      <td>0.776754</td>\n",
              "    </tr>\n",
              "    <tr>\n",
              "      <td>8</td>\n",
              "      <td>0.010600</td>\n",
              "      <td>1.274126</td>\n",
              "      <td>0.778540</td>\n",
              "      <td>0.761557</td>\n",
              "      <td>0.786432</td>\n",
              "      <td>0.773795</td>\n",
              "    </tr>\n",
              "    <tr>\n",
              "      <td>9</td>\n",
              "      <td>0.005100</td>\n",
              "      <td>1.296423</td>\n",
              "      <td>0.775313</td>\n",
              "      <td>0.785077</td>\n",
              "      <td>0.768254</td>\n",
              "      <td>0.776574</td>\n",
              "    </tr>\n",
              "  </tbody>\n",
              "</table><p>"
            ]
          },
          "metadata": {}
        },
        {
          "output_type": "execute_result",
          "data": {
            "text/plain": [
              "TrainOutput(global_step=770, training_loss=0.1612584430917904, metrics={'train_runtime': 917.9438, 'train_samples_per_second': 107.991, 'train_steps_per_second': 0.839, 'total_flos': 2658729614414268.0, 'train_loss': 0.1612584430917904, 'epoch': 9.935483870967742})"
            ]
          },
          "metadata": {},
          "execution_count": 52
        }
      ],
      "source": [
        "trainer.train()"
      ]
    },
    {
      "cell_type": "code",
      "execution_count": 53,
      "id": "12eb0053",
      "metadata": {
        "colab": {
          "base_uri": "https://localhost:8080/",
          "height": 74
        },
        "id": "12eb0053",
        "outputId": "9ac7150d-4146-486d-fd0c-ff4a341a6c9d"
      },
      "outputs": [
        {
          "output_type": "display_data",
          "data": {
            "text/plain": [
              "<IPython.core.display.HTML object>"
            ],
            "text/html": [
              "\n",
              "    <div>\n",
              "      \n",
              "      <progress value='78' max='78' style='width:300px; height:20px; vertical-align: middle;'></progress>\n",
              "      [78/78 00:07]\n",
              "    </div>\n",
              "    "
            ]
          },
          "metadata": {}
        },
        {
          "output_type": "stream",
          "name": "stdout",
          "text": [
            "{'eval_loss': 0.9977290630340576, 'eval_accuracy': 0.7736990722065349, 'eval_recall': 0.8118410381184104, 'eval_precision': 0.7526315789473684, 'eval_f1': 0.7811158798283262, 'eval_runtime': 9.8967, 'eval_samples_per_second': 250.487, 'eval_steps_per_second': 7.881, 'epoch': 9.935483870967742}\n"
          ]
        }
      ],
      "source": [
        "print(trainer.evaluate())"
      ]
    },
    {
      "cell_type": "code",
      "source": [
        "print(trainer.evaluate(encoded_dataset[\"test\"]))"
      ],
      "metadata": {
        "colab": {
          "base_uri": "https://localhost:8080/",
          "height": 74
        },
        "id": "4O24pkQvHG_-",
        "outputId": "86522804-421a-4d28-aa47-e45f7b8066ab"
      },
      "id": "4O24pkQvHG_-",
      "execution_count": 54,
      "outputs": [
        {
          "output_type": "display_data",
          "data": {
            "text/plain": [
              "<IPython.core.display.HTML object>"
            ],
            "text/html": [
              "\n",
              "    <div>\n",
              "      \n",
              "      <progress value='175' max='78' style='width:300px; height:20px; vertical-align: middle;'></progress>\n",
              "      [78/78 00:19]\n",
              "    </div>\n",
              "    "
            ]
          },
          "metadata": {}
        },
        {
          "output_type": "stream",
          "name": "stdout",
          "text": [
            "{'eval_loss': 1.063951015472412, 'eval_accuracy': 0.7544369151339142, 'eval_recall': 0.7929936305732485, 'eval_precision': 0.7406305770374777, 'eval_f1': 0.7659181790218396, 'eval_runtime': 12.1375, 'eval_samples_per_second': 255.325, 'eval_steps_per_second': 7.992, 'epoch': 9.935483870967742}\n"
          ]
        }
      ]
    },
    {
      "cell_type": "code",
      "execution_count": 55,
      "id": "0ff316f8",
      "metadata": {
        "colab": {
          "base_uri": "https://localhost:8080/",
          "height": 118,
          "referenced_widgets": [
            "afa4ee35998c41bc90041378b777539e",
            "78409e55d4b948d780e421df44158513",
            "b7c31a4ba79b449cbbc304fc5f2c8cff",
            "58002b1149a6426580ab4fcb09b42e99",
            "d0d1f51a66b94a57a18b8406add9db03",
            "045fd4f16f6443c99bb2af5583f6da57",
            "c924a7b4ba764bbb8d8d7a8dceb81576",
            "299bebd0de0540b58bdfd89d8043770f",
            "6d4acbae06004d54a9c727a7c9371afb",
            "4b4e0b750b4b45c296c1840a01145e70",
            "540e68ac3f674cd58228ff27209ce93a"
          ]
        },
        "id": "0ff316f8",
        "outputId": "2fefb585-a31e-4aca-e5d3-c759d6498820"
      },
      "outputs": [
        {
          "output_type": "display_data",
          "data": {
            "text/plain": [
              "model.safetensors:   0%|          | 0.00/268M [00:00<?, ?B/s]"
            ],
            "application/vnd.jupyter.widget-view+json": {
              "version_major": 2,
              "version_minor": 0,
              "model_id": "afa4ee35998c41bc90041378b777539e"
            }
          },
          "metadata": {}
        },
        {
          "output_type": "execute_result",
          "data": {
            "text/plain": [
              "CommitInfo(commit_url='https://huggingface.co/DL-Project/DL_Audio_Hatespeech_text_classification_trainer_push/commit/da72d03ba72d1c27a49b75bfe32daaaef9e0567a', commit_message='text finetuning on full dataset with validation set', commit_description='', oid='da72d03ba72d1c27a49b75bfe32daaaef9e0567a', pr_url=None, pr_revision=None, pr_num=None)"
            ],
            "application/vnd.google.colaboratory.intrinsic+json": {
              "type": "string"
            }
          },
          "metadata": {},
          "execution_count": 55
        }
      ],
      "source": [
        "trainer.push_to_hub(commit_message=\"text finetuning on full dataset with validation set\")"
      ]
    },
    {
      "cell_type": "code",
      "source": [],
      "metadata": {
        "id": "RS00buEiv7Bx"
      },
      "id": "RS00buEiv7Bx",
      "execution_count": 31,
      "outputs": []
    },
    {
      "cell_type": "code",
      "source": [
        "from models.upload_model_to_hf import upload_model_to_huggingface\n",
        "\n",
        "upload_model_to_huggingface(model)"
      ],
      "metadata": {
        "colab": {
          "base_uri": "https://localhost:8080/",
          "height": 49,
          "referenced_widgets": [
            "1e6f46d9d4f14501a68590d0db874bf2",
            "6c47d202bdbf430e8c2bcc2f02896b06",
            "e085dfe81ae448199c1d47d2774cb2ad",
            "18679d2da3b24dbb8898e878b15766ca",
            "42ad43468d904611b0f45a8b258dcf74",
            "f1485dffe20042eb95674755afa8dd01",
            "906454ceef1a4071b8f4f5d9a87e2a51",
            "5e208f3e7c064b74a08db68942a33770",
            "f7510221122746e58bb9b4f1d011167d",
            "acdc4d5361a44335a8ab526154c138b3",
            "f8e66e639ade4a49ad15b9a82538b14d"
          ]
        },
        "id": "5Juvlk0swBbp",
        "outputId": "c8a20ed7-1b80-4524-9704-813384378a6f"
      },
      "id": "5Juvlk0swBbp",
      "execution_count": 32,
      "outputs": [
        {
          "output_type": "display_data",
          "data": {
            "text/plain": [
              "model.safetensors:   0%|          | 0.00/268M [00:00<?, ?B/s]"
            ],
            "application/vnd.jupyter.widget-view+json": {
              "version_major": 2,
              "version_minor": 0,
              "model_id": "1e6f46d9d4f14501a68590d0db874bf2"
            }
          },
          "metadata": {}
        }
      ]
    },
    {
      "cell_type": "code",
      "source": [],
      "metadata": {
        "id": "Wh6anm_vwBSS"
      },
      "id": "Wh6anm_vwBSS",
      "execution_count": null,
      "outputs": []
    },
    {
      "cell_type": "code",
      "source": [],
      "metadata": {
        "id": "_zi9CtPuwEqv"
      },
      "id": "_zi9CtPuwEqv",
      "execution_count": null,
      "outputs": []
    },
    {
      "cell_type": "code",
      "source": [],
      "metadata": {
        "id": "DRDG2GjkwEnu"
      },
      "id": "DRDG2GjkwEnu",
      "execution_count": null,
      "outputs": []
    },
    {
      "cell_type": "code",
      "source": [],
      "metadata": {
        "id": "7gcUseaKwEkx"
      },
      "id": "7gcUseaKwEkx",
      "execution_count": null,
      "outputs": []
    },
    {
      "cell_type": "code",
      "source": [],
      "metadata": {
        "id": "P_w1f36LwEhu"
      },
      "id": "P_w1f36LwEhu",
      "execution_count": null,
      "outputs": []
    },
    {
      "cell_type": "code",
      "source": [],
      "metadata": {
        "id": "KIwESVFTwEeG"
      },
      "id": "KIwESVFTwEeG",
      "execution_count": null,
      "outputs": []
    },
    {
      "cell_type": "code",
      "source": [],
      "metadata": {
        "id": "3Y167ibkv62u"
      },
      "id": "3Y167ibkv62u",
      "execution_count": null,
      "outputs": []
    },
    {
      "cell_type": "code",
      "execution_count": null,
      "id": "edabd114",
      "metadata": {
        "id": "edabd114"
      },
      "outputs": [],
      "source": [
        "#evaluate on the test dataset:\n",
        "def evaluate_model(model, encoded_dataset, feature_extractor):\n",
        "    trainer = Trainer(\n",
        "        model=model,\n",
        "        eval_dataset=encoded_dataset[\"test\"],\n",
        "        tokenizer=feature_extractor,\n",
        "        compute_metrics=compute_metrics,\n",
        "    )\n",
        "    evaluation_results = trainer.evaluate()\n",
        "    return evaluation_results, trainer\n",
        "\n",
        "\n",
        "# After the model has been finetuned\n",
        "evaluation_results, trainer_for_test_set_eval = evaluate_model(model_finetuned, encoded_dataset, feature_extractor)\n",
        "print(\"Evaluation results on test set:\", evaluation_results)"
      ]
    },
    {
      "cell_type": "markdown",
      "id": "d07b3ecc",
      "metadata": {
        "id": "d07b3ecc"
      },
      "source": [
        "# Upload Model to Huggingface"
      ]
    },
    {
      "cell_type": "code",
      "execution_count": null,
      "id": "c97257e3",
      "metadata": {
        "id": "c97257e3",
        "outputId": "a43e73b0-2508-40e8-815b-c77b523bce08"
      },
      "outputs": [
        {
          "name": "stdout",
          "output_type": "stream",
          "text": [
            "models/finetuned_ast\\checkpoint-75\n"
          ]
        }
      ],
      "source": [
        "import os\n",
        "\n",
        "# Define the directory where the checkpoints are saved\n",
        "checkpoint_directory = \"models/finetuned_text_class\"\n",
        "checkpoints = [os.path.join(checkpoint_directory, name) for name in os.listdir(checkpoint_directory)]\n",
        "checkpoints = [ckpt for ckpt in checkpoints if os.path.isdir(ckpt)]\n",
        "\n",
        "# get latest checkpoint:\n",
        "checkpoints.sort(key=lambda x: int(x.split(\"-\")[-1]))\n",
        "latest_checkpoint = checkpoints[-1]\n",
        "\n",
        "# The last checkpoint will be the latest one\n",
        "checkpoint_directory = checkpoints[-1]\n",
        "print(checkpoint_directory)"
      ]
    },
    {
      "cell_type": "code",
      "execution_count": null,
      "id": "ceaabccc",
      "metadata": {
        "id": "ceaabccc",
        "outputId": "30407d9e-ac0b-47e8-b85a-9b274ee5888a"
      },
      "outputs": [
        {
          "ename": "NameError",
          "evalue": "name 'AutoModelForAudioClassification' is not defined",
          "output_type": "error",
          "traceback": [
            "\u001b[1;31m---------------------------------------------------------------------------\u001b[0m",
            "\u001b[1;31mNameError\u001b[0m                                 Traceback (most recent call last)",
            "Cell \u001b[1;32mIn[33], line 2\u001b[0m\n\u001b[0;32m      1\u001b[0m \u001b[38;5;66;03m# Load the latest checkpoint's model\u001b[39;00m\n\u001b[1;32m----> 2\u001b[0m model \u001b[38;5;241m=\u001b[39m \u001b[43mAutoModelForAudioClassification\u001b[49m\u001b[38;5;241m.\u001b[39mfrom_pretrained(checkpoint_directory)\n",
            "\u001b[1;31mNameError\u001b[0m: name 'AutoModelForAudioClassification' is not defined"
          ]
        }
      ],
      "source": [
        "# Load the latest checkpoint's model\n",
        "model = AutoModelForAudioClassification.from_pretrained(checkpoint_directory)"
      ]
    },
    {
      "cell_type": "code",
      "execution_count": null,
      "id": "358f029c",
      "metadata": {
        "id": "358f029c",
        "outputId": "852794d0-f7e8-4bd6-a3b9-1f177d1aa1b9"
      },
      "outputs": [
        {
          "data": {
            "text/html": [
              "\n",
              "    <div>\n",
              "      \n",
              "      <progress value='16' max='16' style='width:300px; height:20px; vertical-align: middle;'></progress>\n",
              "      [16/16 00:18]\n",
              "    </div>\n",
              "    "
            ],
            "text/plain": [
              "<IPython.core.display.HTML object>"
            ]
          },
          "metadata": {},
          "output_type": "display_data"
        },
        {
          "name": "stdout",
          "output_type": "stream",
          "text": [
            "{'eval_loss': 0.4628932476043701, 'eval_accuracy': 0.7782258064516129, 'eval_recall': 0.8134328358208955, 'eval_precision': 0.7841726618705036, 'eval_f1': 0.7985347985347986, 'eval_runtime': 26.2738, 'eval_samples_per_second': 9.439, 'eval_steps_per_second': 0.609, 'epoch': 9.68}\n"
          ]
        }
      ],
      "source": [
        "print(trainer.evaluate())"
      ]
    },
    {
      "cell_type": "code",
      "execution_count": null,
      "id": "aa8959426c8f06a0",
      "metadata": {
        "colab": {
          "referenced_widgets": [
            "d31983e5eacd4cdfafc7d7c35a654231",
            "efb3a55fa93a4391b79d1173caf13f9b"
          ]
        },
        "id": "aa8959426c8f06a0",
        "outputId": "d381a22d-f1d1-4acb-aa55-05657b7d70bf"
      },
      "outputs": [
        {
          "data": {
            "application/vnd.jupyter.widget-view+json": {
              "model_id": "d31983e5eacd4cdfafc7d7c35a654231",
              "version_major": 2,
              "version_minor": 0
            },
            "text/plain": [
              "README.md:   0%|          | 0.00/5.36k [00:00<?, ?B/s]"
            ]
          },
          "metadata": {},
          "output_type": "display_data"
        },
        {
          "name": "stderr",
          "output_type": "stream",
          "text": [
            "C:\\Users\\LucaS\\anaconda3\\envs\\deep_learning\\lib\\site-packages\\huggingface_hub\\file_download.py:157: UserWarning: `huggingface_hub` cache-system uses symlinks by default to efficiently store duplicated files but your machine does not support them in C:\\Users\\LucaS\\.cache\\huggingface\\hub\\models--DL-Project--DL_Audio_Hatespeech_text_classification. Caching files will still work but in a degraded version that might require more space on your disk. This warning can be disabled by setting the `HF_HUB_DISABLE_SYMLINKS_WARNING` environment variable. For more details, see https://huggingface.co/docs/huggingface_hub/how-to-cache#limitations.\n",
            "To support symlinks on Windows, you either need to activate Developer Mode or to run Python as an administrator. In order to see activate developer mode, see this article: https://docs.microsoft.com/en-us/windows/apps/get-started/enable-your-device-for-development\n",
            "  warnings.warn(message)\n"
          ]
        },
        {
          "data": {
            "application/vnd.jupyter.widget-view+json": {
              "model_id": "efb3a55fa93a4391b79d1173caf13f9b",
              "version_major": 2,
              "version_minor": 0
            },
            "text/plain": [
              "model.safetensors:   0%|          | 0.00/268M [00:00<?, ?B/s]"
            ]
          },
          "metadata": {},
          "output_type": "display_data"
        }
      ],
      "source": [
        "from models.upload_model_to_hf import upload_model_to_huggingface\n",
        "\n",
        "upload_model_to_huggingface(model)"
      ]
    },
    {
      "cell_type": "markdown",
      "id": "9fbaf13888276225",
      "metadata": {
        "id": "9fbaf13888276225"
      },
      "source": [
        "# Model Instantiation\n",
        "[https://huggingface.co/learn/audio-course/chapter3/classification](https://huggingface.co/learn/audio-course/chapter3/classification)\n",
        "\n",
        "[Paper: AST: Audio Spectrogram Transformer](https://arxiv.org/pdf/2104.01778.pdf)"
      ]
    }
  ],
  "metadata": {
    "accelerator": "GPU",
    "colab": {
      "gpuType": "T4",
      "provenance": []
    },
    "kernelspec": {
      "display_name": "Python 3",
      "name": "python3"
    },
    "language_info": {
      "codemirror_mode": {
        "name": "ipython",
        "version": 3
      },
      "file_extension": ".py",
      "mimetype": "text/x-python",
      "name": "python",
      "nbconvert_exporter": "python",
      "pygments_lexer": "ipython3",
      "version": "3.10.13"
    },
    "widgets": {
      "application/vnd.jupyter.widget-state+json": {
        "bce01b3f50d04719bd180cae6f90b6c2": {
          "model_module": "@jupyter-widgets/controls",
          "model_name": "VBoxModel",
          "model_module_version": "1.5.0",
          "state": {
            "_dom_classes": [],
            "_model_module": "@jupyter-widgets/controls",
            "_model_module_version": "1.5.0",
            "_model_name": "VBoxModel",
            "_view_count": null,
            "_view_module": "@jupyter-widgets/controls",
            "_view_module_version": "1.5.0",
            "_view_name": "VBoxView",
            "box_style": "",
            "children": [
              "IPY_MODEL_6f0e4e3ff4c04e01b01e1a7fb0e3f153",
              "IPY_MODEL_4001dc99d0ab4cd984fceeb9ef5cbada",
              "IPY_MODEL_57d062b0694f4820a8a3fc9df60c0d04",
              "IPY_MODEL_007c8ecf00824115bcc64f07c8189b8c"
            ],
            "layout": "IPY_MODEL_3d49df324b1d47f09aa0f71876dee6d0"
          }
        },
        "af4a880e43d7455c993b2ce3b82b641e": {
          "model_module": "@jupyter-widgets/controls",
          "model_name": "HTMLModel",
          "model_module_version": "1.5.0",
          "state": {
            "_dom_classes": [],
            "_model_module": "@jupyter-widgets/controls",
            "_model_module_version": "1.5.0",
            "_model_name": "HTMLModel",
            "_view_count": null,
            "_view_module": "@jupyter-widgets/controls",
            "_view_module_version": "1.5.0",
            "_view_name": "HTMLView",
            "description": "",
            "description_tooltip": null,
            "layout": "IPY_MODEL_5ef426d6b3d548cface7555dafdb7e10",
            "placeholder": "​",
            "style": "IPY_MODEL_0840477e2651416b970862dcb8f6356a",
            "value": "<center> <img\nsrc=https://huggingface.co/front/assets/huggingface_logo-noborder.svg\nalt='Hugging Face'> <br> Copy a token from <a\nhref=\"https://huggingface.co/settings/tokens\" target=\"_blank\">your Hugging Face\ntokens page</a> and paste it below. <br> Immediately click login after copying\nyour token or it might be stored in plain text in this notebook file. </center>"
          }
        },
        "c8c523b2a16c48ea8962bc0bcaab14a3": {
          "model_module": "@jupyter-widgets/controls",
          "model_name": "PasswordModel",
          "model_module_version": "1.5.0",
          "state": {
            "_dom_classes": [],
            "_model_module": "@jupyter-widgets/controls",
            "_model_module_version": "1.5.0",
            "_model_name": "PasswordModel",
            "_view_count": null,
            "_view_module": "@jupyter-widgets/controls",
            "_view_module_version": "1.5.0",
            "_view_name": "PasswordView",
            "continuous_update": true,
            "description": "Token:",
            "description_tooltip": null,
            "disabled": false,
            "layout": "IPY_MODEL_71680a5d43a64c2cb674c47bb51ffd7f",
            "placeholder": "​",
            "style": "IPY_MODEL_0b3b0cd890a141d8b993ea0631263d26",
            "value": ""
          }
        },
        "41d7aaef35e044e2bafe4531a134c0f8": {
          "model_module": "@jupyter-widgets/controls",
          "model_name": "CheckboxModel",
          "model_module_version": "1.5.0",
          "state": {
            "_dom_classes": [],
            "_model_module": "@jupyter-widgets/controls",
            "_model_module_version": "1.5.0",
            "_model_name": "CheckboxModel",
            "_view_count": null,
            "_view_module": "@jupyter-widgets/controls",
            "_view_module_version": "1.5.0",
            "_view_name": "CheckboxView",
            "description": "Add token as git credential?",
            "description_tooltip": null,
            "disabled": false,
            "indent": true,
            "layout": "IPY_MODEL_eb48891c58f248d79d78d11008e4b5cb",
            "style": "IPY_MODEL_88ae835d874a4844927c67aeec4cd37b",
            "value": true
          }
        },
        "ad05d7a71cfb4e26a1e7925d45da5b08": {
          "model_module": "@jupyter-widgets/controls",
          "model_name": "ButtonModel",
          "model_module_version": "1.5.0",
          "state": {
            "_dom_classes": [],
            "_model_module": "@jupyter-widgets/controls",
            "_model_module_version": "1.5.0",
            "_model_name": "ButtonModel",
            "_view_count": null,
            "_view_module": "@jupyter-widgets/controls",
            "_view_module_version": "1.5.0",
            "_view_name": "ButtonView",
            "button_style": "",
            "description": "Login",
            "disabled": false,
            "icon": "",
            "layout": "IPY_MODEL_4f80b6343e4b4dca8cb1689d3b2467ee",
            "style": "IPY_MODEL_0cccc0fd026441ebad5b178aa503ab5d",
            "tooltip": ""
          }
        },
        "0f563e0f54fe42059938dad514bef35c": {
          "model_module": "@jupyter-widgets/controls",
          "model_name": "HTMLModel",
          "model_module_version": "1.5.0",
          "state": {
            "_dom_classes": [],
            "_model_module": "@jupyter-widgets/controls",
            "_model_module_version": "1.5.0",
            "_model_name": "HTMLModel",
            "_view_count": null,
            "_view_module": "@jupyter-widgets/controls",
            "_view_module_version": "1.5.0",
            "_view_name": "HTMLView",
            "description": "",
            "description_tooltip": null,
            "layout": "IPY_MODEL_4f8ddb1e01fc4a5181b09675ccf076b3",
            "placeholder": "​",
            "style": "IPY_MODEL_ffa957598e084104a5d282d633ec6412",
            "value": "\n<b>Pro Tip:</b> If you don't already have one, you can create a dedicated\n'notebooks' token with 'write' access, that you can then easily reuse for all\nnotebooks. </center>"
          }
        },
        "3d49df324b1d47f09aa0f71876dee6d0": {
          "model_module": "@jupyter-widgets/base",
          "model_name": "LayoutModel",
          "model_module_version": "1.2.0",
          "state": {
            "_model_module": "@jupyter-widgets/base",
            "_model_module_version": "1.2.0",
            "_model_name": "LayoutModel",
            "_view_count": null,
            "_view_module": "@jupyter-widgets/base",
            "_view_module_version": "1.2.0",
            "_view_name": "LayoutView",
            "align_content": null,
            "align_items": "center",
            "align_self": null,
            "border": null,
            "bottom": null,
            "display": "flex",
            "flex": null,
            "flex_flow": "column",
            "grid_area": null,
            "grid_auto_columns": null,
            "grid_auto_flow": null,
            "grid_auto_rows": null,
            "grid_column": null,
            "grid_gap": null,
            "grid_row": null,
            "grid_template_areas": null,
            "grid_template_columns": null,
            "grid_template_rows": null,
            "height": null,
            "justify_content": null,
            "justify_items": null,
            "left": null,
            "margin": null,
            "max_height": null,
            "max_width": null,
            "min_height": null,
            "min_width": null,
            "object_fit": null,
            "object_position": null,
            "order": null,
            "overflow": null,
            "overflow_x": null,
            "overflow_y": null,
            "padding": null,
            "right": null,
            "top": null,
            "visibility": null,
            "width": "50%"
          }
        },
        "5ef426d6b3d548cface7555dafdb7e10": {
          "model_module": "@jupyter-widgets/base",
          "model_name": "LayoutModel",
          "model_module_version": "1.2.0",
          "state": {
            "_model_module": "@jupyter-widgets/base",
            "_model_module_version": "1.2.0",
            "_model_name": "LayoutModel",
            "_view_count": null,
            "_view_module": "@jupyter-widgets/base",
            "_view_module_version": "1.2.0",
            "_view_name": "LayoutView",
            "align_content": null,
            "align_items": null,
            "align_self": null,
            "border": null,
            "bottom": null,
            "display": null,
            "flex": null,
            "flex_flow": null,
            "grid_area": null,
            "grid_auto_columns": null,
            "grid_auto_flow": null,
            "grid_auto_rows": null,
            "grid_column": null,
            "grid_gap": null,
            "grid_row": null,
            "grid_template_areas": null,
            "grid_template_columns": null,
            "grid_template_rows": null,
            "height": null,
            "justify_content": null,
            "justify_items": null,
            "left": null,
            "margin": null,
            "max_height": null,
            "max_width": null,
            "min_height": null,
            "min_width": null,
            "object_fit": null,
            "object_position": null,
            "order": null,
            "overflow": null,
            "overflow_x": null,
            "overflow_y": null,
            "padding": null,
            "right": null,
            "top": null,
            "visibility": null,
            "width": null
          }
        },
        "0840477e2651416b970862dcb8f6356a": {
          "model_module": "@jupyter-widgets/controls",
          "model_name": "DescriptionStyleModel",
          "model_module_version": "1.5.0",
          "state": {
            "_model_module": "@jupyter-widgets/controls",
            "_model_module_version": "1.5.0",
            "_model_name": "DescriptionStyleModel",
            "_view_count": null,
            "_view_module": "@jupyter-widgets/base",
            "_view_module_version": "1.2.0",
            "_view_name": "StyleView",
            "description_width": ""
          }
        },
        "71680a5d43a64c2cb674c47bb51ffd7f": {
          "model_module": "@jupyter-widgets/base",
          "model_name": "LayoutModel",
          "model_module_version": "1.2.0",
          "state": {
            "_model_module": "@jupyter-widgets/base",
            "_model_module_version": "1.2.0",
            "_model_name": "LayoutModel",
            "_view_count": null,
            "_view_module": "@jupyter-widgets/base",
            "_view_module_version": "1.2.0",
            "_view_name": "LayoutView",
            "align_content": null,
            "align_items": null,
            "align_self": null,
            "border": null,
            "bottom": null,
            "display": null,
            "flex": null,
            "flex_flow": null,
            "grid_area": null,
            "grid_auto_columns": null,
            "grid_auto_flow": null,
            "grid_auto_rows": null,
            "grid_column": null,
            "grid_gap": null,
            "grid_row": null,
            "grid_template_areas": null,
            "grid_template_columns": null,
            "grid_template_rows": null,
            "height": null,
            "justify_content": null,
            "justify_items": null,
            "left": null,
            "margin": null,
            "max_height": null,
            "max_width": null,
            "min_height": null,
            "min_width": null,
            "object_fit": null,
            "object_position": null,
            "order": null,
            "overflow": null,
            "overflow_x": null,
            "overflow_y": null,
            "padding": null,
            "right": null,
            "top": null,
            "visibility": null,
            "width": null
          }
        },
        "0b3b0cd890a141d8b993ea0631263d26": {
          "model_module": "@jupyter-widgets/controls",
          "model_name": "DescriptionStyleModel",
          "model_module_version": "1.5.0",
          "state": {
            "_model_module": "@jupyter-widgets/controls",
            "_model_module_version": "1.5.0",
            "_model_name": "DescriptionStyleModel",
            "_view_count": null,
            "_view_module": "@jupyter-widgets/base",
            "_view_module_version": "1.2.0",
            "_view_name": "StyleView",
            "description_width": ""
          }
        },
        "eb48891c58f248d79d78d11008e4b5cb": {
          "model_module": "@jupyter-widgets/base",
          "model_name": "LayoutModel",
          "model_module_version": "1.2.0",
          "state": {
            "_model_module": "@jupyter-widgets/base",
            "_model_module_version": "1.2.0",
            "_model_name": "LayoutModel",
            "_view_count": null,
            "_view_module": "@jupyter-widgets/base",
            "_view_module_version": "1.2.0",
            "_view_name": "LayoutView",
            "align_content": null,
            "align_items": null,
            "align_self": null,
            "border": null,
            "bottom": null,
            "display": null,
            "flex": null,
            "flex_flow": null,
            "grid_area": null,
            "grid_auto_columns": null,
            "grid_auto_flow": null,
            "grid_auto_rows": null,
            "grid_column": null,
            "grid_gap": null,
            "grid_row": null,
            "grid_template_areas": null,
            "grid_template_columns": null,
            "grid_template_rows": null,
            "height": null,
            "justify_content": null,
            "justify_items": null,
            "left": null,
            "margin": null,
            "max_height": null,
            "max_width": null,
            "min_height": null,
            "min_width": null,
            "object_fit": null,
            "object_position": null,
            "order": null,
            "overflow": null,
            "overflow_x": null,
            "overflow_y": null,
            "padding": null,
            "right": null,
            "top": null,
            "visibility": null,
            "width": null
          }
        },
        "88ae835d874a4844927c67aeec4cd37b": {
          "model_module": "@jupyter-widgets/controls",
          "model_name": "DescriptionStyleModel",
          "model_module_version": "1.5.0",
          "state": {
            "_model_module": "@jupyter-widgets/controls",
            "_model_module_version": "1.5.0",
            "_model_name": "DescriptionStyleModel",
            "_view_count": null,
            "_view_module": "@jupyter-widgets/base",
            "_view_module_version": "1.2.0",
            "_view_name": "StyleView",
            "description_width": ""
          }
        },
        "4f80b6343e4b4dca8cb1689d3b2467ee": {
          "model_module": "@jupyter-widgets/base",
          "model_name": "LayoutModel",
          "model_module_version": "1.2.0",
          "state": {
            "_model_module": "@jupyter-widgets/base",
            "_model_module_version": "1.2.0",
            "_model_name": "LayoutModel",
            "_view_count": null,
            "_view_module": "@jupyter-widgets/base",
            "_view_module_version": "1.2.0",
            "_view_name": "LayoutView",
            "align_content": null,
            "align_items": null,
            "align_self": null,
            "border": null,
            "bottom": null,
            "display": null,
            "flex": null,
            "flex_flow": null,
            "grid_area": null,
            "grid_auto_columns": null,
            "grid_auto_flow": null,
            "grid_auto_rows": null,
            "grid_column": null,
            "grid_gap": null,
            "grid_row": null,
            "grid_template_areas": null,
            "grid_template_columns": null,
            "grid_template_rows": null,
            "height": null,
            "justify_content": null,
            "justify_items": null,
            "left": null,
            "margin": null,
            "max_height": null,
            "max_width": null,
            "min_height": null,
            "min_width": null,
            "object_fit": null,
            "object_position": null,
            "order": null,
            "overflow": null,
            "overflow_x": null,
            "overflow_y": null,
            "padding": null,
            "right": null,
            "top": null,
            "visibility": null,
            "width": null
          }
        },
        "0cccc0fd026441ebad5b178aa503ab5d": {
          "model_module": "@jupyter-widgets/controls",
          "model_name": "ButtonStyleModel",
          "model_module_version": "1.5.0",
          "state": {
            "_model_module": "@jupyter-widgets/controls",
            "_model_module_version": "1.5.0",
            "_model_name": "ButtonStyleModel",
            "_view_count": null,
            "_view_module": "@jupyter-widgets/base",
            "_view_module_version": "1.2.0",
            "_view_name": "StyleView",
            "button_color": null,
            "font_weight": ""
          }
        },
        "4f8ddb1e01fc4a5181b09675ccf076b3": {
          "model_module": "@jupyter-widgets/base",
          "model_name": "LayoutModel",
          "model_module_version": "1.2.0",
          "state": {
            "_model_module": "@jupyter-widgets/base",
            "_model_module_version": "1.2.0",
            "_model_name": "LayoutModel",
            "_view_count": null,
            "_view_module": "@jupyter-widgets/base",
            "_view_module_version": "1.2.0",
            "_view_name": "LayoutView",
            "align_content": null,
            "align_items": null,
            "align_self": null,
            "border": null,
            "bottom": null,
            "display": null,
            "flex": null,
            "flex_flow": null,
            "grid_area": null,
            "grid_auto_columns": null,
            "grid_auto_flow": null,
            "grid_auto_rows": null,
            "grid_column": null,
            "grid_gap": null,
            "grid_row": null,
            "grid_template_areas": null,
            "grid_template_columns": null,
            "grid_template_rows": null,
            "height": null,
            "justify_content": null,
            "justify_items": null,
            "left": null,
            "margin": null,
            "max_height": null,
            "max_width": null,
            "min_height": null,
            "min_width": null,
            "object_fit": null,
            "object_position": null,
            "order": null,
            "overflow": null,
            "overflow_x": null,
            "overflow_y": null,
            "padding": null,
            "right": null,
            "top": null,
            "visibility": null,
            "width": null
          }
        },
        "ffa957598e084104a5d282d633ec6412": {
          "model_module": "@jupyter-widgets/controls",
          "model_name": "DescriptionStyleModel",
          "model_module_version": "1.5.0",
          "state": {
            "_model_module": "@jupyter-widgets/controls",
            "_model_module_version": "1.5.0",
            "_model_name": "DescriptionStyleModel",
            "_view_count": null,
            "_view_module": "@jupyter-widgets/base",
            "_view_module_version": "1.2.0",
            "_view_name": "StyleView",
            "description_width": ""
          }
        },
        "fa441c5d242a47f0ba3d89a5baae96f4": {
          "model_module": "@jupyter-widgets/controls",
          "model_name": "LabelModel",
          "model_module_version": "1.5.0",
          "state": {
            "_dom_classes": [],
            "_model_module": "@jupyter-widgets/controls",
            "_model_module_version": "1.5.0",
            "_model_name": "LabelModel",
            "_view_count": null,
            "_view_module": "@jupyter-widgets/controls",
            "_view_module_version": "1.5.0",
            "_view_name": "LabelView",
            "description": "",
            "description_tooltip": null,
            "layout": "IPY_MODEL_11fa5bd97d9b48f589fb117110a5edf8",
            "placeholder": "​",
            "style": "IPY_MODEL_a287ffeb218a49eabbb78234c6ff6e59",
            "value": "Connecting..."
          }
        },
        "11fa5bd97d9b48f589fb117110a5edf8": {
          "model_module": "@jupyter-widgets/base",
          "model_name": "LayoutModel",
          "model_module_version": "1.2.0",
          "state": {
            "_model_module": "@jupyter-widgets/base",
            "_model_module_version": "1.2.0",
            "_model_name": "LayoutModel",
            "_view_count": null,
            "_view_module": "@jupyter-widgets/base",
            "_view_module_version": "1.2.0",
            "_view_name": "LayoutView",
            "align_content": null,
            "align_items": null,
            "align_self": null,
            "border": null,
            "bottom": null,
            "display": null,
            "flex": null,
            "flex_flow": null,
            "grid_area": null,
            "grid_auto_columns": null,
            "grid_auto_flow": null,
            "grid_auto_rows": null,
            "grid_column": null,
            "grid_gap": null,
            "grid_row": null,
            "grid_template_areas": null,
            "grid_template_columns": null,
            "grid_template_rows": null,
            "height": null,
            "justify_content": null,
            "justify_items": null,
            "left": null,
            "margin": null,
            "max_height": null,
            "max_width": null,
            "min_height": null,
            "min_width": null,
            "object_fit": null,
            "object_position": null,
            "order": null,
            "overflow": null,
            "overflow_x": null,
            "overflow_y": null,
            "padding": null,
            "right": null,
            "top": null,
            "visibility": null,
            "width": null
          }
        },
        "a287ffeb218a49eabbb78234c6ff6e59": {
          "model_module": "@jupyter-widgets/controls",
          "model_name": "DescriptionStyleModel",
          "model_module_version": "1.5.0",
          "state": {
            "_model_module": "@jupyter-widgets/controls",
            "_model_module_version": "1.5.0",
            "_model_name": "DescriptionStyleModel",
            "_view_count": null,
            "_view_module": "@jupyter-widgets/base",
            "_view_module_version": "1.2.0",
            "_view_name": "StyleView",
            "description_width": ""
          }
        },
        "6f0e4e3ff4c04e01b01e1a7fb0e3f153": {
          "model_module": "@jupyter-widgets/controls",
          "model_name": "LabelModel",
          "model_module_version": "1.5.0",
          "state": {
            "_dom_classes": [],
            "_model_module": "@jupyter-widgets/controls",
            "_model_module_version": "1.5.0",
            "_model_name": "LabelModel",
            "_view_count": null,
            "_view_module": "@jupyter-widgets/controls",
            "_view_module_version": "1.5.0",
            "_view_name": "LabelView",
            "description": "",
            "description_tooltip": null,
            "layout": "IPY_MODEL_4aa3c93cf48c4329ad2255bba7541a39",
            "placeholder": "​",
            "style": "IPY_MODEL_c162fa1e66974d218e7dc86c02ae927a",
            "value": "Token is valid (permission: write)."
          }
        },
        "4001dc99d0ab4cd984fceeb9ef5cbada": {
          "model_module": "@jupyter-widgets/controls",
          "model_name": "LabelModel",
          "model_module_version": "1.5.0",
          "state": {
            "_dom_classes": [],
            "_model_module": "@jupyter-widgets/controls",
            "_model_module_version": "1.5.0",
            "_model_name": "LabelModel",
            "_view_count": null,
            "_view_module": "@jupyter-widgets/controls",
            "_view_module_version": "1.5.0",
            "_view_name": "LabelView",
            "description": "",
            "description_tooltip": null,
            "layout": "IPY_MODEL_a07326c6be01475b9992109f1498aa21",
            "placeholder": "​",
            "style": "IPY_MODEL_286a3e6106424cd2bf49197990b104f8",
            "value": "Your token has been saved in your configured git credential helpers (store)."
          }
        },
        "57d062b0694f4820a8a3fc9df60c0d04": {
          "model_module": "@jupyter-widgets/controls",
          "model_name": "LabelModel",
          "model_module_version": "1.5.0",
          "state": {
            "_dom_classes": [],
            "_model_module": "@jupyter-widgets/controls",
            "_model_module_version": "1.5.0",
            "_model_name": "LabelModel",
            "_view_count": null,
            "_view_module": "@jupyter-widgets/controls",
            "_view_module_version": "1.5.0",
            "_view_name": "LabelView",
            "description": "",
            "description_tooltip": null,
            "layout": "IPY_MODEL_883a2693ae6b411f9295e59d35a070e3",
            "placeholder": "​",
            "style": "IPY_MODEL_17ca6ec87cc141c295018224b9e74d02",
            "value": "Your token has been saved to /root/.cache/huggingface/token"
          }
        },
        "007c8ecf00824115bcc64f07c8189b8c": {
          "model_module": "@jupyter-widgets/controls",
          "model_name": "LabelModel",
          "model_module_version": "1.5.0",
          "state": {
            "_dom_classes": [],
            "_model_module": "@jupyter-widgets/controls",
            "_model_module_version": "1.5.0",
            "_model_name": "LabelModel",
            "_view_count": null,
            "_view_module": "@jupyter-widgets/controls",
            "_view_module_version": "1.5.0",
            "_view_name": "LabelView",
            "description": "",
            "description_tooltip": null,
            "layout": "IPY_MODEL_08b771d33a364870a072a86ed66c4e7b",
            "placeholder": "​",
            "style": "IPY_MODEL_25f3d7de43424a8eaa233d14ba6be028",
            "value": "Login successful"
          }
        },
        "4aa3c93cf48c4329ad2255bba7541a39": {
          "model_module": "@jupyter-widgets/base",
          "model_name": "LayoutModel",
          "model_module_version": "1.2.0",
          "state": {
            "_model_module": "@jupyter-widgets/base",
            "_model_module_version": "1.2.0",
            "_model_name": "LayoutModel",
            "_view_count": null,
            "_view_module": "@jupyter-widgets/base",
            "_view_module_version": "1.2.0",
            "_view_name": "LayoutView",
            "align_content": null,
            "align_items": null,
            "align_self": null,
            "border": null,
            "bottom": null,
            "display": null,
            "flex": null,
            "flex_flow": null,
            "grid_area": null,
            "grid_auto_columns": null,
            "grid_auto_flow": null,
            "grid_auto_rows": null,
            "grid_column": null,
            "grid_gap": null,
            "grid_row": null,
            "grid_template_areas": null,
            "grid_template_columns": null,
            "grid_template_rows": null,
            "height": null,
            "justify_content": null,
            "justify_items": null,
            "left": null,
            "margin": null,
            "max_height": null,
            "max_width": null,
            "min_height": null,
            "min_width": null,
            "object_fit": null,
            "object_position": null,
            "order": null,
            "overflow": null,
            "overflow_x": null,
            "overflow_y": null,
            "padding": null,
            "right": null,
            "top": null,
            "visibility": null,
            "width": null
          }
        },
        "c162fa1e66974d218e7dc86c02ae927a": {
          "model_module": "@jupyter-widgets/controls",
          "model_name": "DescriptionStyleModel",
          "model_module_version": "1.5.0",
          "state": {
            "_model_module": "@jupyter-widgets/controls",
            "_model_module_version": "1.5.0",
            "_model_name": "DescriptionStyleModel",
            "_view_count": null,
            "_view_module": "@jupyter-widgets/base",
            "_view_module_version": "1.2.0",
            "_view_name": "StyleView",
            "description_width": ""
          }
        },
        "a07326c6be01475b9992109f1498aa21": {
          "model_module": "@jupyter-widgets/base",
          "model_name": "LayoutModel",
          "model_module_version": "1.2.0",
          "state": {
            "_model_module": "@jupyter-widgets/base",
            "_model_module_version": "1.2.0",
            "_model_name": "LayoutModel",
            "_view_count": null,
            "_view_module": "@jupyter-widgets/base",
            "_view_module_version": "1.2.0",
            "_view_name": "LayoutView",
            "align_content": null,
            "align_items": null,
            "align_self": null,
            "border": null,
            "bottom": null,
            "display": null,
            "flex": null,
            "flex_flow": null,
            "grid_area": null,
            "grid_auto_columns": null,
            "grid_auto_flow": null,
            "grid_auto_rows": null,
            "grid_column": null,
            "grid_gap": null,
            "grid_row": null,
            "grid_template_areas": null,
            "grid_template_columns": null,
            "grid_template_rows": null,
            "height": null,
            "justify_content": null,
            "justify_items": null,
            "left": null,
            "margin": null,
            "max_height": null,
            "max_width": null,
            "min_height": null,
            "min_width": null,
            "object_fit": null,
            "object_position": null,
            "order": null,
            "overflow": null,
            "overflow_x": null,
            "overflow_y": null,
            "padding": null,
            "right": null,
            "top": null,
            "visibility": null,
            "width": null
          }
        },
        "286a3e6106424cd2bf49197990b104f8": {
          "model_module": "@jupyter-widgets/controls",
          "model_name": "DescriptionStyleModel",
          "model_module_version": "1.5.0",
          "state": {
            "_model_module": "@jupyter-widgets/controls",
            "_model_module_version": "1.5.0",
            "_model_name": "DescriptionStyleModel",
            "_view_count": null,
            "_view_module": "@jupyter-widgets/base",
            "_view_module_version": "1.2.0",
            "_view_name": "StyleView",
            "description_width": ""
          }
        },
        "883a2693ae6b411f9295e59d35a070e3": {
          "model_module": "@jupyter-widgets/base",
          "model_name": "LayoutModel",
          "model_module_version": "1.2.0",
          "state": {
            "_model_module": "@jupyter-widgets/base",
            "_model_module_version": "1.2.0",
            "_model_name": "LayoutModel",
            "_view_count": null,
            "_view_module": "@jupyter-widgets/base",
            "_view_module_version": "1.2.0",
            "_view_name": "LayoutView",
            "align_content": null,
            "align_items": null,
            "align_self": null,
            "border": null,
            "bottom": null,
            "display": null,
            "flex": null,
            "flex_flow": null,
            "grid_area": null,
            "grid_auto_columns": null,
            "grid_auto_flow": null,
            "grid_auto_rows": null,
            "grid_column": null,
            "grid_gap": null,
            "grid_row": null,
            "grid_template_areas": null,
            "grid_template_columns": null,
            "grid_template_rows": null,
            "height": null,
            "justify_content": null,
            "justify_items": null,
            "left": null,
            "margin": null,
            "max_height": null,
            "max_width": null,
            "min_height": null,
            "min_width": null,
            "object_fit": null,
            "object_position": null,
            "order": null,
            "overflow": null,
            "overflow_x": null,
            "overflow_y": null,
            "padding": null,
            "right": null,
            "top": null,
            "visibility": null,
            "width": null
          }
        },
        "17ca6ec87cc141c295018224b9e74d02": {
          "model_module": "@jupyter-widgets/controls",
          "model_name": "DescriptionStyleModel",
          "model_module_version": "1.5.0",
          "state": {
            "_model_module": "@jupyter-widgets/controls",
            "_model_module_version": "1.5.0",
            "_model_name": "DescriptionStyleModel",
            "_view_count": null,
            "_view_module": "@jupyter-widgets/base",
            "_view_module_version": "1.2.0",
            "_view_name": "StyleView",
            "description_width": ""
          }
        },
        "08b771d33a364870a072a86ed66c4e7b": {
          "model_module": "@jupyter-widgets/base",
          "model_name": "LayoutModel",
          "model_module_version": "1.2.0",
          "state": {
            "_model_module": "@jupyter-widgets/base",
            "_model_module_version": "1.2.0",
            "_model_name": "LayoutModel",
            "_view_count": null,
            "_view_module": "@jupyter-widgets/base",
            "_view_module_version": "1.2.0",
            "_view_name": "LayoutView",
            "align_content": null,
            "align_items": null,
            "align_self": null,
            "border": null,
            "bottom": null,
            "display": null,
            "flex": null,
            "flex_flow": null,
            "grid_area": null,
            "grid_auto_columns": null,
            "grid_auto_flow": null,
            "grid_auto_rows": null,
            "grid_column": null,
            "grid_gap": null,
            "grid_row": null,
            "grid_template_areas": null,
            "grid_template_columns": null,
            "grid_template_rows": null,
            "height": null,
            "justify_content": null,
            "justify_items": null,
            "left": null,
            "margin": null,
            "max_height": null,
            "max_width": null,
            "min_height": null,
            "min_width": null,
            "object_fit": null,
            "object_position": null,
            "order": null,
            "overflow": null,
            "overflow_x": null,
            "overflow_y": null,
            "padding": null,
            "right": null,
            "top": null,
            "visibility": null,
            "width": null
          }
        },
        "25f3d7de43424a8eaa233d14ba6be028": {
          "model_module": "@jupyter-widgets/controls",
          "model_name": "DescriptionStyleModel",
          "model_module_version": "1.5.0",
          "state": {
            "_model_module": "@jupyter-widgets/controls",
            "_model_module_version": "1.5.0",
            "_model_name": "DescriptionStyleModel",
            "_view_count": null,
            "_view_module": "@jupyter-widgets/base",
            "_view_module_version": "1.2.0",
            "_view_name": "StyleView",
            "description_width": ""
          }
        },
        "200fac749e0b47d68d1a521147c07963": {
          "model_module": "@jupyter-widgets/controls",
          "model_name": "HBoxModel",
          "model_module_version": "1.5.0",
          "state": {
            "_dom_classes": [],
            "_model_module": "@jupyter-widgets/controls",
            "_model_module_version": "1.5.0",
            "_model_name": "HBoxModel",
            "_view_count": null,
            "_view_module": "@jupyter-widgets/controls",
            "_view_module_version": "1.5.0",
            "_view_name": "HBoxView",
            "box_style": "",
            "children": [
              "IPY_MODEL_30c696d73ad94025b7253378525342e0",
              "IPY_MODEL_2938f2fd55b6484aab13284962c0498e",
              "IPY_MODEL_3aadc4e3e42b48219b97ee0e4ff6cf69"
            ],
            "layout": "IPY_MODEL_908a7c9a25bb4a59bf9f580280cc4a39"
          }
        },
        "30c696d73ad94025b7253378525342e0": {
          "model_module": "@jupyter-widgets/controls",
          "model_name": "HTMLModel",
          "model_module_version": "1.5.0",
          "state": {
            "_dom_classes": [],
            "_model_module": "@jupyter-widgets/controls",
            "_model_module_version": "1.5.0",
            "_model_name": "HTMLModel",
            "_view_count": null,
            "_view_module": "@jupyter-widgets/controls",
            "_view_module_version": "1.5.0",
            "_view_name": "HTMLView",
            "description": "",
            "description_tooltip": null,
            "layout": "IPY_MODEL_58ac070a7d6c4ce398773bdb306acb3a",
            "placeholder": "​",
            "style": "IPY_MODEL_2ca26e125e7545c4bfdd08f0f73eca79",
            "value": "Map: 100%"
          }
        },
        "2938f2fd55b6484aab13284962c0498e": {
          "model_module": "@jupyter-widgets/controls",
          "model_name": "FloatProgressModel",
          "model_module_version": "1.5.0",
          "state": {
            "_dom_classes": [],
            "_model_module": "@jupyter-widgets/controls",
            "_model_module_version": "1.5.0",
            "_model_name": "FloatProgressModel",
            "_view_count": null,
            "_view_module": "@jupyter-widgets/controls",
            "_view_module_version": "1.5.0",
            "_view_name": "ProgressView",
            "bar_style": "success",
            "description": "",
            "description_tooltip": null,
            "layout": "IPY_MODEL_d8581cac848f493d97e51cb4765c0297",
            "max": 3099,
            "min": 0,
            "orientation": "horizontal",
            "style": "IPY_MODEL_a607859cc59c40ecb377331c13d7b7ea",
            "value": 3099
          }
        },
        "3aadc4e3e42b48219b97ee0e4ff6cf69": {
          "model_module": "@jupyter-widgets/controls",
          "model_name": "HTMLModel",
          "model_module_version": "1.5.0",
          "state": {
            "_dom_classes": [],
            "_model_module": "@jupyter-widgets/controls",
            "_model_module_version": "1.5.0",
            "_model_name": "HTMLModel",
            "_view_count": null,
            "_view_module": "@jupyter-widgets/controls",
            "_view_module_version": "1.5.0",
            "_view_name": "HTMLView",
            "description": "",
            "description_tooltip": null,
            "layout": "IPY_MODEL_b8d7d296723d4bd4b4253e20f76e9684",
            "placeholder": "​",
            "style": "IPY_MODEL_b09adac3d6904fa8a75a628f52e6dccc",
            "value": " 3099/3099 [00:00&lt;00:00, 8357.89 examples/s]"
          }
        },
        "908a7c9a25bb4a59bf9f580280cc4a39": {
          "model_module": "@jupyter-widgets/base",
          "model_name": "LayoutModel",
          "model_module_version": "1.2.0",
          "state": {
            "_model_module": "@jupyter-widgets/base",
            "_model_module_version": "1.2.0",
            "_model_name": "LayoutModel",
            "_view_count": null,
            "_view_module": "@jupyter-widgets/base",
            "_view_module_version": "1.2.0",
            "_view_name": "LayoutView",
            "align_content": null,
            "align_items": null,
            "align_self": null,
            "border": null,
            "bottom": null,
            "display": null,
            "flex": null,
            "flex_flow": null,
            "grid_area": null,
            "grid_auto_columns": null,
            "grid_auto_flow": null,
            "grid_auto_rows": null,
            "grid_column": null,
            "grid_gap": null,
            "grid_row": null,
            "grid_template_areas": null,
            "grid_template_columns": null,
            "grid_template_rows": null,
            "height": null,
            "justify_content": null,
            "justify_items": null,
            "left": null,
            "margin": null,
            "max_height": null,
            "max_width": null,
            "min_height": null,
            "min_width": null,
            "object_fit": null,
            "object_position": null,
            "order": null,
            "overflow": null,
            "overflow_x": null,
            "overflow_y": null,
            "padding": null,
            "right": null,
            "top": null,
            "visibility": null,
            "width": null
          }
        },
        "58ac070a7d6c4ce398773bdb306acb3a": {
          "model_module": "@jupyter-widgets/base",
          "model_name": "LayoutModel",
          "model_module_version": "1.2.0",
          "state": {
            "_model_module": "@jupyter-widgets/base",
            "_model_module_version": "1.2.0",
            "_model_name": "LayoutModel",
            "_view_count": null,
            "_view_module": "@jupyter-widgets/base",
            "_view_module_version": "1.2.0",
            "_view_name": "LayoutView",
            "align_content": null,
            "align_items": null,
            "align_self": null,
            "border": null,
            "bottom": null,
            "display": null,
            "flex": null,
            "flex_flow": null,
            "grid_area": null,
            "grid_auto_columns": null,
            "grid_auto_flow": null,
            "grid_auto_rows": null,
            "grid_column": null,
            "grid_gap": null,
            "grid_row": null,
            "grid_template_areas": null,
            "grid_template_columns": null,
            "grid_template_rows": null,
            "height": null,
            "justify_content": null,
            "justify_items": null,
            "left": null,
            "margin": null,
            "max_height": null,
            "max_width": null,
            "min_height": null,
            "min_width": null,
            "object_fit": null,
            "object_position": null,
            "order": null,
            "overflow": null,
            "overflow_x": null,
            "overflow_y": null,
            "padding": null,
            "right": null,
            "top": null,
            "visibility": null,
            "width": null
          }
        },
        "2ca26e125e7545c4bfdd08f0f73eca79": {
          "model_module": "@jupyter-widgets/controls",
          "model_name": "DescriptionStyleModel",
          "model_module_version": "1.5.0",
          "state": {
            "_model_module": "@jupyter-widgets/controls",
            "_model_module_version": "1.5.0",
            "_model_name": "DescriptionStyleModel",
            "_view_count": null,
            "_view_module": "@jupyter-widgets/base",
            "_view_module_version": "1.2.0",
            "_view_name": "StyleView",
            "description_width": ""
          }
        },
        "d8581cac848f493d97e51cb4765c0297": {
          "model_module": "@jupyter-widgets/base",
          "model_name": "LayoutModel",
          "model_module_version": "1.2.0",
          "state": {
            "_model_module": "@jupyter-widgets/base",
            "_model_module_version": "1.2.0",
            "_model_name": "LayoutModel",
            "_view_count": null,
            "_view_module": "@jupyter-widgets/base",
            "_view_module_version": "1.2.0",
            "_view_name": "LayoutView",
            "align_content": null,
            "align_items": null,
            "align_self": null,
            "border": null,
            "bottom": null,
            "display": null,
            "flex": null,
            "flex_flow": null,
            "grid_area": null,
            "grid_auto_columns": null,
            "grid_auto_flow": null,
            "grid_auto_rows": null,
            "grid_column": null,
            "grid_gap": null,
            "grid_row": null,
            "grid_template_areas": null,
            "grid_template_columns": null,
            "grid_template_rows": null,
            "height": null,
            "justify_content": null,
            "justify_items": null,
            "left": null,
            "margin": null,
            "max_height": null,
            "max_width": null,
            "min_height": null,
            "min_width": null,
            "object_fit": null,
            "object_position": null,
            "order": null,
            "overflow": null,
            "overflow_x": null,
            "overflow_y": null,
            "padding": null,
            "right": null,
            "top": null,
            "visibility": null,
            "width": null
          }
        },
        "a607859cc59c40ecb377331c13d7b7ea": {
          "model_module": "@jupyter-widgets/controls",
          "model_name": "ProgressStyleModel",
          "model_module_version": "1.5.0",
          "state": {
            "_model_module": "@jupyter-widgets/controls",
            "_model_module_version": "1.5.0",
            "_model_name": "ProgressStyleModel",
            "_view_count": null,
            "_view_module": "@jupyter-widgets/base",
            "_view_module_version": "1.2.0",
            "_view_name": "StyleView",
            "bar_color": null,
            "description_width": ""
          }
        },
        "b8d7d296723d4bd4b4253e20f76e9684": {
          "model_module": "@jupyter-widgets/base",
          "model_name": "LayoutModel",
          "model_module_version": "1.2.0",
          "state": {
            "_model_module": "@jupyter-widgets/base",
            "_model_module_version": "1.2.0",
            "_model_name": "LayoutModel",
            "_view_count": null,
            "_view_module": "@jupyter-widgets/base",
            "_view_module_version": "1.2.0",
            "_view_name": "LayoutView",
            "align_content": null,
            "align_items": null,
            "align_self": null,
            "border": null,
            "bottom": null,
            "display": null,
            "flex": null,
            "flex_flow": null,
            "grid_area": null,
            "grid_auto_columns": null,
            "grid_auto_flow": null,
            "grid_auto_rows": null,
            "grid_column": null,
            "grid_gap": null,
            "grid_row": null,
            "grid_template_areas": null,
            "grid_template_columns": null,
            "grid_template_rows": null,
            "height": null,
            "justify_content": null,
            "justify_items": null,
            "left": null,
            "margin": null,
            "max_height": null,
            "max_width": null,
            "min_height": null,
            "min_width": null,
            "object_fit": null,
            "object_position": null,
            "order": null,
            "overflow": null,
            "overflow_x": null,
            "overflow_y": null,
            "padding": null,
            "right": null,
            "top": null,
            "visibility": null,
            "width": null
          }
        },
        "b09adac3d6904fa8a75a628f52e6dccc": {
          "model_module": "@jupyter-widgets/controls",
          "model_name": "DescriptionStyleModel",
          "model_module_version": "1.5.0",
          "state": {
            "_model_module": "@jupyter-widgets/controls",
            "_model_module_version": "1.5.0",
            "_model_name": "DescriptionStyleModel",
            "_view_count": null,
            "_view_module": "@jupyter-widgets/base",
            "_view_module_version": "1.2.0",
            "_view_name": "StyleView",
            "description_width": ""
          }
        },
        "afa4ee35998c41bc90041378b777539e": {
          "model_module": "@jupyter-widgets/controls",
          "model_name": "HBoxModel",
          "model_module_version": "1.5.0",
          "state": {
            "_dom_classes": [],
            "_model_module": "@jupyter-widgets/controls",
            "_model_module_version": "1.5.0",
            "_model_name": "HBoxModel",
            "_view_count": null,
            "_view_module": "@jupyter-widgets/controls",
            "_view_module_version": "1.5.0",
            "_view_name": "HBoxView",
            "box_style": "",
            "children": [
              "IPY_MODEL_78409e55d4b948d780e421df44158513",
              "IPY_MODEL_b7c31a4ba79b449cbbc304fc5f2c8cff",
              "IPY_MODEL_58002b1149a6426580ab4fcb09b42e99"
            ],
            "layout": "IPY_MODEL_d0d1f51a66b94a57a18b8406add9db03"
          }
        },
        "78409e55d4b948d780e421df44158513": {
          "model_module": "@jupyter-widgets/controls",
          "model_name": "HTMLModel",
          "model_module_version": "1.5.0",
          "state": {
            "_dom_classes": [],
            "_model_module": "@jupyter-widgets/controls",
            "_model_module_version": "1.5.0",
            "_model_name": "HTMLModel",
            "_view_count": null,
            "_view_module": "@jupyter-widgets/controls",
            "_view_module_version": "1.5.0",
            "_view_name": "HTMLView",
            "description": "",
            "description_tooltip": null,
            "layout": "IPY_MODEL_045fd4f16f6443c99bb2af5583f6da57",
            "placeholder": "​",
            "style": "IPY_MODEL_c924a7b4ba764bbb8d8d7a8dceb81576",
            "value": "model.safetensors: 100%"
          }
        },
        "b7c31a4ba79b449cbbc304fc5f2c8cff": {
          "model_module": "@jupyter-widgets/controls",
          "model_name": "FloatProgressModel",
          "model_module_version": "1.5.0",
          "state": {
            "_dom_classes": [],
            "_model_module": "@jupyter-widgets/controls",
            "_model_module_version": "1.5.0",
            "_model_name": "FloatProgressModel",
            "_view_count": null,
            "_view_module": "@jupyter-widgets/controls",
            "_view_module_version": "1.5.0",
            "_view_name": "ProgressView",
            "bar_style": "success",
            "description": "",
            "description_tooltip": null,
            "layout": "IPY_MODEL_299bebd0de0540b58bdfd89d8043770f",
            "max": 267832560,
            "min": 0,
            "orientation": "horizontal",
            "style": "IPY_MODEL_6d4acbae06004d54a9c727a7c9371afb",
            "value": 267832560
          }
        },
        "58002b1149a6426580ab4fcb09b42e99": {
          "model_module": "@jupyter-widgets/controls",
          "model_name": "HTMLModel",
          "model_module_version": "1.5.0",
          "state": {
            "_dom_classes": [],
            "_model_module": "@jupyter-widgets/controls",
            "_model_module_version": "1.5.0",
            "_model_name": "HTMLModel",
            "_view_count": null,
            "_view_module": "@jupyter-widgets/controls",
            "_view_module_version": "1.5.0",
            "_view_name": "HTMLView",
            "description": "",
            "description_tooltip": null,
            "layout": "IPY_MODEL_4b4e0b750b4b45c296c1840a01145e70",
            "placeholder": "​",
            "style": "IPY_MODEL_540e68ac3f674cd58228ff27209ce93a",
            "value": " 268M/268M [00:10&lt;00:00, 31.0MB/s]"
          }
        },
        "d0d1f51a66b94a57a18b8406add9db03": {
          "model_module": "@jupyter-widgets/base",
          "model_name": "LayoutModel",
          "model_module_version": "1.2.0",
          "state": {
            "_model_module": "@jupyter-widgets/base",
            "_model_module_version": "1.2.0",
            "_model_name": "LayoutModel",
            "_view_count": null,
            "_view_module": "@jupyter-widgets/base",
            "_view_module_version": "1.2.0",
            "_view_name": "LayoutView",
            "align_content": null,
            "align_items": null,
            "align_self": null,
            "border": null,
            "bottom": null,
            "display": null,
            "flex": null,
            "flex_flow": null,
            "grid_area": null,
            "grid_auto_columns": null,
            "grid_auto_flow": null,
            "grid_auto_rows": null,
            "grid_column": null,
            "grid_gap": null,
            "grid_row": null,
            "grid_template_areas": null,
            "grid_template_columns": null,
            "grid_template_rows": null,
            "height": null,
            "justify_content": null,
            "justify_items": null,
            "left": null,
            "margin": null,
            "max_height": null,
            "max_width": null,
            "min_height": null,
            "min_width": null,
            "object_fit": null,
            "object_position": null,
            "order": null,
            "overflow": null,
            "overflow_x": null,
            "overflow_y": null,
            "padding": null,
            "right": null,
            "top": null,
            "visibility": null,
            "width": null
          }
        },
        "045fd4f16f6443c99bb2af5583f6da57": {
          "model_module": "@jupyter-widgets/base",
          "model_name": "LayoutModel",
          "model_module_version": "1.2.0",
          "state": {
            "_model_module": "@jupyter-widgets/base",
            "_model_module_version": "1.2.0",
            "_model_name": "LayoutModel",
            "_view_count": null,
            "_view_module": "@jupyter-widgets/base",
            "_view_module_version": "1.2.0",
            "_view_name": "LayoutView",
            "align_content": null,
            "align_items": null,
            "align_self": null,
            "border": null,
            "bottom": null,
            "display": null,
            "flex": null,
            "flex_flow": null,
            "grid_area": null,
            "grid_auto_columns": null,
            "grid_auto_flow": null,
            "grid_auto_rows": null,
            "grid_column": null,
            "grid_gap": null,
            "grid_row": null,
            "grid_template_areas": null,
            "grid_template_columns": null,
            "grid_template_rows": null,
            "height": null,
            "justify_content": null,
            "justify_items": null,
            "left": null,
            "margin": null,
            "max_height": null,
            "max_width": null,
            "min_height": null,
            "min_width": null,
            "object_fit": null,
            "object_position": null,
            "order": null,
            "overflow": null,
            "overflow_x": null,
            "overflow_y": null,
            "padding": null,
            "right": null,
            "top": null,
            "visibility": null,
            "width": null
          }
        },
        "c924a7b4ba764bbb8d8d7a8dceb81576": {
          "model_module": "@jupyter-widgets/controls",
          "model_name": "DescriptionStyleModel",
          "model_module_version": "1.5.0",
          "state": {
            "_model_module": "@jupyter-widgets/controls",
            "_model_module_version": "1.5.0",
            "_model_name": "DescriptionStyleModel",
            "_view_count": null,
            "_view_module": "@jupyter-widgets/base",
            "_view_module_version": "1.2.0",
            "_view_name": "StyleView",
            "description_width": ""
          }
        },
        "299bebd0de0540b58bdfd89d8043770f": {
          "model_module": "@jupyter-widgets/base",
          "model_name": "LayoutModel",
          "model_module_version": "1.2.0",
          "state": {
            "_model_module": "@jupyter-widgets/base",
            "_model_module_version": "1.2.0",
            "_model_name": "LayoutModel",
            "_view_count": null,
            "_view_module": "@jupyter-widgets/base",
            "_view_module_version": "1.2.0",
            "_view_name": "LayoutView",
            "align_content": null,
            "align_items": null,
            "align_self": null,
            "border": null,
            "bottom": null,
            "display": null,
            "flex": null,
            "flex_flow": null,
            "grid_area": null,
            "grid_auto_columns": null,
            "grid_auto_flow": null,
            "grid_auto_rows": null,
            "grid_column": null,
            "grid_gap": null,
            "grid_row": null,
            "grid_template_areas": null,
            "grid_template_columns": null,
            "grid_template_rows": null,
            "height": null,
            "justify_content": null,
            "justify_items": null,
            "left": null,
            "margin": null,
            "max_height": null,
            "max_width": null,
            "min_height": null,
            "min_width": null,
            "object_fit": null,
            "object_position": null,
            "order": null,
            "overflow": null,
            "overflow_x": null,
            "overflow_y": null,
            "padding": null,
            "right": null,
            "top": null,
            "visibility": null,
            "width": null
          }
        },
        "6d4acbae06004d54a9c727a7c9371afb": {
          "model_module": "@jupyter-widgets/controls",
          "model_name": "ProgressStyleModel",
          "model_module_version": "1.5.0",
          "state": {
            "_model_module": "@jupyter-widgets/controls",
            "_model_module_version": "1.5.0",
            "_model_name": "ProgressStyleModel",
            "_view_count": null,
            "_view_module": "@jupyter-widgets/base",
            "_view_module_version": "1.2.0",
            "_view_name": "StyleView",
            "bar_color": null,
            "description_width": ""
          }
        },
        "4b4e0b750b4b45c296c1840a01145e70": {
          "model_module": "@jupyter-widgets/base",
          "model_name": "LayoutModel",
          "model_module_version": "1.2.0",
          "state": {
            "_model_module": "@jupyter-widgets/base",
            "_model_module_version": "1.2.0",
            "_model_name": "LayoutModel",
            "_view_count": null,
            "_view_module": "@jupyter-widgets/base",
            "_view_module_version": "1.2.0",
            "_view_name": "LayoutView",
            "align_content": null,
            "align_items": null,
            "align_self": null,
            "border": null,
            "bottom": null,
            "display": null,
            "flex": null,
            "flex_flow": null,
            "grid_area": null,
            "grid_auto_columns": null,
            "grid_auto_flow": null,
            "grid_auto_rows": null,
            "grid_column": null,
            "grid_gap": null,
            "grid_row": null,
            "grid_template_areas": null,
            "grid_template_columns": null,
            "grid_template_rows": null,
            "height": null,
            "justify_content": null,
            "justify_items": null,
            "left": null,
            "margin": null,
            "max_height": null,
            "max_width": null,
            "min_height": null,
            "min_width": null,
            "object_fit": null,
            "object_position": null,
            "order": null,
            "overflow": null,
            "overflow_x": null,
            "overflow_y": null,
            "padding": null,
            "right": null,
            "top": null,
            "visibility": null,
            "width": null
          }
        },
        "540e68ac3f674cd58228ff27209ce93a": {
          "model_module": "@jupyter-widgets/controls",
          "model_name": "DescriptionStyleModel",
          "model_module_version": "1.5.0",
          "state": {
            "_model_module": "@jupyter-widgets/controls",
            "_model_module_version": "1.5.0",
            "_model_name": "DescriptionStyleModel",
            "_view_count": null,
            "_view_module": "@jupyter-widgets/base",
            "_view_module_version": "1.2.0",
            "_view_name": "StyleView",
            "description_width": ""
          }
        },
        "1e6f46d9d4f14501a68590d0db874bf2": {
          "model_module": "@jupyter-widgets/controls",
          "model_name": "HBoxModel",
          "model_module_version": "1.5.0",
          "state": {
            "_dom_classes": [],
            "_model_module": "@jupyter-widgets/controls",
            "_model_module_version": "1.5.0",
            "_model_name": "HBoxModel",
            "_view_count": null,
            "_view_module": "@jupyter-widgets/controls",
            "_view_module_version": "1.5.0",
            "_view_name": "HBoxView",
            "box_style": "",
            "children": [
              "IPY_MODEL_6c47d202bdbf430e8c2bcc2f02896b06",
              "IPY_MODEL_e085dfe81ae448199c1d47d2774cb2ad",
              "IPY_MODEL_18679d2da3b24dbb8898e878b15766ca"
            ],
            "layout": "IPY_MODEL_42ad43468d904611b0f45a8b258dcf74"
          }
        },
        "6c47d202bdbf430e8c2bcc2f02896b06": {
          "model_module": "@jupyter-widgets/controls",
          "model_name": "HTMLModel",
          "model_module_version": "1.5.0",
          "state": {
            "_dom_classes": [],
            "_model_module": "@jupyter-widgets/controls",
            "_model_module_version": "1.5.0",
            "_model_name": "HTMLModel",
            "_view_count": null,
            "_view_module": "@jupyter-widgets/controls",
            "_view_module_version": "1.5.0",
            "_view_name": "HTMLView",
            "description": "",
            "description_tooltip": null,
            "layout": "IPY_MODEL_f1485dffe20042eb95674755afa8dd01",
            "placeholder": "​",
            "style": "IPY_MODEL_906454ceef1a4071b8f4f5d9a87e2a51",
            "value": "model.safetensors: 100%"
          }
        },
        "e085dfe81ae448199c1d47d2774cb2ad": {
          "model_module": "@jupyter-widgets/controls",
          "model_name": "FloatProgressModel",
          "model_module_version": "1.5.0",
          "state": {
            "_dom_classes": [],
            "_model_module": "@jupyter-widgets/controls",
            "_model_module_version": "1.5.0",
            "_model_name": "FloatProgressModel",
            "_view_count": null,
            "_view_module": "@jupyter-widgets/controls",
            "_view_module_version": "1.5.0",
            "_view_name": "ProgressView",
            "bar_style": "success",
            "description": "",
            "description_tooltip": null,
            "layout": "IPY_MODEL_5e208f3e7c064b74a08db68942a33770",
            "max": 267832560,
            "min": 0,
            "orientation": "horizontal",
            "style": "IPY_MODEL_f7510221122746e58bb9b4f1d011167d",
            "value": 267832560
          }
        },
        "18679d2da3b24dbb8898e878b15766ca": {
          "model_module": "@jupyter-widgets/controls",
          "model_name": "HTMLModel",
          "model_module_version": "1.5.0",
          "state": {
            "_dom_classes": [],
            "_model_module": "@jupyter-widgets/controls",
            "_model_module_version": "1.5.0",
            "_model_name": "HTMLModel",
            "_view_count": null,
            "_view_module": "@jupyter-widgets/controls",
            "_view_module_version": "1.5.0",
            "_view_name": "HTMLView",
            "description": "",
            "description_tooltip": null,
            "layout": "IPY_MODEL_acdc4d5361a44335a8ab526154c138b3",
            "placeholder": "​",
            "style": "IPY_MODEL_f8e66e639ade4a49ad15b9a82538b14d",
            "value": " 268M/268M [00:07&lt;00:00, 43.4MB/s]"
          }
        },
        "42ad43468d904611b0f45a8b258dcf74": {
          "model_module": "@jupyter-widgets/base",
          "model_name": "LayoutModel",
          "model_module_version": "1.2.0",
          "state": {
            "_model_module": "@jupyter-widgets/base",
            "_model_module_version": "1.2.0",
            "_model_name": "LayoutModel",
            "_view_count": null,
            "_view_module": "@jupyter-widgets/base",
            "_view_module_version": "1.2.0",
            "_view_name": "LayoutView",
            "align_content": null,
            "align_items": null,
            "align_self": null,
            "border": null,
            "bottom": null,
            "display": null,
            "flex": null,
            "flex_flow": null,
            "grid_area": null,
            "grid_auto_columns": null,
            "grid_auto_flow": null,
            "grid_auto_rows": null,
            "grid_column": null,
            "grid_gap": null,
            "grid_row": null,
            "grid_template_areas": null,
            "grid_template_columns": null,
            "grid_template_rows": null,
            "height": null,
            "justify_content": null,
            "justify_items": null,
            "left": null,
            "margin": null,
            "max_height": null,
            "max_width": null,
            "min_height": null,
            "min_width": null,
            "object_fit": null,
            "object_position": null,
            "order": null,
            "overflow": null,
            "overflow_x": null,
            "overflow_y": null,
            "padding": null,
            "right": null,
            "top": null,
            "visibility": null,
            "width": null
          }
        },
        "f1485dffe20042eb95674755afa8dd01": {
          "model_module": "@jupyter-widgets/base",
          "model_name": "LayoutModel",
          "model_module_version": "1.2.0",
          "state": {
            "_model_module": "@jupyter-widgets/base",
            "_model_module_version": "1.2.0",
            "_model_name": "LayoutModel",
            "_view_count": null,
            "_view_module": "@jupyter-widgets/base",
            "_view_module_version": "1.2.0",
            "_view_name": "LayoutView",
            "align_content": null,
            "align_items": null,
            "align_self": null,
            "border": null,
            "bottom": null,
            "display": null,
            "flex": null,
            "flex_flow": null,
            "grid_area": null,
            "grid_auto_columns": null,
            "grid_auto_flow": null,
            "grid_auto_rows": null,
            "grid_column": null,
            "grid_gap": null,
            "grid_row": null,
            "grid_template_areas": null,
            "grid_template_columns": null,
            "grid_template_rows": null,
            "height": null,
            "justify_content": null,
            "justify_items": null,
            "left": null,
            "margin": null,
            "max_height": null,
            "max_width": null,
            "min_height": null,
            "min_width": null,
            "object_fit": null,
            "object_position": null,
            "order": null,
            "overflow": null,
            "overflow_x": null,
            "overflow_y": null,
            "padding": null,
            "right": null,
            "top": null,
            "visibility": null,
            "width": null
          }
        },
        "906454ceef1a4071b8f4f5d9a87e2a51": {
          "model_module": "@jupyter-widgets/controls",
          "model_name": "DescriptionStyleModel",
          "model_module_version": "1.5.0",
          "state": {
            "_model_module": "@jupyter-widgets/controls",
            "_model_module_version": "1.5.0",
            "_model_name": "DescriptionStyleModel",
            "_view_count": null,
            "_view_module": "@jupyter-widgets/base",
            "_view_module_version": "1.2.0",
            "_view_name": "StyleView",
            "description_width": ""
          }
        },
        "5e208f3e7c064b74a08db68942a33770": {
          "model_module": "@jupyter-widgets/base",
          "model_name": "LayoutModel",
          "model_module_version": "1.2.0",
          "state": {
            "_model_module": "@jupyter-widgets/base",
            "_model_module_version": "1.2.0",
            "_model_name": "LayoutModel",
            "_view_count": null,
            "_view_module": "@jupyter-widgets/base",
            "_view_module_version": "1.2.0",
            "_view_name": "LayoutView",
            "align_content": null,
            "align_items": null,
            "align_self": null,
            "border": null,
            "bottom": null,
            "display": null,
            "flex": null,
            "flex_flow": null,
            "grid_area": null,
            "grid_auto_columns": null,
            "grid_auto_flow": null,
            "grid_auto_rows": null,
            "grid_column": null,
            "grid_gap": null,
            "grid_row": null,
            "grid_template_areas": null,
            "grid_template_columns": null,
            "grid_template_rows": null,
            "height": null,
            "justify_content": null,
            "justify_items": null,
            "left": null,
            "margin": null,
            "max_height": null,
            "max_width": null,
            "min_height": null,
            "min_width": null,
            "object_fit": null,
            "object_position": null,
            "order": null,
            "overflow": null,
            "overflow_x": null,
            "overflow_y": null,
            "padding": null,
            "right": null,
            "top": null,
            "visibility": null,
            "width": null
          }
        },
        "f7510221122746e58bb9b4f1d011167d": {
          "model_module": "@jupyter-widgets/controls",
          "model_name": "ProgressStyleModel",
          "model_module_version": "1.5.0",
          "state": {
            "_model_module": "@jupyter-widgets/controls",
            "_model_module_version": "1.5.0",
            "_model_name": "ProgressStyleModel",
            "_view_count": null,
            "_view_module": "@jupyter-widgets/base",
            "_view_module_version": "1.2.0",
            "_view_name": "StyleView",
            "bar_color": null,
            "description_width": ""
          }
        },
        "acdc4d5361a44335a8ab526154c138b3": {
          "model_module": "@jupyter-widgets/base",
          "model_name": "LayoutModel",
          "model_module_version": "1.2.0",
          "state": {
            "_model_module": "@jupyter-widgets/base",
            "_model_module_version": "1.2.0",
            "_model_name": "LayoutModel",
            "_view_count": null,
            "_view_module": "@jupyter-widgets/base",
            "_view_module_version": "1.2.0",
            "_view_name": "LayoutView",
            "align_content": null,
            "align_items": null,
            "align_self": null,
            "border": null,
            "bottom": null,
            "display": null,
            "flex": null,
            "flex_flow": null,
            "grid_area": null,
            "grid_auto_columns": null,
            "grid_auto_flow": null,
            "grid_auto_rows": null,
            "grid_column": null,
            "grid_gap": null,
            "grid_row": null,
            "grid_template_areas": null,
            "grid_template_columns": null,
            "grid_template_rows": null,
            "height": null,
            "justify_content": null,
            "justify_items": null,
            "left": null,
            "margin": null,
            "max_height": null,
            "max_width": null,
            "min_height": null,
            "min_width": null,
            "object_fit": null,
            "object_position": null,
            "order": null,
            "overflow": null,
            "overflow_x": null,
            "overflow_y": null,
            "padding": null,
            "right": null,
            "top": null,
            "visibility": null,
            "width": null
          }
        },
        "f8e66e639ade4a49ad15b9a82538b14d": {
          "model_module": "@jupyter-widgets/controls",
          "model_name": "DescriptionStyleModel",
          "model_module_version": "1.5.0",
          "state": {
            "_model_module": "@jupyter-widgets/controls",
            "_model_module_version": "1.5.0",
            "_model_name": "DescriptionStyleModel",
            "_view_count": null,
            "_view_module": "@jupyter-widgets/base",
            "_view_module_version": "1.2.0",
            "_view_name": "StyleView",
            "description_width": ""
          }
        }
      }
    }
  },
  "nbformat": 4,
  "nbformat_minor": 5
}